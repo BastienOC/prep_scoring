{
 "cells": [
  {
   "cell_type": "markdown",
   "metadata": {},
   "source": [
    "# <font color=orange><div style=\"text-align:center;\">**OPENCLASSROOMS**</div></font>\n"
   ]
  },
  {
   "cell_type": "markdown",
   "metadata": {},
   "source": [
    "## *PROJET 7 : Implémentez un modèle de scoring*\n"
   ]
  },
  {
   "cell_type": "markdown",
   "metadata": {},
   "source": [
    "## <font color=orange><div style=\"text-align:center;\">**SOMMAIRE**</font></span>"
   ]
  },
  {
   "cell_type": "code",
   "execution_count": null,
   "metadata": {},
   "outputs": [],
   "source": []
  },
  {
   "cell_type": "code",
   "execution_count": 157,
   "metadata": {},
   "outputs": [],
   "source": [
    "import warnings\n",
    "warnings.filterwarnings('ignore')"
   ]
  },
  {
   "cell_type": "code",
   "execution_count": 158,
   "metadata": {},
   "outputs": [],
   "source": [
    "import pandas as pd\n",
    "import matplotlib.pyplot as plt\n",
    "import numpy as np\n",
    "import seaborn as sn\n",
    "\n",
    "from statsmodels.formula.api import ols"
   ]
  },
  {
   "cell_type": "code",
   "execution_count": 159,
   "metadata": {},
   "outputs": [],
   "source": [
    "# import data\n",
    "\n",
    "app_test = pd.read_csv('application_test.csv')\n",
    "app_train = pd.read_csv('application_train.csv')\n",
    "bureau = pd.read_csv('bureau.csv')\n",
    "bureau_bal = pd.read_csv('bureau_balance.csv')\n",
    "cb_bal = pd.read_csv('credit_card_balance.csv')\n",
    "installments_pay = pd.read_csv('installments_payments.csv')\n",
    "pos_cash_bal = pd.read_csv('POS_CASH_balance.csv')\n",
    "prev_app = pd.read_csv('previous_application.csv')\n",
    "submission = pd.read_csv('sample_submission.csv')"
   ]
  },
  {
   "cell_type": "code",
   "execution_count": 160,
   "metadata": {},
   "outputs": [],
   "source": [
    "# home_credit_col = pd.read_csv('homecredit_columns_description.csv', sep = \",\")"
   ]
  },
  {
   "cell_type": "code",
   "execution_count": 161,
   "metadata": {},
   "outputs": [
    {
     "data": {
      "text/html": [
       "<div>\n",
       "<style scoped>\n",
       "    .dataframe tbody tr th:only-of-type {\n",
       "        vertical-align: middle;\n",
       "    }\n",
       "\n",
       "    .dataframe tbody tr th {\n",
       "        vertical-align: top;\n",
       "    }\n",
       "\n",
       "    .dataframe thead th {\n",
       "        text-align: right;\n",
       "    }\n",
       "</style>\n",
       "<table border=\"1\" class=\"dataframe\">\n",
       "  <thead>\n",
       "    <tr style=\"text-align: right;\">\n",
       "      <th></th>\n",
       "      <th>SK_ID_CURR</th>\n",
       "      <th>NAME_CONTRACT_TYPE</th>\n",
       "      <th>CODE_GENDER</th>\n",
       "      <th>FLAG_OWN_CAR</th>\n",
       "      <th>FLAG_OWN_REALTY</th>\n",
       "      <th>CNT_CHILDREN</th>\n",
       "      <th>AMT_INCOME_TOTAL</th>\n",
       "      <th>AMT_CREDIT</th>\n",
       "      <th>AMT_ANNUITY</th>\n",
       "      <th>AMT_GOODS_PRICE</th>\n",
       "      <th>...</th>\n",
       "      <th>FLAG_DOCUMENT_18</th>\n",
       "      <th>FLAG_DOCUMENT_19</th>\n",
       "      <th>FLAG_DOCUMENT_20</th>\n",
       "      <th>FLAG_DOCUMENT_21</th>\n",
       "      <th>AMT_REQ_CREDIT_BUREAU_HOUR</th>\n",
       "      <th>AMT_REQ_CREDIT_BUREAU_DAY</th>\n",
       "      <th>AMT_REQ_CREDIT_BUREAU_WEEK</th>\n",
       "      <th>AMT_REQ_CREDIT_BUREAU_MON</th>\n",
       "      <th>AMT_REQ_CREDIT_BUREAU_QRT</th>\n",
       "      <th>AMT_REQ_CREDIT_BUREAU_YEAR</th>\n",
       "    </tr>\n",
       "  </thead>\n",
       "  <tbody>\n",
       "    <tr>\n",
       "      <th>0</th>\n",
       "      <td>100001</td>\n",
       "      <td>Cash loans</td>\n",
       "      <td>F</td>\n",
       "      <td>N</td>\n",
       "      <td>Y</td>\n",
       "      <td>0</td>\n",
       "      <td>135000.0</td>\n",
       "      <td>568800.0</td>\n",
       "      <td>20560.5</td>\n",
       "      <td>450000.0</td>\n",
       "      <td>...</td>\n",
       "      <td>0</td>\n",
       "      <td>0</td>\n",
       "      <td>0</td>\n",
       "      <td>0</td>\n",
       "      <td>0.0</td>\n",
       "      <td>0.0</td>\n",
       "      <td>0.0</td>\n",
       "      <td>0.0</td>\n",
       "      <td>0.0</td>\n",
       "      <td>0.0</td>\n",
       "    </tr>\n",
       "    <tr>\n",
       "      <th>1</th>\n",
       "      <td>100005</td>\n",
       "      <td>Cash loans</td>\n",
       "      <td>M</td>\n",
       "      <td>N</td>\n",
       "      <td>Y</td>\n",
       "      <td>0</td>\n",
       "      <td>99000.0</td>\n",
       "      <td>222768.0</td>\n",
       "      <td>17370.0</td>\n",
       "      <td>180000.0</td>\n",
       "      <td>...</td>\n",
       "      <td>0</td>\n",
       "      <td>0</td>\n",
       "      <td>0</td>\n",
       "      <td>0</td>\n",
       "      <td>0.0</td>\n",
       "      <td>0.0</td>\n",
       "      <td>0.0</td>\n",
       "      <td>0.0</td>\n",
       "      <td>0.0</td>\n",
       "      <td>3.0</td>\n",
       "    </tr>\n",
       "    <tr>\n",
       "      <th>2</th>\n",
       "      <td>100013</td>\n",
       "      <td>Cash loans</td>\n",
       "      <td>M</td>\n",
       "      <td>Y</td>\n",
       "      <td>Y</td>\n",
       "      <td>0</td>\n",
       "      <td>202500.0</td>\n",
       "      <td>663264.0</td>\n",
       "      <td>69777.0</td>\n",
       "      <td>630000.0</td>\n",
       "      <td>...</td>\n",
       "      <td>0</td>\n",
       "      <td>0</td>\n",
       "      <td>0</td>\n",
       "      <td>0</td>\n",
       "      <td>0.0</td>\n",
       "      <td>0.0</td>\n",
       "      <td>0.0</td>\n",
       "      <td>0.0</td>\n",
       "      <td>1.0</td>\n",
       "      <td>4.0</td>\n",
       "    </tr>\n",
       "    <tr>\n",
       "      <th>3</th>\n",
       "      <td>100028</td>\n",
       "      <td>Cash loans</td>\n",
       "      <td>F</td>\n",
       "      <td>N</td>\n",
       "      <td>Y</td>\n",
       "      <td>2</td>\n",
       "      <td>315000.0</td>\n",
       "      <td>1575000.0</td>\n",
       "      <td>49018.5</td>\n",
       "      <td>1575000.0</td>\n",
       "      <td>...</td>\n",
       "      <td>0</td>\n",
       "      <td>0</td>\n",
       "      <td>0</td>\n",
       "      <td>0</td>\n",
       "      <td>0.0</td>\n",
       "      <td>0.0</td>\n",
       "      <td>0.0</td>\n",
       "      <td>0.0</td>\n",
       "      <td>0.0</td>\n",
       "      <td>3.0</td>\n",
       "    </tr>\n",
       "    <tr>\n",
       "      <th>4</th>\n",
       "      <td>100038</td>\n",
       "      <td>Cash loans</td>\n",
       "      <td>M</td>\n",
       "      <td>Y</td>\n",
       "      <td>N</td>\n",
       "      <td>1</td>\n",
       "      <td>180000.0</td>\n",
       "      <td>625500.0</td>\n",
       "      <td>32067.0</td>\n",
       "      <td>625500.0</td>\n",
       "      <td>...</td>\n",
       "      <td>0</td>\n",
       "      <td>0</td>\n",
       "      <td>0</td>\n",
       "      <td>0</td>\n",
       "      <td>NaN</td>\n",
       "      <td>NaN</td>\n",
       "      <td>NaN</td>\n",
       "      <td>NaN</td>\n",
       "      <td>NaN</td>\n",
       "      <td>NaN</td>\n",
       "    </tr>\n",
       "  </tbody>\n",
       "</table>\n",
       "<p>5 rows × 121 columns</p>\n",
       "</div>"
      ],
      "text/plain": [
       "   SK_ID_CURR NAME_CONTRACT_TYPE CODE_GENDER FLAG_OWN_CAR FLAG_OWN_REALTY  \\\n",
       "0      100001         Cash loans           F            N               Y   \n",
       "1      100005         Cash loans           M            N               Y   \n",
       "2      100013         Cash loans           M            Y               Y   \n",
       "3      100028         Cash loans           F            N               Y   \n",
       "4      100038         Cash loans           M            Y               N   \n",
       "\n",
       "   CNT_CHILDREN  AMT_INCOME_TOTAL  AMT_CREDIT  AMT_ANNUITY  AMT_GOODS_PRICE  \\\n",
       "0             0          135000.0    568800.0      20560.5         450000.0   \n",
       "1             0           99000.0    222768.0      17370.0         180000.0   \n",
       "2             0          202500.0    663264.0      69777.0         630000.0   \n",
       "3             2          315000.0   1575000.0      49018.5        1575000.0   \n",
       "4             1          180000.0    625500.0      32067.0         625500.0   \n",
       "\n",
       "   ... FLAG_DOCUMENT_18 FLAG_DOCUMENT_19 FLAG_DOCUMENT_20 FLAG_DOCUMENT_21  \\\n",
       "0  ...                0                0                0                0   \n",
       "1  ...                0                0                0                0   \n",
       "2  ...                0                0                0                0   \n",
       "3  ...                0                0                0                0   \n",
       "4  ...                0                0                0                0   \n",
       "\n",
       "  AMT_REQ_CREDIT_BUREAU_HOUR  AMT_REQ_CREDIT_BUREAU_DAY  \\\n",
       "0                        0.0                        0.0   \n",
       "1                        0.0                        0.0   \n",
       "2                        0.0                        0.0   \n",
       "3                        0.0                        0.0   \n",
       "4                        NaN                        NaN   \n",
       "\n",
       "   AMT_REQ_CREDIT_BUREAU_WEEK  AMT_REQ_CREDIT_BUREAU_MON  \\\n",
       "0                         0.0                        0.0   \n",
       "1                         0.0                        0.0   \n",
       "2                         0.0                        0.0   \n",
       "3                         0.0                        0.0   \n",
       "4                         NaN                        NaN   \n",
       "\n",
       "   AMT_REQ_CREDIT_BUREAU_QRT  AMT_REQ_CREDIT_BUREAU_YEAR  \n",
       "0                        0.0                         0.0  \n",
       "1                        0.0                         3.0  \n",
       "2                        1.0                         4.0  \n",
       "3                        0.0                         3.0  \n",
       "4                        NaN                         NaN  \n",
       "\n",
       "[5 rows x 121 columns]"
      ]
     },
     "execution_count": 161,
     "metadata": {},
     "output_type": "execute_result"
    }
   ],
   "source": [
    "app_test.head()"
   ]
  },
  {
   "cell_type": "code",
   "execution_count": 162,
   "metadata": {},
   "outputs": [
    {
     "data": {
      "text/html": [
       "<div>\n",
       "<style scoped>\n",
       "    .dataframe tbody tr th:only-of-type {\n",
       "        vertical-align: middle;\n",
       "    }\n",
       "\n",
       "    .dataframe tbody tr th {\n",
       "        vertical-align: top;\n",
       "    }\n",
       "\n",
       "    .dataframe thead th {\n",
       "        text-align: right;\n",
       "    }\n",
       "</style>\n",
       "<table border=\"1\" class=\"dataframe\">\n",
       "  <thead>\n",
       "    <tr style=\"text-align: right;\">\n",
       "      <th></th>\n",
       "      <th>SK_ID_CURR</th>\n",
       "      <th>CNT_CHILDREN</th>\n",
       "      <th>AMT_INCOME_TOTAL</th>\n",
       "      <th>AMT_CREDIT</th>\n",
       "      <th>AMT_ANNUITY</th>\n",
       "      <th>AMT_GOODS_PRICE</th>\n",
       "      <th>REGION_POPULATION_RELATIVE</th>\n",
       "      <th>DAYS_BIRTH</th>\n",
       "      <th>DAYS_EMPLOYED</th>\n",
       "      <th>DAYS_REGISTRATION</th>\n",
       "      <th>...</th>\n",
       "      <th>FLAG_DOCUMENT_18</th>\n",
       "      <th>FLAG_DOCUMENT_19</th>\n",
       "      <th>FLAG_DOCUMENT_20</th>\n",
       "      <th>FLAG_DOCUMENT_21</th>\n",
       "      <th>AMT_REQ_CREDIT_BUREAU_HOUR</th>\n",
       "      <th>AMT_REQ_CREDIT_BUREAU_DAY</th>\n",
       "      <th>AMT_REQ_CREDIT_BUREAU_WEEK</th>\n",
       "      <th>AMT_REQ_CREDIT_BUREAU_MON</th>\n",
       "      <th>AMT_REQ_CREDIT_BUREAU_QRT</th>\n",
       "      <th>AMT_REQ_CREDIT_BUREAU_YEAR</th>\n",
       "    </tr>\n",
       "  </thead>\n",
       "  <tbody>\n",
       "    <tr>\n",
       "      <th>count</th>\n",
       "      <td>48744.000000</td>\n",
       "      <td>48744.000000</td>\n",
       "      <td>4.874400e+04</td>\n",
       "      <td>4.874400e+04</td>\n",
       "      <td>48720.000000</td>\n",
       "      <td>4.874400e+04</td>\n",
       "      <td>48744.000000</td>\n",
       "      <td>48744.000000</td>\n",
       "      <td>48744.000000</td>\n",
       "      <td>48744.000000</td>\n",
       "      <td>...</td>\n",
       "      <td>48744.000000</td>\n",
       "      <td>48744.0</td>\n",
       "      <td>48744.0</td>\n",
       "      <td>48744.0</td>\n",
       "      <td>42695.000000</td>\n",
       "      <td>42695.000000</td>\n",
       "      <td>42695.000000</td>\n",
       "      <td>42695.000000</td>\n",
       "      <td>42695.000000</td>\n",
       "      <td>42695.000000</td>\n",
       "    </tr>\n",
       "    <tr>\n",
       "      <th>mean</th>\n",
       "      <td>277796.676350</td>\n",
       "      <td>0.397054</td>\n",
       "      <td>1.784318e+05</td>\n",
       "      <td>5.167404e+05</td>\n",
       "      <td>29426.240209</td>\n",
       "      <td>4.626188e+05</td>\n",
       "      <td>0.021226</td>\n",
       "      <td>-16068.084605</td>\n",
       "      <td>67485.366322</td>\n",
       "      <td>-4967.652716</td>\n",
       "      <td>...</td>\n",
       "      <td>0.001559</td>\n",
       "      <td>0.0</td>\n",
       "      <td>0.0</td>\n",
       "      <td>0.0</td>\n",
       "      <td>0.002108</td>\n",
       "      <td>0.001803</td>\n",
       "      <td>0.002787</td>\n",
       "      <td>0.009299</td>\n",
       "      <td>0.546902</td>\n",
       "      <td>1.983769</td>\n",
       "    </tr>\n",
       "    <tr>\n",
       "      <th>std</th>\n",
       "      <td>103169.547296</td>\n",
       "      <td>0.709047</td>\n",
       "      <td>1.015226e+05</td>\n",
       "      <td>3.653970e+05</td>\n",
       "      <td>16016.368315</td>\n",
       "      <td>3.367102e+05</td>\n",
       "      <td>0.014428</td>\n",
       "      <td>4325.900393</td>\n",
       "      <td>144348.507136</td>\n",
       "      <td>3552.612035</td>\n",
       "      <td>...</td>\n",
       "      <td>0.039456</td>\n",
       "      <td>0.0</td>\n",
       "      <td>0.0</td>\n",
       "      <td>0.0</td>\n",
       "      <td>0.046373</td>\n",
       "      <td>0.046132</td>\n",
       "      <td>0.054037</td>\n",
       "      <td>0.110924</td>\n",
       "      <td>0.693305</td>\n",
       "      <td>1.838873</td>\n",
       "    </tr>\n",
       "    <tr>\n",
       "      <th>min</th>\n",
       "      <td>100001.000000</td>\n",
       "      <td>0.000000</td>\n",
       "      <td>2.694150e+04</td>\n",
       "      <td>4.500000e+04</td>\n",
       "      <td>2295.000000</td>\n",
       "      <td>4.500000e+04</td>\n",
       "      <td>0.000253</td>\n",
       "      <td>-25195.000000</td>\n",
       "      <td>-17463.000000</td>\n",
       "      <td>-23722.000000</td>\n",
       "      <td>...</td>\n",
       "      <td>0.000000</td>\n",
       "      <td>0.0</td>\n",
       "      <td>0.0</td>\n",
       "      <td>0.0</td>\n",
       "      <td>0.000000</td>\n",
       "      <td>0.000000</td>\n",
       "      <td>0.000000</td>\n",
       "      <td>0.000000</td>\n",
       "      <td>0.000000</td>\n",
       "      <td>0.000000</td>\n",
       "    </tr>\n",
       "    <tr>\n",
       "      <th>25%</th>\n",
       "      <td>188557.750000</td>\n",
       "      <td>0.000000</td>\n",
       "      <td>1.125000e+05</td>\n",
       "      <td>2.606400e+05</td>\n",
       "      <td>17973.000000</td>\n",
       "      <td>2.250000e+05</td>\n",
       "      <td>0.010006</td>\n",
       "      <td>-19637.000000</td>\n",
       "      <td>-2910.000000</td>\n",
       "      <td>-7459.250000</td>\n",
       "      <td>...</td>\n",
       "      <td>0.000000</td>\n",
       "      <td>0.0</td>\n",
       "      <td>0.0</td>\n",
       "      <td>0.0</td>\n",
       "      <td>0.000000</td>\n",
       "      <td>0.000000</td>\n",
       "      <td>0.000000</td>\n",
       "      <td>0.000000</td>\n",
       "      <td>0.000000</td>\n",
       "      <td>0.000000</td>\n",
       "    </tr>\n",
       "    <tr>\n",
       "      <th>50%</th>\n",
       "      <td>277549.000000</td>\n",
       "      <td>0.000000</td>\n",
       "      <td>1.575000e+05</td>\n",
       "      <td>4.500000e+05</td>\n",
       "      <td>26199.000000</td>\n",
       "      <td>3.960000e+05</td>\n",
       "      <td>0.018850</td>\n",
       "      <td>-15785.000000</td>\n",
       "      <td>-1293.000000</td>\n",
       "      <td>-4490.000000</td>\n",
       "      <td>...</td>\n",
       "      <td>0.000000</td>\n",
       "      <td>0.0</td>\n",
       "      <td>0.0</td>\n",
       "      <td>0.0</td>\n",
       "      <td>0.000000</td>\n",
       "      <td>0.000000</td>\n",
       "      <td>0.000000</td>\n",
       "      <td>0.000000</td>\n",
       "      <td>0.000000</td>\n",
       "      <td>2.000000</td>\n",
       "    </tr>\n",
       "    <tr>\n",
       "      <th>75%</th>\n",
       "      <td>367555.500000</td>\n",
       "      <td>1.000000</td>\n",
       "      <td>2.250000e+05</td>\n",
       "      <td>6.750000e+05</td>\n",
       "      <td>37390.500000</td>\n",
       "      <td>6.300000e+05</td>\n",
       "      <td>0.028663</td>\n",
       "      <td>-12496.000000</td>\n",
       "      <td>-296.000000</td>\n",
       "      <td>-1901.000000</td>\n",
       "      <td>...</td>\n",
       "      <td>0.000000</td>\n",
       "      <td>0.0</td>\n",
       "      <td>0.0</td>\n",
       "      <td>0.0</td>\n",
       "      <td>0.000000</td>\n",
       "      <td>0.000000</td>\n",
       "      <td>0.000000</td>\n",
       "      <td>0.000000</td>\n",
       "      <td>1.000000</td>\n",
       "      <td>3.000000</td>\n",
       "    </tr>\n",
       "    <tr>\n",
       "      <th>max</th>\n",
       "      <td>456250.000000</td>\n",
       "      <td>20.000000</td>\n",
       "      <td>4.410000e+06</td>\n",
       "      <td>2.245500e+06</td>\n",
       "      <td>180576.000000</td>\n",
       "      <td>2.245500e+06</td>\n",
       "      <td>0.072508</td>\n",
       "      <td>-7338.000000</td>\n",
       "      <td>365243.000000</td>\n",
       "      <td>0.000000</td>\n",
       "      <td>...</td>\n",
       "      <td>1.000000</td>\n",
       "      <td>0.0</td>\n",
       "      <td>0.0</td>\n",
       "      <td>0.0</td>\n",
       "      <td>2.000000</td>\n",
       "      <td>2.000000</td>\n",
       "      <td>2.000000</td>\n",
       "      <td>6.000000</td>\n",
       "      <td>7.000000</td>\n",
       "      <td>17.000000</td>\n",
       "    </tr>\n",
       "  </tbody>\n",
       "</table>\n",
       "<p>8 rows × 105 columns</p>\n",
       "</div>"
      ],
      "text/plain": [
       "          SK_ID_CURR  CNT_CHILDREN  AMT_INCOME_TOTAL    AMT_CREDIT  \\\n",
       "count   48744.000000  48744.000000      4.874400e+04  4.874400e+04   \n",
       "mean   277796.676350      0.397054      1.784318e+05  5.167404e+05   \n",
       "std    103169.547296      0.709047      1.015226e+05  3.653970e+05   \n",
       "min    100001.000000      0.000000      2.694150e+04  4.500000e+04   \n",
       "25%    188557.750000      0.000000      1.125000e+05  2.606400e+05   \n",
       "50%    277549.000000      0.000000      1.575000e+05  4.500000e+05   \n",
       "75%    367555.500000      1.000000      2.250000e+05  6.750000e+05   \n",
       "max    456250.000000     20.000000      4.410000e+06  2.245500e+06   \n",
       "\n",
       "         AMT_ANNUITY  AMT_GOODS_PRICE  REGION_POPULATION_RELATIVE  \\\n",
       "count   48720.000000     4.874400e+04                48744.000000   \n",
       "mean    29426.240209     4.626188e+05                    0.021226   \n",
       "std     16016.368315     3.367102e+05                    0.014428   \n",
       "min      2295.000000     4.500000e+04                    0.000253   \n",
       "25%     17973.000000     2.250000e+05                    0.010006   \n",
       "50%     26199.000000     3.960000e+05                    0.018850   \n",
       "75%     37390.500000     6.300000e+05                    0.028663   \n",
       "max    180576.000000     2.245500e+06                    0.072508   \n",
       "\n",
       "         DAYS_BIRTH  DAYS_EMPLOYED  DAYS_REGISTRATION  ...  FLAG_DOCUMENT_18  \\\n",
       "count  48744.000000   48744.000000       48744.000000  ...      48744.000000   \n",
       "mean  -16068.084605   67485.366322       -4967.652716  ...          0.001559   \n",
       "std     4325.900393  144348.507136        3552.612035  ...          0.039456   \n",
       "min   -25195.000000  -17463.000000      -23722.000000  ...          0.000000   \n",
       "25%   -19637.000000   -2910.000000       -7459.250000  ...          0.000000   \n",
       "50%   -15785.000000   -1293.000000       -4490.000000  ...          0.000000   \n",
       "75%   -12496.000000    -296.000000       -1901.000000  ...          0.000000   \n",
       "max    -7338.000000  365243.000000           0.000000  ...          1.000000   \n",
       "\n",
       "       FLAG_DOCUMENT_19  FLAG_DOCUMENT_20  FLAG_DOCUMENT_21  \\\n",
       "count           48744.0           48744.0           48744.0   \n",
       "mean                0.0               0.0               0.0   \n",
       "std                 0.0               0.0               0.0   \n",
       "min                 0.0               0.0               0.0   \n",
       "25%                 0.0               0.0               0.0   \n",
       "50%                 0.0               0.0               0.0   \n",
       "75%                 0.0               0.0               0.0   \n",
       "max                 0.0               0.0               0.0   \n",
       "\n",
       "       AMT_REQ_CREDIT_BUREAU_HOUR  AMT_REQ_CREDIT_BUREAU_DAY  \\\n",
       "count                42695.000000               42695.000000   \n",
       "mean                     0.002108                   0.001803   \n",
       "std                      0.046373                   0.046132   \n",
       "min                      0.000000                   0.000000   \n",
       "25%                      0.000000                   0.000000   \n",
       "50%                      0.000000                   0.000000   \n",
       "75%                      0.000000                   0.000000   \n",
       "max                      2.000000                   2.000000   \n",
       "\n",
       "       AMT_REQ_CREDIT_BUREAU_WEEK  AMT_REQ_CREDIT_BUREAU_MON  \\\n",
       "count                42695.000000               42695.000000   \n",
       "mean                     0.002787                   0.009299   \n",
       "std                      0.054037                   0.110924   \n",
       "min                      0.000000                   0.000000   \n",
       "25%                      0.000000                   0.000000   \n",
       "50%                      0.000000                   0.000000   \n",
       "75%                      0.000000                   0.000000   \n",
       "max                      2.000000                   6.000000   \n",
       "\n",
       "       AMT_REQ_CREDIT_BUREAU_QRT  AMT_REQ_CREDIT_BUREAU_YEAR  \n",
       "count               42695.000000                42695.000000  \n",
       "mean                    0.546902                    1.983769  \n",
       "std                     0.693305                    1.838873  \n",
       "min                     0.000000                    0.000000  \n",
       "25%                     0.000000                    0.000000  \n",
       "50%                     0.000000                    2.000000  \n",
       "75%                     1.000000                    3.000000  \n",
       "max                     7.000000                   17.000000  \n",
       "\n",
       "[8 rows x 105 columns]"
      ]
     },
     "execution_count": 162,
     "metadata": {},
     "output_type": "execute_result"
    }
   ],
   "source": [
    "app_test.describe()"
   ]
  },
  {
   "cell_type": "code",
   "execution_count": 163,
   "metadata": {},
   "outputs": [
    {
     "data": {
      "text/plain": [
       "(48744, 121)"
      ]
     },
     "execution_count": 163,
     "metadata": {},
     "output_type": "execute_result"
    }
   ],
   "source": [
    "app_test.shape"
   ]
  },
  {
   "cell_type": "markdown",
   "metadata": {},
   "source": [
    "### Les contrats :"
   ]
  },
  {
   "cell_type": "code",
   "execution_count": 164,
   "metadata": {},
   "outputs": [
    {
     "data": {
      "image/png": "[encoded data removed]",
      "text/plain": [
       "<Figure size 432x288 with 1 Axes>"
      ]
     },
     "metadata": {},
     "output_type": "display_data"
    }
   ],
   "source": [
    "# répartition des contrats\n",
    "\n",
    "app_test[\"NAME_CONTRACT_TYPE\"].value_counts(normalize = True).plot(kind ='pie')\n",
    "plt.axis('equal')\n",
    "labels = ['Cash loans', 'Revolving loans']\n",
    "\n",
    "c = app_test.loc[app_test['NAME_CONTRACT_TYPE'] == 'Cash loans'].shape[0]\n",
    "r = app_test.loc[app_test['NAME_CONTRACT_TYPE'] == 'Revolving loans'].shape[0]\n",
    "\n",
    "sizes = [c, r]\n",
    "colors = ['green', 'orange']\n",
    "\n",
    "patches, texts = plt.pie(sizes, shadow = True, colors = colors, startangle = 90)\n",
    "plt.legend(patches, labels)\n",
    "plt.title(\"répartition des contrats\")\n",
    "plt.tight_layout() # mise en page\n",
    "plt.show()"
   ]
  },
  {
   "cell_type": "code",
   "execution_count": 165,
   "metadata": {},
   "outputs": [
    {
     "data": {
      "text/plain": [
       "0          Cash loans\n",
       "14    Revolving loans\n",
       "Name: NAME_CONTRACT_TYPE, dtype: object"
      ]
     },
     "execution_count": 165,
     "metadata": {},
     "output_type": "execute_result"
    }
   ],
   "source": [
    "app_test['NAME_CONTRACT_TYPE'].drop_duplicates(keep = 'first')"
   ]
  },
  {
   "cell_type": "markdown",
   "metadata": {},
   "source": [
    "### Proportion des sexes:"
   ]
  },
  {
   "cell_type": "code",
   "execution_count": 166,
   "metadata": {},
   "outputs": [
    {
     "data": {
      "text/plain": [
       "0    F\n",
       "1    M\n",
       "Name: CODE_GENDER, dtype: object"
      ]
     },
     "execution_count": 166,
     "metadata": {},
     "output_type": "execute_result"
    }
   ],
   "source": [
    "app_test['CODE_GENDER'].drop_duplicates(keep = 'first')"
   ]
  },
  {
   "cell_type": "code",
   "execution_count": 167,
   "metadata": {},
   "outputs": [
    {
     "data": {
      "image/png": "[encoded data removed]",
      "text/plain": [
       "<Figure size 432x288 with 1 Axes>"
      ]
     },
     "metadata": {},
     "output_type": "display_data"
    }
   ],
   "source": [
    "# répartition des sexes\n",
    "\n",
    "app_test[\"CODE_GENDER\"].value_counts(normalize = True).plot(kind ='pie')\n",
    "plt.axis('equal')\n",
    "labels = ['hommes', 'femmes']\n",
    "\n",
    "m = app_test.loc[app_test['CODE_GENDER'] == 'M'].shape[0]\n",
    "f = app_test.loc[app_test['CODE_GENDER'] == 'F'].shape[0]\n",
    "\n",
    "sizes = [m, f]\n",
    "colors = ['blue', 'hotpink']\n",
    "\n",
    "patches, texts = plt.pie(sizes, shadow = True, colors = colors, startangle = 90)\n",
    "plt.legend(patches, labels)\n",
    "plt.title(\"répartition des sexes\")\n",
    "plt.tight_layout() # mise en page\n",
    "plt.show()"
   ]
  },
  {
   "cell_type": "markdown",
   "metadata": {},
   "source": [
    "### Les drapeaux :"
   ]
  },
  {
   "cell_type": "code",
   "execution_count": 168,
   "metadata": {},
   "outputs": [
    {
     "data": {
      "image/png": "[encoded data removed]",
      "text/plain": [
       "<Figure size 432x288 with 1 Axes>"
      ]
     },
     "metadata": {},
     "output_type": "display_data"
    }
   ],
   "source": [
    "# répartition des contrats\n",
    "\n",
    "app_test[\"FLAG_OWN_CAR\"].value_counts(normalize = True).plot(kind ='pie')\n",
    "plt.axis('equal')\n",
    "labels = ['Y', 'N']\n",
    "\n",
    "fc_y = app_test.loc[app_test['FLAG_OWN_CAR'] == 'Y'].shape[0]\n",
    "fc_n = app_test.loc[app_test['FLAG_OWN_CAR'] == 'N'].shape[0]\n",
    "\n",
    "sizes = [fc_y, fc_n]\n",
    "colors = ['y', 'darkgrey']\n",
    "\n",
    "patches, texts = plt.pie(sizes, shadow = True, colors = colors, startangle = 90)\n",
    "plt.legend(patches, labels)\n",
    "plt.title(\"Exposition de drapeaux\")\n",
    "plt.tight_layout() # mise en page\n",
    "plt.show()"
   ]
  },
  {
   "cell_type": "code",
   "execution_count": 169,
   "metadata": {},
   "outputs": [
    {
     "data": {
      "image/png": "[encoded data removed]",
      "text/plain": [
       "<Figure size 432x288 with 1 Axes>"
      ]
     },
     "metadata": {},
     "output_type": "display_data"
    }
   ],
   "source": [
    "# répartition des contrats\n",
    "\n",
    "app_test[\"FLAG_OWN_REALTY\"].value_counts(normalize = True).plot(kind ='pie')\n",
    "plt.axis('equal')\n",
    "labels = ['Y', 'N']\n",
    "\n",
    "fr_y = app_test.loc[app_test['FLAG_OWN_REALTY'] == 'Y'].shape[0]\n",
    "fr_n = app_test.loc[app_test['FLAG_OWN_REALTY'] == 'N'].shape[0]\n",
    "\n",
    "sizes = [fr_y, fr_n]\n",
    "colors = ['y', 'darkgrey']\n",
    "\n",
    "patches, texts = plt.pie(sizes, shadow = True, colors = colors, startangle = 90)\n",
    "plt.legend(patches, labels)\n",
    "plt.title(\"Exposition de drapeaux\")\n",
    "plt.tight_layout() # mise en page\n",
    "plt.show()"
   ]
  },
  {
   "cell_type": "markdown",
   "metadata": {},
   "source": [
    "### Le nombre d'enfants :"
   ]
  },
  {
   "cell_type": "code",
   "execution_count": 170,
   "metadata": {},
   "outputs": [
    {
     "data": {
      "text/plain": [
       "0     34685\n",
       "1      9504\n",
       "2      3949\n",
       "3       535\n",
       "4        49\n",
       "5        12\n",
       "8         3\n",
       "6         3\n",
       "11        2\n",
       "20        1\n",
       "7         1\n",
       "Name: CNT_CHILDREN, dtype: int64"
      ]
     },
     "execution_count": 170,
     "metadata": {},
     "output_type": "execute_result"
    }
   ],
   "source": [
    "app_test['CNT_CHILDREN'].value_counts()"
   ]
  },
  {
   "cell_type": "markdown",
   "metadata": {},
   "source": [
    "### Les revenus : "
   ]
  },
  {
   "cell_type": "code",
   "execution_count": 171,
   "metadata": {},
   "outputs": [
    {
     "data": {
      "text/plain": [
       "{'whiskers': [<matplotlib.lines.Line2D at 0x16d80052488>,\n",
       "  <matplotlib.lines.Line2D at 0x16d80052408>],\n",
       " 'caps': [<matplotlib.lines.Line2D at 0x16d8004f788>,\n",
       "  <matplotlib.lines.Line2D at 0x16d8004f8c8>],\n",
       " 'boxes': [<matplotlib.patches.PathPatch at 0x16d80052dc8>],\n",
       " 'medians': [<matplotlib.lines.Line2D at 0x16d8004bb48>],\n",
       " 'fliers': [],\n",
       " 'means': [<matplotlib.lines.Line2D at 0x16d80046608>]}"
      ]
     },
     "execution_count": 171,
     "metadata": {},
     "output_type": "execute_result"
    },
    {
     "data": {
      "image/png": "[encoded data removed]",
      "text/plain": [
       "<Figure size 864x216 with 1 Axes>"
      ]
     },
     "metadata": {
      "needs_background": "light"
     },
     "output_type": "display_data"
    },
    {
     "data": {
      "image/png": "[encoded data removed]",
      "text/plain": [
       "<Figure size 864x216 with 1 Axes>"
      ]
     },
     "metadata": {
      "needs_background": "light"
     },
     "output_type": "display_data"
    }
   ],
   "source": [
    "# boxplot avec et sans outliers\n",
    "\n",
    "plt.figure(figsize = (12, 3))\n",
    "\n",
    "medianprops = {'color':\"black\"}\n",
    "meanprops = {'marker':'o', 'markeredgecolor':'black',\n",
    "            'markerfacecolor':'firebrick'}\n",
    "\n",
    "plt.boxplot(app_test['AMT_INCOME_TOTAL'], showfliers = True, medianprops = medianprops, \n",
    "            vert= False, patch_artist = True, showmeans = True, meanprops = meanprops)\n",
    "\n",
    "plt.figure(figsize = (12, 3))\n",
    "\n",
    "medianprops = {'color':\"black\"}\n",
    "meanprops = {'marker':'o', 'markeredgecolor':'black',\n",
    "            'markerfacecolor':'firebrick'}\n",
    "\n",
    "plt.boxplot(app_test['AMT_INCOME_TOTAL'], showfliers = False, medianprops = medianprops, \n",
    "            vert= False, patch_artist = True, showmeans = True, meanprops = meanprops)"
   ]
  },
  {
   "cell_type": "markdown",
   "metadata": {},
   "source": [
    "### Quelles sont les différences entre le test et le train au niveau des colonnes ?"
   ]
  },
  {
   "cell_type": "code",
   "execution_count": 172,
   "metadata": {},
   "outputs": [
    {
     "data": {
      "text/plain": [
       "(307511, 122)"
      ]
     },
     "execution_count": 172,
     "metadata": {},
     "output_type": "execute_result"
    }
   ],
   "source": [
    "app_train.shape"
   ]
  },
  {
   "cell_type": "code",
   "execution_count": 173,
   "metadata": {},
   "outputs": [
    {
     "data": {
      "text/plain": [
       "{'TARGET'}"
      ]
     },
     "execution_count": 173,
     "metadata": {},
     "output_type": "execute_result"
    }
   ],
   "source": [
    "set(app_test.columns).symmetric_difference(app_train.columns)"
   ]
  },
  {
   "cell_type": "code",
   "execution_count": 174,
   "metadata": {},
   "outputs": [
    {
     "data": {
      "text/plain": [
       "0    1\n",
       "1    0\n",
       "2    0\n",
       "3    0\n",
       "4    0\n",
       "Name: TARGET, dtype: int64"
      ]
     },
     "execution_count": 174,
     "metadata": {},
     "output_type": "execute_result"
    }
   ],
   "source": [
    "app_train['TARGET'].head()"
   ]
  },
  {
   "cell_type": "markdown",
   "metadata": {},
   "source": [
    "### Je vais chercher à fusionner les datasets en cherchant des éventuelles clés de jointure."
   ]
  },
  {
   "cell_type": "code",
   "execution_count": 175,
   "metadata": {},
   "outputs": [
    {
     "data": {
      "text/plain": [
       "(1716428, 17)"
      ]
     },
     "execution_count": 175,
     "metadata": {},
     "output_type": "execute_result"
    }
   ],
   "source": [
    "bureau.shape"
   ]
  },
  {
   "cell_type": "code",
   "execution_count": 176,
   "metadata": {},
   "outputs": [
    {
     "data": {
      "text/html": [
       "<div>\n",
       "<style scoped>\n",
       "    .dataframe tbody tr th:only-of-type {\n",
       "        vertical-align: middle;\n",
       "    }\n",
       "\n",
       "    .dataframe tbody tr th {\n",
       "        vertical-align: top;\n",
       "    }\n",
       "\n",
       "    .dataframe thead th {\n",
       "        text-align: right;\n",
       "    }\n",
       "</style>\n",
       "<table border=\"1\" class=\"dataframe\">\n",
       "  <thead>\n",
       "    <tr style=\"text-align: right;\">\n",
       "      <th></th>\n",
       "      <th>SK_ID_CURR</th>\n",
       "      <th>SK_ID_BUREAU</th>\n",
       "      <th>CREDIT_ACTIVE</th>\n",
       "      <th>CREDIT_CURRENCY</th>\n",
       "      <th>DAYS_CREDIT</th>\n",
       "      <th>CREDIT_DAY_OVERDUE</th>\n",
       "      <th>DAYS_CREDIT_ENDDATE</th>\n",
       "      <th>DAYS_ENDDATE_FACT</th>\n",
       "      <th>AMT_CREDIT_MAX_OVERDUE</th>\n",
       "      <th>CNT_CREDIT_PROLONG</th>\n",
       "      <th>AMT_CREDIT_SUM</th>\n",
       "      <th>AMT_CREDIT_SUM_DEBT</th>\n",
       "      <th>AMT_CREDIT_SUM_LIMIT</th>\n",
       "      <th>AMT_CREDIT_SUM_OVERDUE</th>\n",
       "      <th>CREDIT_TYPE</th>\n",
       "      <th>DAYS_CREDIT_UPDATE</th>\n",
       "      <th>AMT_ANNUITY</th>\n",
       "    </tr>\n",
       "  </thead>\n",
       "  <tbody>\n",
       "    <tr>\n",
       "      <th>0</th>\n",
       "      <td>215354</td>\n",
       "      <td>5714462</td>\n",
       "      <td>Closed</td>\n",
       "      <td>currency 1</td>\n",
       "      <td>-497</td>\n",
       "      <td>0</td>\n",
       "      <td>-153.0</td>\n",
       "      <td>-153.0</td>\n",
       "      <td>NaN</td>\n",
       "      <td>0</td>\n",
       "      <td>91323.0</td>\n",
       "      <td>0.0</td>\n",
       "      <td>NaN</td>\n",
       "      <td>0.0</td>\n",
       "      <td>Consumer credit</td>\n",
       "      <td>-131</td>\n",
       "      <td>NaN</td>\n",
       "    </tr>\n",
       "  </tbody>\n",
       "</table>\n",
       "</div>"
      ],
      "text/plain": [
       "   SK_ID_CURR  SK_ID_BUREAU CREDIT_ACTIVE CREDIT_CURRENCY  DAYS_CREDIT  \\\n",
       "0      215354       5714462        Closed      currency 1         -497   \n",
       "\n",
       "   CREDIT_DAY_OVERDUE  DAYS_CREDIT_ENDDATE  DAYS_ENDDATE_FACT  \\\n",
       "0                   0               -153.0             -153.0   \n",
       "\n",
       "   AMT_CREDIT_MAX_OVERDUE  CNT_CREDIT_PROLONG  AMT_CREDIT_SUM  \\\n",
       "0                     NaN                   0         91323.0   \n",
       "\n",
       "   AMT_CREDIT_SUM_DEBT  AMT_CREDIT_SUM_LIMIT  AMT_CREDIT_SUM_OVERDUE  \\\n",
       "0                  0.0                   NaN                     0.0   \n",
       "\n",
       "       CREDIT_TYPE  DAYS_CREDIT_UPDATE  AMT_ANNUITY  \n",
       "0  Consumer credit                -131          NaN  "
      ]
     },
     "execution_count": 176,
     "metadata": {},
     "output_type": "execute_result"
    }
   ],
   "source": [
    "bureau.head(1)"
   ]
  },
  {
   "cell_type": "code",
   "execution_count": 177,
   "metadata": {},
   "outputs": [
    {
     "data": {
      "text/plain": [
       "Index(['SK_ID_CURR', 'AMT_ANNUITY'], dtype='object')"
      ]
     },
     "execution_count": 177,
     "metadata": {},
     "output_type": "execute_result"
    }
   ],
   "source": [
    "# quelle est la clé ?\n",
    "\n",
    "app_train.columns.intersection(bureau.columns)"
   ]
  },
  {
   "cell_type": "markdown",
   "metadata": {},
   "source": [
    "### Merge en partant de \"app_train\"."
   ]
  },
  {
   "cell_type": "code",
   "execution_count": 178,
   "metadata": {},
   "outputs": [
    {
     "data": {
      "text/plain": [
       "(307518, 137)"
      ]
     },
     "execution_count": 178,
     "metadata": {},
     "output_type": "execute_result"
    }
   ],
   "source": [
    "# merge app_train et bureau\n",
    "\n",
    "app_train_bureau = pd.merge(app_train, bureau, on = ['SK_ID_CURR','AMT_ANNUITY'], how = 'left')\n",
    "app_train_bureau.shape"
   ]
  },
  {
   "cell_type": "code",
   "execution_count": 179,
   "metadata": {},
   "outputs": [
    {
     "data": {
      "text/plain": [
       "(27299925, 3)"
      ]
     },
     "execution_count": 179,
     "metadata": {},
     "output_type": "execute_result"
    }
   ],
   "source": [
    "bureau_bal.shape"
   ]
  },
  {
   "cell_type": "code",
   "execution_count": 180,
   "metadata": {},
   "outputs": [
    {
     "data": {
      "text/html": [
       "<div>\n",
       "<style scoped>\n",
       "    .dataframe tbody tr th:only-of-type {\n",
       "        vertical-align: middle;\n",
       "    }\n",
       "\n",
       "    .dataframe tbody tr th {\n",
       "        vertical-align: top;\n",
       "    }\n",
       "\n",
       "    .dataframe thead th {\n",
       "        text-align: right;\n",
       "    }\n",
       "</style>\n",
       "<table border=\"1\" class=\"dataframe\">\n",
       "  <thead>\n",
       "    <tr style=\"text-align: right;\">\n",
       "      <th></th>\n",
       "      <th>SK_ID_BUREAU</th>\n",
       "      <th>MONTHS_BALANCE</th>\n",
       "      <th>STATUS</th>\n",
       "    </tr>\n",
       "  </thead>\n",
       "  <tbody>\n",
       "    <tr>\n",
       "      <th>0</th>\n",
       "      <td>5715448</td>\n",
       "      <td>0</td>\n",
       "      <td>C</td>\n",
       "    </tr>\n",
       "  </tbody>\n",
       "</table>\n",
       "</div>"
      ],
      "text/plain": [
       "   SK_ID_BUREAU  MONTHS_BALANCE STATUS\n",
       "0       5715448               0      C"
      ]
     },
     "execution_count": 180,
     "metadata": {},
     "output_type": "execute_result"
    }
   ],
   "source": [
    "bureau_bal.head(1)"
   ]
  },
  {
   "cell_type": "code",
   "execution_count": 181,
   "metadata": {},
   "outputs": [
    {
     "data": {
      "text/plain": [
       "Index(['SK_ID_BUREAU'], dtype='object')"
      ]
     },
     "execution_count": 181,
     "metadata": {},
     "output_type": "execute_result"
    }
   ],
   "source": [
    "bureau_bal.columns.intersection(app_train_bureau.columns)"
   ]
  },
  {
   "cell_type": "code",
   "execution_count": 182,
   "metadata": {},
   "outputs": [
    {
     "data": {
      "text/plain": [
       "(307998, 139)"
      ]
     },
     "execution_count": 182,
     "metadata": {},
     "output_type": "execute_result"
    }
   ],
   "source": [
    "# merge app_train_bureau et bureau_bal\n",
    "\n",
    "app_train_bureau_bureau_bal = pd.merge(app_train_bureau, bureau_bal, on = ['SK_ID_BUREAU'], how = 'left')\n",
    "app_train_bureau_bureau_bal.shape"
   ]
  },
  {
   "cell_type": "code",
   "execution_count": 183,
   "metadata": {},
   "outputs": [
    {
     "data": {
      "text/plain": [
       "(3840312, 23)"
      ]
     },
     "execution_count": 183,
     "metadata": {},
     "output_type": "execute_result"
    }
   ],
   "source": [
    "cb_bal.shape"
   ]
  },
  {
   "cell_type": "code",
   "execution_count": 184,
   "metadata": {},
   "outputs": [
    {
     "data": {
      "text/plain": [
       "Index(['SK_ID_CURR', 'MONTHS_BALANCE'], dtype='object')"
      ]
     },
     "execution_count": 184,
     "metadata": {},
     "output_type": "execute_result"
    }
   ],
   "source": [
    "cb_bal.columns.intersection(app_train_bureau_bureau_bal.columns)"
   ]
  },
  {
   "cell_type": "code",
   "execution_count": 185,
   "metadata": {},
   "outputs": [
    {
     "data": {
      "text/plain": [
       "(307998, 160)"
      ]
     },
     "execution_count": 185,
     "metadata": {},
     "output_type": "execute_result"
    }
   ],
   "source": [
    "# merge app_train_bureau_bureau_bal et cb_bal\n",
    "\n",
    "app_train_bureau_bureau_bal_cb_bal = pd.merge(app_train_bureau_bureau_bal, cb_bal, on = ['SK_ID_CURR','MONTHS_BALANCE'], \n",
    "                                              how = 'left')\n",
    "app_train_bureau_bureau_bal_cb_bal.shape"
   ]
  },
  {
   "cell_type": "code",
   "execution_count": 186,
   "metadata": {},
   "outputs": [
    {
     "data": {
      "text/plain": [
       "(13605401, 8)"
      ]
     },
     "execution_count": 186,
     "metadata": {},
     "output_type": "execute_result"
    }
   ],
   "source": [
    "installments_pay.shape"
   ]
  },
  {
   "cell_type": "code",
   "execution_count": 187,
   "metadata": {},
   "outputs": [
    {
     "data": {
      "text/plain": [
       "Index(['SK_ID_PREV', 'SK_ID_CURR'], dtype='object')"
      ]
     },
     "execution_count": 187,
     "metadata": {},
     "output_type": "execute_result"
    }
   ],
   "source": [
    "installments_pay.columns.intersection(app_train_bureau_bureau_bal_cb_bal.columns)"
   ]
  },
  {
   "cell_type": "code",
   "execution_count": 188,
   "metadata": {},
   "outputs": [
    {
     "data": {
      "text/plain": [
       "(321207, 166)"
      ]
     },
     "execution_count": 188,
     "metadata": {},
     "output_type": "execute_result"
    }
   ],
   "source": [
    "# merge app_train_bureau_bureau_bal_cb_bal et installments_pay\n",
    "\n",
    "app_train_bureau_bureau_bal_cb_bal_installments_pay = pd.merge(app_train_bureau_bureau_bal_cb_bal, installments_pay, \n",
    "                                              on = ['SK_ID_PREV','SK_ID_CURR'], how = 'left')\n",
    "app_train_bureau_bureau_bal_cb_bal_installments_pay.shape"
   ]
  },
  {
   "cell_type": "code",
   "execution_count": 189,
   "metadata": {},
   "outputs": [
    {
     "data": {
      "text/plain": [
       "(10001358, 8)"
      ]
     },
     "execution_count": 189,
     "metadata": {},
     "output_type": "execute_result"
    }
   ],
   "source": [
    "pos_cash_bal.shape"
   ]
  },
  {
   "cell_type": "code",
   "execution_count": 190,
   "metadata": {},
   "outputs": [
    {
     "data": {
      "text/plain": [
       "Index(['SK_ID_PREV', 'SK_ID_CURR', 'MONTHS_BALANCE', 'NAME_CONTRACT_STATUS',\n",
       "       'SK_DPD', 'SK_DPD_DEF'],\n",
       "      dtype='object')"
      ]
     },
     "execution_count": 190,
     "metadata": {},
     "output_type": "execute_result"
    }
   ],
   "source": [
    "pos_cash_bal.columns.intersection(app_train_bureau_bureau_bal_cb_bal_installments_pay.columns)"
   ]
  },
  {
   "cell_type": "code",
   "execution_count": 191,
   "metadata": {},
   "outputs": [
    {
     "data": {
      "text/plain": [
       "(321207, 168)"
      ]
     },
     "execution_count": 191,
     "metadata": {},
     "output_type": "execute_result"
    }
   ],
   "source": [
    "# merge app_train_bureau_bureau_bal_cb_bal_installments_pay et pos_cash_bal\n",
    "\n",
    "app_train_bureau_bureau_bal_cb_bal_installments_pay_pos_cash_bal = \\\n",
    "                    pd.merge(app_train_bureau_bureau_bal_cb_bal_installments_pay, pos_cash_bal,\n",
    "                    on = ['SK_ID_PREV','SK_ID_CURR','MONTHS_BALANCE','NAME_CONTRACT_STATUS','SK_DPD','SK_DPD_DEF'], \n",
    "                    how = 'left')\n",
    "app_train_bureau_bureau_bal_cb_bal_installments_pay_pos_cash_bal.shape"
   ]
  },
  {
   "cell_type": "code",
   "execution_count": 192,
   "metadata": {},
   "outputs": [
    {
     "data": {
      "text/plain": [
       "(1670214, 37)"
      ]
     },
     "execution_count": 192,
     "metadata": {},
     "output_type": "execute_result"
    }
   ],
   "source": [
    "prev_app.shape"
   ]
  },
  {
   "cell_type": "code",
   "execution_count": 193,
   "metadata": {},
   "outputs": [
    {
     "data": {
      "text/plain": [
       "Index(['SK_ID_PREV', 'SK_ID_CURR', 'NAME_CONTRACT_TYPE', 'AMT_ANNUITY',\n",
       "       'AMT_CREDIT', 'AMT_GOODS_PRICE', 'WEEKDAY_APPR_PROCESS_START',\n",
       "       'HOUR_APPR_PROCESS_START', 'NAME_CONTRACT_STATUS', 'NAME_TYPE_SUITE'],\n",
       "      dtype='object')"
      ]
     },
     "execution_count": 193,
     "metadata": {},
     "output_type": "execute_result"
    }
   ],
   "source": [
    "prev_app.columns.intersection(app_train_bureau_bureau_bal_cb_bal_installments_pay_pos_cash_bal.columns)"
   ]
  },
  {
   "cell_type": "code",
   "execution_count": 194,
   "metadata": {},
   "outputs": [
    {
     "data": {
      "text/plain": [
       "(321207, 195)"
      ]
     },
     "execution_count": 194,
     "metadata": {},
     "output_type": "execute_result"
    }
   ],
   "source": [
    "# merge app_train_bureau_bureau_bal_cb_bal_installments_pay_pos_cash_bal et prev_app\n",
    "\n",
    "app_train_bureau_bureau_bal_cb_bal_installments_pay_pos_cash_bal_prev_app = \\\n",
    "                    pd.merge(app_train_bureau_bureau_bal_cb_bal_installments_pay_pos_cash_bal, prev_app,\n",
    "                    on = ['SK_ID_PREV', 'SK_ID_CURR', 'NAME_CONTRACT_TYPE', 'AMT_ANNUITY',\n",
    "                    'AMT_CREDIT', 'AMT_GOODS_PRICE', 'WEEKDAY_APPR_PROCESS_START',\n",
    "                    'HOUR_APPR_PROCESS_START', 'NAME_CONTRACT_STATUS', 'NAME_TYPE_SUITE'], how = 'left')\n",
    "app_train_bureau_bureau_bal_cb_bal_installments_pay_pos_cash_bal_prev_app.shape"
   ]
  },
  {
   "cell_type": "code",
   "execution_count": 195,
   "metadata": {},
   "outputs": [
    {
     "data": {
      "text/plain": [
       "(48744, 2)"
      ]
     },
     "execution_count": 195,
     "metadata": {},
     "output_type": "execute_result"
    }
   ],
   "source": [
    "submission.shape"
   ]
  },
  {
   "cell_type": "code",
   "execution_count": 196,
   "metadata": {},
   "outputs": [
    {
     "data": {
      "text/html": [
       "<div>\n",
       "<style scoped>\n",
       "    .dataframe tbody tr th:only-of-type {\n",
       "        vertical-align: middle;\n",
       "    }\n",
       "\n",
       "    .dataframe tbody tr th {\n",
       "        vertical-align: top;\n",
       "    }\n",
       "\n",
       "    .dataframe thead th {\n",
       "        text-align: right;\n",
       "    }\n",
       "</style>\n",
       "<table border=\"1\" class=\"dataframe\">\n",
       "  <thead>\n",
       "    <tr style=\"text-align: right;\">\n",
       "      <th></th>\n",
       "      <th>SK_ID_CURR</th>\n",
       "      <th>TARGET</th>\n",
       "    </tr>\n",
       "  </thead>\n",
       "  <tbody>\n",
       "    <tr>\n",
       "      <th>0</th>\n",
       "      <td>100001</td>\n",
       "      <td>0.5</td>\n",
       "    </tr>\n",
       "    <tr>\n",
       "      <th>1</th>\n",
       "      <td>100005</td>\n",
       "      <td>0.5</td>\n",
       "    </tr>\n",
       "    <tr>\n",
       "      <th>2</th>\n",
       "      <td>100013</td>\n",
       "      <td>0.5</td>\n",
       "    </tr>\n",
       "    <tr>\n",
       "      <th>3</th>\n",
       "      <td>100028</td>\n",
       "      <td>0.5</td>\n",
       "    </tr>\n",
       "    <tr>\n",
       "      <th>4</th>\n",
       "      <td>100038</td>\n",
       "      <td>0.5</td>\n",
       "    </tr>\n",
       "  </tbody>\n",
       "</table>\n",
       "</div>"
      ],
      "text/plain": [
       "   SK_ID_CURR  TARGET\n",
       "0      100001     0.5\n",
       "1      100005     0.5\n",
       "2      100013     0.5\n",
       "3      100028     0.5\n",
       "4      100038     0.5"
      ]
     },
     "execution_count": 196,
     "metadata": {},
     "output_type": "execute_result"
    }
   ],
   "source": [
    "submission.head()"
   ]
  },
  {
   "cell_type": "markdown",
   "metadata": {},
   "source": [
    "### Ce dataset a le même nombre de lignes que app_test et présente la target, je les joins :"
   ]
  },
  {
   "cell_type": "code",
   "execution_count": 197,
   "metadata": {},
   "outputs": [
    {
     "data": {
      "text/plain": [
       "(48744, 122)"
      ]
     },
     "execution_count": 197,
     "metadata": {},
     "output_type": "execute_result"
    }
   ],
   "source": [
    "# merge app_test et submission\n",
    "\n",
    "app_test_submission = pd.merge(app_test, submission, on = ['SK_ID_CURR'], how = 'inner')\n",
    "app_test_submission.shape"
   ]
  },
  {
   "cell_type": "markdown",
   "metadata": {},
   "source": [
    "### Le taux de remplissage des colonnes :"
   ]
  },
  {
   "cell_type": "code",
   "execution_count": 198,
   "metadata": {},
   "outputs": [],
   "source": [
    "df = app_train_bureau_bureau_bal_cb_bal_installments_pay_pos_cash_bal_prev_app"
   ]
  },
  {
   "cell_type": "code",
   "execution_count": 199,
   "metadata": {},
   "outputs": [
    {
     "data": {
      "text/plain": [
       "(321207, 65)"
      ]
     },
     "execution_count": 199,
     "metadata": {},
     "output_type": "execute_result"
    }
   ],
   "source": [
    "# je ne conserve que les colonnes remplies à plus de 90%\n",
    "\n",
    "cols_to_delete = df.columns[df.isnull().sum()/len(df) > .10]\n",
    "df.drop(cols_to_delete, axis = 1, inplace = True)\n",
    "df.shape"
   ]
  },
  {
   "cell_type": "code",
   "execution_count": 200,
   "metadata": {},
   "outputs": [
    {
     "data": {
      "text/plain": [
       "321207"
      ]
     },
     "execution_count": 200,
     "metadata": {},
     "output_type": "execute_result"
    }
   ],
   "source": [
    "# je vérifie l'état de la colonne cible\n",
    "\n",
    "df.loc[df.TARGET].shape[0]"
   ]
  },
  {
   "cell_type": "markdown",
   "metadata": {},
   "source": [
    "### Ici j'ai uniquement les colonnes qui sont remplies à plus de 90%, je ne conserve que celles-ci dans le dataset principal."
   ]
  },
  {
   "cell_type": "code",
   "execution_count": 201,
   "metadata": {},
   "outputs": [
    {
     "data": {
      "text/plain": [
       "Index(['SK_ID_CURR', 'TARGET', 'NAME_CONTRACT_TYPE', 'CODE_GENDER',\n",
       "       'FLAG_OWN_CAR', 'FLAG_OWN_REALTY', 'CNT_CHILDREN', 'AMT_INCOME_TOTAL',\n",
       "       'AMT_CREDIT', 'AMT_ANNUITY', 'AMT_GOODS_PRICE', 'NAME_TYPE_SUITE',\n",
       "       'NAME_INCOME_TYPE', 'NAME_EDUCATION_TYPE', 'NAME_FAMILY_STATUS',\n",
       "       'NAME_HOUSING_TYPE', 'REGION_POPULATION_RELATIVE', 'DAYS_BIRTH',\n",
       "       'DAYS_EMPLOYED', 'DAYS_REGISTRATION', 'DAYS_ID_PUBLISH', 'FLAG_MOBIL',\n",
       "       'FLAG_EMP_PHONE', 'FLAG_WORK_PHONE', 'FLAG_CONT_MOBILE', 'FLAG_PHONE',\n",
       "       'FLAG_EMAIL', 'CNT_FAM_MEMBERS', 'REGION_RATING_CLIENT',\n",
       "       'REGION_RATING_CLIENT_W_CITY', 'WEEKDAY_APPR_PROCESS_START',\n",
       "       'HOUR_APPR_PROCESS_START', 'REG_REGION_NOT_LIVE_REGION',\n",
       "       'REG_REGION_NOT_WORK_REGION', 'LIVE_REGION_NOT_WORK_REGION',\n",
       "       'REG_CITY_NOT_LIVE_CITY', 'REG_CITY_NOT_WORK_CITY',\n",
       "       'LIVE_CITY_NOT_WORK_CITY', 'ORGANIZATION_TYPE', 'EXT_SOURCE_2',\n",
       "       'OBS_30_CNT_SOCIAL_CIRCLE', 'DEF_30_CNT_SOCIAL_CIRCLE',\n",
       "       'OBS_60_CNT_SOCIAL_CIRCLE', 'DEF_60_CNT_SOCIAL_CIRCLE',\n",
       "       'DAYS_LAST_PHONE_CHANGE', 'FLAG_DOCUMENT_2', 'FLAG_DOCUMENT_3',\n",
       "       'FLAG_DOCUMENT_4', 'FLAG_DOCUMENT_5', 'FLAG_DOCUMENT_6',\n",
       "       'FLAG_DOCUMENT_7', 'FLAG_DOCUMENT_8', 'FLAG_DOCUMENT_9',\n",
       "       'FLAG_DOCUMENT_10', 'FLAG_DOCUMENT_11', 'FLAG_DOCUMENT_12',\n",
       "       'FLAG_DOCUMENT_13', 'FLAG_DOCUMENT_14', 'FLAG_DOCUMENT_15',\n",
       "       'FLAG_DOCUMENT_16', 'FLAG_DOCUMENT_17', 'FLAG_DOCUMENT_18',\n",
       "       'FLAG_DOCUMENT_19', 'FLAG_DOCUMENT_20', 'FLAG_DOCUMENT_21'],\n",
       "      dtype='object')"
      ]
     },
     "execution_count": 201,
     "metadata": {},
     "output_type": "execute_result"
    }
   ],
   "source": [
    "df.columns"
   ]
  },
  {
   "cell_type": "markdown",
   "metadata": {},
   "source": [
    "### Vérification des doublons sur ID :"
   ]
  },
  {
   "cell_type": "code",
   "execution_count": 202,
   "metadata": {},
   "outputs": [
    {
     "data": {
      "text/plain": [
       "(307511, 65)"
      ]
     },
     "execution_count": 202,
     "metadata": {},
     "output_type": "execute_result"
    }
   ],
   "source": [
    "df.drop_duplicates(subset=['SK_ID_CURR'], keep='first').shape"
   ]
  },
  {
   "cell_type": "markdown",
   "metadata": {},
   "source": [
    "### Il y a des doublons sur \"SK_ID_CURR\", certains clients doivent avoir plusieurs crédits, je vais devoir faire une agrégation groupby sur \"SK_ID_CURR\"."
   ]
  },
  {
   "cell_type": "code",
   "execution_count": 203,
   "metadata": {},
   "outputs": [
    {
     "data": {
      "text/html": [
       "<div>\n",
       "<style scoped>\n",
       "    .dataframe tbody tr th:only-of-type {\n",
       "        vertical-align: middle;\n",
       "    }\n",
       "\n",
       "    .dataframe tbody tr th {\n",
       "        vertical-align: top;\n",
       "    }\n",
       "\n",
       "    .dataframe thead th {\n",
       "        text-align: right;\n",
       "    }\n",
       "</style>\n",
       "<table border=\"1\" class=\"dataframe\">\n",
       "  <thead>\n",
       "    <tr style=\"text-align: right;\">\n",
       "      <th></th>\n",
       "      <th>SK_ID_CURR</th>\n",
       "      <th>TARGET</th>\n",
       "      <th>NAME_CONTRACT_TYPE</th>\n",
       "      <th>CODE_GENDER</th>\n",
       "      <th>FLAG_OWN_CAR</th>\n",
       "      <th>FLAG_OWN_REALTY</th>\n",
       "      <th>CNT_CHILDREN</th>\n",
       "      <th>AMT_INCOME_TOTAL</th>\n",
       "      <th>AMT_CREDIT</th>\n",
       "      <th>AMT_ANNUITY</th>\n",
       "      <th>...</th>\n",
       "      <th>FLAG_DOCUMENT_12</th>\n",
       "      <th>FLAG_DOCUMENT_13</th>\n",
       "      <th>FLAG_DOCUMENT_14</th>\n",
       "      <th>FLAG_DOCUMENT_15</th>\n",
       "      <th>FLAG_DOCUMENT_16</th>\n",
       "      <th>FLAG_DOCUMENT_17</th>\n",
       "      <th>FLAG_DOCUMENT_18</th>\n",
       "      <th>FLAG_DOCUMENT_19</th>\n",
       "      <th>FLAG_DOCUMENT_20</th>\n",
       "      <th>FLAG_DOCUMENT_21</th>\n",
       "    </tr>\n",
       "  </thead>\n",
       "  <tbody>\n",
       "    <tr>\n",
       "      <th>0</th>\n",
       "      <td>100002</td>\n",
       "      <td>1</td>\n",
       "      <td>Cash loans</td>\n",
       "      <td>M</td>\n",
       "      <td>N</td>\n",
       "      <td>Y</td>\n",
       "      <td>0</td>\n",
       "      <td>202500.0</td>\n",
       "      <td>406597.5</td>\n",
       "      <td>24700.5</td>\n",
       "      <td>...</td>\n",
       "      <td>0</td>\n",
       "      <td>0</td>\n",
       "      <td>0</td>\n",
       "      <td>0</td>\n",
       "      <td>0</td>\n",
       "      <td>0</td>\n",
       "      <td>0</td>\n",
       "      <td>0</td>\n",
       "      <td>0</td>\n",
       "      <td>0</td>\n",
       "    </tr>\n",
       "    <tr>\n",
       "      <th>1</th>\n",
       "      <td>100003</td>\n",
       "      <td>0</td>\n",
       "      <td>Cash loans</td>\n",
       "      <td>F</td>\n",
       "      <td>N</td>\n",
       "      <td>N</td>\n",
       "      <td>0</td>\n",
       "      <td>270000.0</td>\n",
       "      <td>1293502.5</td>\n",
       "      <td>35698.5</td>\n",
       "      <td>...</td>\n",
       "      <td>0</td>\n",
       "      <td>0</td>\n",
       "      <td>0</td>\n",
       "      <td>0</td>\n",
       "      <td>0</td>\n",
       "      <td>0</td>\n",
       "      <td>0</td>\n",
       "      <td>0</td>\n",
       "      <td>0</td>\n",
       "      <td>0</td>\n",
       "    </tr>\n",
       "    <tr>\n",
       "      <th>2</th>\n",
       "      <td>100004</td>\n",
       "      <td>0</td>\n",
       "      <td>Revolving loans</td>\n",
       "      <td>M</td>\n",
       "      <td>Y</td>\n",
       "      <td>Y</td>\n",
       "      <td>0</td>\n",
       "      <td>67500.0</td>\n",
       "      <td>135000.0</td>\n",
       "      <td>6750.0</td>\n",
       "      <td>...</td>\n",
       "      <td>0</td>\n",
       "      <td>0</td>\n",
       "      <td>0</td>\n",
       "      <td>0</td>\n",
       "      <td>0</td>\n",
       "      <td>0</td>\n",
       "      <td>0</td>\n",
       "      <td>0</td>\n",
       "      <td>0</td>\n",
       "      <td>0</td>\n",
       "    </tr>\n",
       "    <tr>\n",
       "      <th>3</th>\n",
       "      <td>100006</td>\n",
       "      <td>0</td>\n",
       "      <td>Cash loans</td>\n",
       "      <td>F</td>\n",
       "      <td>N</td>\n",
       "      <td>Y</td>\n",
       "      <td>0</td>\n",
       "      <td>135000.0</td>\n",
       "      <td>312682.5</td>\n",
       "      <td>29686.5</td>\n",
       "      <td>...</td>\n",
       "      <td>0</td>\n",
       "      <td>0</td>\n",
       "      <td>0</td>\n",
       "      <td>0</td>\n",
       "      <td>0</td>\n",
       "      <td>0</td>\n",
       "      <td>0</td>\n",
       "      <td>0</td>\n",
       "      <td>0</td>\n",
       "      <td>0</td>\n",
       "    </tr>\n",
       "    <tr>\n",
       "      <th>4</th>\n",
       "      <td>100007</td>\n",
       "      <td>0</td>\n",
       "      <td>Cash loans</td>\n",
       "      <td>M</td>\n",
       "      <td>N</td>\n",
       "      <td>Y</td>\n",
       "      <td>0</td>\n",
       "      <td>121500.0</td>\n",
       "      <td>513000.0</td>\n",
       "      <td>21865.5</td>\n",
       "      <td>...</td>\n",
       "      <td>0</td>\n",
       "      <td>0</td>\n",
       "      <td>0</td>\n",
       "      <td>0</td>\n",
       "      <td>0</td>\n",
       "      <td>0</td>\n",
       "      <td>0</td>\n",
       "      <td>0</td>\n",
       "      <td>0</td>\n",
       "      <td>0</td>\n",
       "    </tr>\n",
       "  </tbody>\n",
       "</table>\n",
       "<p>5 rows × 65 columns</p>\n",
       "</div>"
      ],
      "text/plain": [
       "   SK_ID_CURR  TARGET NAME_CONTRACT_TYPE CODE_GENDER FLAG_OWN_CAR  \\\n",
       "0      100002       1         Cash loans           M            N   \n",
       "1      100003       0         Cash loans           F            N   \n",
       "2      100004       0    Revolving loans           M            Y   \n",
       "3      100006       0         Cash loans           F            N   \n",
       "4      100007       0         Cash loans           M            N   \n",
       "\n",
       "  FLAG_OWN_REALTY  CNT_CHILDREN  AMT_INCOME_TOTAL  AMT_CREDIT  AMT_ANNUITY  \\\n",
       "0               Y             0          202500.0    406597.5      24700.5   \n",
       "1               N             0          270000.0   1293502.5      35698.5   \n",
       "2               Y             0           67500.0    135000.0       6750.0   \n",
       "3               Y             0          135000.0    312682.5      29686.5   \n",
       "4               Y             0          121500.0    513000.0      21865.5   \n",
       "\n",
       "   ...  FLAG_DOCUMENT_12 FLAG_DOCUMENT_13 FLAG_DOCUMENT_14 FLAG_DOCUMENT_15  \\\n",
       "0  ...                 0                0                0                0   \n",
       "1  ...                 0                0                0                0   \n",
       "2  ...                 0                0                0                0   \n",
       "3  ...                 0                0                0                0   \n",
       "4  ...                 0                0                0                0   \n",
       "\n",
       "  FLAG_DOCUMENT_16 FLAG_DOCUMENT_17  FLAG_DOCUMENT_18  FLAG_DOCUMENT_19  \\\n",
       "0                0                0                 0                 0   \n",
       "1                0                0                 0                 0   \n",
       "2                0                0                 0                 0   \n",
       "3                0                0                 0                 0   \n",
       "4                0                0                 0                 0   \n",
       "\n",
       "   FLAG_DOCUMENT_20  FLAG_DOCUMENT_21  \n",
       "0                 0                 0  \n",
       "1                 0                 0  \n",
       "2                 0                 0  \n",
       "3                 0                 0  \n",
       "4                 0                 0  \n",
       "\n",
       "[5 rows x 65 columns]"
      ]
     },
     "execution_count": 203,
     "metadata": {},
     "output_type": "execute_result"
    }
   ],
   "source": [
    "df.head()"
   ]
  },
  {
   "cell_type": "markdown",
   "metadata": {},
   "source": [
    "### Séparation des variables numériques et qualitatives :"
   ]
  },
  {
   "cell_type": "code",
   "execution_count": 204,
   "metadata": {},
   "outputs": [
    {
     "name": "stdout",
     "output_type": "stream",
     "text": [
      "<class 'pandas.core.frame.DataFrame'>\n",
      "Int64Index: 321207 entries, 0 to 321206\n",
      "Data columns (total 65 columns):\n",
      " #   Column                       Non-Null Count   Dtype  \n",
      "---  ------                       --------------   -----  \n",
      " 0   SK_ID_CURR                   321207 non-null  int64  \n",
      " 1   TARGET                       321207 non-null  int64  \n",
      " 2   NAME_CONTRACT_TYPE           321207 non-null  object \n",
      " 3   CODE_GENDER                  321207 non-null  object \n",
      " 4   FLAG_OWN_CAR                 321207 non-null  object \n",
      " 5   FLAG_OWN_REALTY              321207 non-null  object \n",
      " 6   CNT_CHILDREN                 321207 non-null  int64  \n",
      " 7   AMT_INCOME_TOTAL             321207 non-null  float64\n",
      " 8   AMT_CREDIT                   321207 non-null  float64\n",
      " 9   AMT_ANNUITY                  307889 non-null  float64\n",
      " 10  AMT_GOODS_PRICE              320929 non-null  float64\n",
      " 11  NAME_TYPE_SUITE              319915 non-null  object \n",
      " 12  NAME_INCOME_TYPE             321207 non-null  object \n",
      " 13  NAME_EDUCATION_TYPE          321207 non-null  object \n",
      " 14  NAME_FAMILY_STATUS           321207 non-null  object \n",
      " 15  NAME_HOUSING_TYPE            321207 non-null  object \n",
      " 16  REGION_POPULATION_RELATIVE   321207 non-null  float64\n",
      " 17  DAYS_BIRTH                   321207 non-null  int64  \n",
      " 18  DAYS_EMPLOYED                321207 non-null  int64  \n",
      " 19  DAYS_REGISTRATION            321207 non-null  float64\n",
      " 20  DAYS_ID_PUBLISH              321207 non-null  int64  \n",
      " 21  FLAG_MOBIL                   321207 non-null  int64  \n",
      " 22  FLAG_EMP_PHONE               321207 non-null  int64  \n",
      " 23  FLAG_WORK_PHONE              321207 non-null  int64  \n",
      " 24  FLAG_CONT_MOBILE             321207 non-null  int64  \n",
      " 25  FLAG_PHONE                   321207 non-null  int64  \n",
      " 26  FLAG_EMAIL                   321207 non-null  int64  \n",
      " 27  CNT_FAM_MEMBERS              321205 non-null  float64\n",
      " 28  REGION_RATING_CLIENT         321207 non-null  int64  \n",
      " 29  REGION_RATING_CLIENT_W_CITY  321207 non-null  int64  \n",
      " 30  WEEKDAY_APPR_PROCESS_START   321207 non-null  object \n",
      " 31  HOUR_APPR_PROCESS_START      321207 non-null  int64  \n",
      " 32  REG_REGION_NOT_LIVE_REGION   321207 non-null  int64  \n",
      " 33  REG_REGION_NOT_WORK_REGION   321207 non-null  int64  \n",
      " 34  LIVE_REGION_NOT_WORK_REGION  321207 non-null  int64  \n",
      " 35  REG_CITY_NOT_LIVE_CITY       321207 non-null  int64  \n",
      " 36  REG_CITY_NOT_WORK_CITY       321207 non-null  int64  \n",
      " 37  LIVE_CITY_NOT_WORK_CITY      321207 non-null  int64  \n",
      " 38  ORGANIZATION_TYPE            321207 non-null  object \n",
      " 39  EXT_SOURCE_2                 320547 non-null  float64\n",
      " 40  OBS_30_CNT_SOCIAL_CIRCLE     320165 non-null  float64\n",
      " 41  DEF_30_CNT_SOCIAL_CIRCLE     320165 non-null  float64\n",
      " 42  OBS_60_CNT_SOCIAL_CIRCLE     320165 non-null  float64\n",
      " 43  DEF_60_CNT_SOCIAL_CIRCLE     320165 non-null  float64\n",
      " 44  DAYS_LAST_PHONE_CHANGE       321206 non-null  float64\n",
      " 45  FLAG_DOCUMENT_2              321207 non-null  int64  \n",
      " 46  FLAG_DOCUMENT_3              321207 non-null  int64  \n",
      " 47  FLAG_DOCUMENT_4              321207 non-null  int64  \n",
      " 48  FLAG_DOCUMENT_5              321207 non-null  int64  \n",
      " 49  FLAG_DOCUMENT_6              321207 non-null  int64  \n",
      " 50  FLAG_DOCUMENT_7              321207 non-null  int64  \n",
      " 51  FLAG_DOCUMENT_8              321207 non-null  int64  \n",
      " 52  FLAG_DOCUMENT_9              321207 non-null  int64  \n",
      " 53  FLAG_DOCUMENT_10             321207 non-null  int64  \n",
      " 54  FLAG_DOCUMENT_11             321207 non-null  int64  \n",
      " 55  FLAG_DOCUMENT_12             321207 non-null  int64  \n",
      " 56  FLAG_DOCUMENT_13             321207 non-null  int64  \n",
      " 57  FLAG_DOCUMENT_14             321207 non-null  int64  \n",
      " 58  FLAG_DOCUMENT_15             321207 non-null  int64  \n",
      " 59  FLAG_DOCUMENT_16             321207 non-null  int64  \n",
      " 60  FLAG_DOCUMENT_17             321207 non-null  int64  \n",
      " 61  FLAG_DOCUMENT_18             321207 non-null  int64  \n",
      " 62  FLAG_DOCUMENT_19             321207 non-null  int64  \n",
      " 63  FLAG_DOCUMENT_20             321207 non-null  int64  \n",
      " 64  FLAG_DOCUMENT_21             321207 non-null  int64  \n",
      "dtypes: float64(13), int64(41), object(11)\n",
      "memory usage: 171.7+ MB\n"
     ]
    }
   ],
   "source": [
    "df.info()"
   ]
  },
  {
   "cell_type": "markdown",
   "metadata": {},
   "source": [
    "# <font color = 'red'> Variables numériques"
   ]
  },
  {
   "cell_type": "code",
   "execution_count": 205,
   "metadata": {},
   "outputs": [
    {
     "data": {
      "text/plain": [
       "(321207, 54)"
      ]
     },
     "execution_count": 205,
     "metadata": {},
     "output_type": "execute_result"
    }
   ],
   "source": [
    "df_num = df.select_dtypes(exclude=['object'])\n",
    "df_num.shape"
   ]
  },
  {
   "cell_type": "code",
   "execution_count": 206,
   "metadata": {},
   "outputs": [
    {
     "data": {
      "text/plain": [
       "(321207, 13)"
      ]
     },
     "execution_count": 206,
     "metadata": {},
     "output_type": "execute_result"
    }
   ],
   "source": [
    "df_qual = df[['SK_ID_CURR', 'TARGET', 'NAME_CONTRACT_TYPE', 'CODE_GENDER', 'FLAG_OWN_CAR', 'FLAG_OWN_REALTY',\n",
    "       'NAME_TYPE_SUITE', 'NAME_INCOME_TYPE', 'NAME_EDUCATION_TYPE',\n",
    "       'NAME_FAMILY_STATUS', 'NAME_HOUSING_TYPE', 'WEEKDAY_APPR_PROCESS_START',\n",
    "       'ORGANIZATION_TYPE']]\n",
    "df_qual.shape"
   ]
  },
  {
   "cell_type": "markdown",
   "metadata": {},
   "source": [
    "### Observation de la distribution des variables :"
   ]
  },
  {
   "cell_type": "code",
   "execution_count": 207,
   "metadata": {
    "scrolled": true
   },
   "outputs": [
    {
     "data": {
      "text/plain": [
       "array([[<AxesSubplot:title={'center':'SK_ID_CURR'}>,\n",
       "        <AxesSubplot:title={'center':'TARGET'}>,\n",
       "        <AxesSubplot:title={'center':'CNT_CHILDREN'}>,\n",
       "        <AxesSubplot:title={'center':'AMT_INCOME_TOTAL'}>,\n",
       "        <AxesSubplot:title={'center':'AMT_CREDIT'}>,\n",
       "        <AxesSubplot:title={'center':'AMT_ANNUITY'}>,\n",
       "        <AxesSubplot:title={'center':'AMT_GOODS_PRICE'}>],\n",
       "       [<AxesSubplot:title={'center':'REGION_POPULATION_RELATIVE'}>,\n",
       "        <AxesSubplot:title={'center':'DAYS_BIRTH'}>,\n",
       "        <AxesSubplot:title={'center':'DAYS_EMPLOYED'}>,\n",
       "        <AxesSubplot:title={'center':'DAYS_REGISTRATION'}>,\n",
       "        <AxesSubplot:title={'center':'DAYS_ID_PUBLISH'}>,\n",
       "        <AxesSubplot:title={'center':'FLAG_MOBIL'}>,\n",
       "        <AxesSubplot:title={'center':'FLAG_EMP_PHONE'}>],\n",
       "       [<AxesSubplot:title={'center':'FLAG_WORK_PHONE'}>,\n",
       "        <AxesSubplot:title={'center':'FLAG_CONT_MOBILE'}>,\n",
       "        <AxesSubplot:title={'center':'FLAG_PHONE'}>,\n",
       "        <AxesSubplot:title={'center':'FLAG_EMAIL'}>,\n",
       "        <AxesSubplot:title={'center':'CNT_FAM_MEMBERS'}>,\n",
       "        <AxesSubplot:title={'center':'REGION_RATING_CLIENT'}>,\n",
       "        <AxesSubplot:title={'center':'REGION_RATING_CLIENT_W_CITY'}>],\n",
       "       [<AxesSubplot:title={'center':'HOUR_APPR_PROCESS_START'}>,\n",
       "        <AxesSubplot:title={'center':'REG_REGION_NOT_LIVE_REGION'}>,\n",
       "        <AxesSubplot:title={'center':'REG_REGION_NOT_WORK_REGION'}>,\n",
       "        <AxesSubplot:title={'center':'LIVE_REGION_NOT_WORK_REGION'}>,\n",
       "        <AxesSubplot:title={'center':'REG_CITY_NOT_LIVE_CITY'}>,\n",
       "        <AxesSubplot:title={'center':'REG_CITY_NOT_WORK_CITY'}>,\n",
       "        <AxesSubplot:title={'center':'LIVE_CITY_NOT_WORK_CITY'}>],\n",
       "       [<AxesSubplot:title={'center':'EXT_SOURCE_2'}>,\n",
       "        <AxesSubplot:title={'center':'OBS_30_CNT_SOCIAL_CIRCLE'}>,\n",
       "        <AxesSubplot:title={'center':'DEF_30_CNT_SOCIAL_CIRCLE'}>,\n",
       "        <AxesSubplot:title={'center':'OBS_60_CNT_SOCIAL_CIRCLE'}>,\n",
       "        <AxesSubplot:title={'center':'DEF_60_CNT_SOCIAL_CIRCLE'}>,\n",
       "        <AxesSubplot:title={'center':'DAYS_LAST_PHONE_CHANGE'}>,\n",
       "        <AxesSubplot:title={'center':'FLAG_DOCUMENT_2'}>],\n",
       "       [<AxesSubplot:title={'center':'FLAG_DOCUMENT_3'}>,\n",
       "        <AxesSubplot:title={'center':'FLAG_DOCUMENT_4'}>,\n",
       "        <AxesSubplot:title={'center':'FLAG_DOCUMENT_5'}>,\n",
       "        <AxesSubplot:title={'center':'FLAG_DOCUMENT_6'}>,\n",
       "        <AxesSubplot:title={'center':'FLAG_DOCUMENT_7'}>,\n",
       "        <AxesSubplot:title={'center':'FLAG_DOCUMENT_8'}>,\n",
       "        <AxesSubplot:title={'center':'FLAG_DOCUMENT_9'}>],\n",
       "       [<AxesSubplot:title={'center':'FLAG_DOCUMENT_10'}>,\n",
       "        <AxesSubplot:title={'center':'FLAG_DOCUMENT_11'}>,\n",
       "        <AxesSubplot:title={'center':'FLAG_DOCUMENT_12'}>,\n",
       "        <AxesSubplot:title={'center':'FLAG_DOCUMENT_13'}>,\n",
       "        <AxesSubplot:title={'center':'FLAG_DOCUMENT_14'}>,\n",
       "        <AxesSubplot:title={'center':'FLAG_DOCUMENT_15'}>,\n",
       "        <AxesSubplot:title={'center':'FLAG_DOCUMENT_16'}>],\n",
       "       [<AxesSubplot:title={'center':'FLAG_DOCUMENT_17'}>,\n",
       "        <AxesSubplot:title={'center':'FLAG_DOCUMENT_18'}>,\n",
       "        <AxesSubplot:title={'center':'FLAG_DOCUMENT_19'}>,\n",
       "        <AxesSubplot:title={'center':'FLAG_DOCUMENT_20'}>,\n",
       "        <AxesSubplot:title={'center':'FLAG_DOCUMENT_21'}>,\n",
       "        <AxesSubplot:>, <AxesSubplot:>]], dtype=object)"
      ]
     },
     "execution_count": 207,
     "metadata": {},
     "output_type": "execute_result"
    },
    {
     "data": {
      "image/png": "[encoded data removed]",
      "text/plain": [
       "<Figure size 1296x2160 with 56 Axes>"
      ]
     },
     "metadata": {
      "needs_background": "light"
     },
     "output_type": "display_data"
    }
   ],
   "source": [
    "df_num.hist(figsize=(18, 30))"
   ]
  },
  {
   "cell_type": "markdown",
   "metadata": {},
   "source": [
    "### Je pense que la distribution peut être améliorée en transformant certaines variables au logarithme."
   ]
  },
  {
   "cell_type": "code",
   "execution_count": 208,
   "metadata": {},
   "outputs": [],
   "source": [
    "# Amélioration de la distribution des distribution par le logarithme ou bien en rendant la durée positive\n",
    "\n",
    "df_num['AMT_ANNUITY'] = np.log(df['AMT_ANNUITY'])\n",
    "df_num['AMT_CREDIT'] = np.log(df['AMT_CREDIT'])\n",
    "df_num['AMT_GOODS_PRICE'] = np.log(df['AMT_GOODS_PRICE'])\n",
    "df_num['CNT_FAM_MEMBERS'] = np.log(df['CNT_FAM_MEMBERS'])\n",
    "df_num['DAYS_BIRTH'] = np.log((-1) * df['DAYS_BIRTH'])\n",
    "df_num['DAYS_ID_PUBLISH'] = (-1 * (df['DAYS_ID_PUBLISH']))\n",
    "df_num['DAYS_LAST_PHONE_CHANGE'] = np.log(1 + (-1) * df['DAYS_LAST_PHONE_CHANGE'])\n",
    "df_num['DAYS_REGISTRATION'] = np.log(1 + (-1) * df['DAYS_REGISTRATION'])\n",
    "df_num['EXT_SOURCE_2'] = (-1 * (df['EXT_SOURCE_2']))\n",
    "df_num['REGION_POPULATION_RELATIVE'] = np.log(df['REGION_POPULATION_RELATIVE'])"
   ]
  },
  {
   "cell_type": "code",
   "execution_count": 209,
   "metadata": {
    "scrolled": true
   },
   "outputs": [
    {
     "data": {
      "text/plain": [
       "array([[<AxesSubplot:title={'center':'SK_ID_CURR'}>,\n",
       "        <AxesSubplot:title={'center':'TARGET'}>,\n",
       "        <AxesSubplot:title={'center':'CNT_CHILDREN'}>,\n",
       "        <AxesSubplot:title={'center':'AMT_INCOME_TOTAL'}>,\n",
       "        <AxesSubplot:title={'center':'AMT_CREDIT'}>,\n",
       "        <AxesSubplot:title={'center':'AMT_ANNUITY'}>,\n",
       "        <AxesSubplot:title={'center':'AMT_GOODS_PRICE'}>],\n",
       "       [<AxesSubplot:title={'center':'REGION_POPULATION_RELATIVE'}>,\n",
       "        <AxesSubplot:title={'center':'DAYS_BIRTH'}>,\n",
       "        <AxesSubplot:title={'center':'DAYS_EMPLOYED'}>,\n",
       "        <AxesSubplot:title={'center':'DAYS_REGISTRATION'}>,\n",
       "        <AxesSubplot:title={'center':'DAYS_ID_PUBLISH'}>,\n",
       "        <AxesSubplot:title={'center':'FLAG_MOBIL'}>,\n",
       "        <AxesSubplot:title={'center':'FLAG_EMP_PHONE'}>],\n",
       "       [<AxesSubplot:title={'center':'FLAG_WORK_PHONE'}>,\n",
       "        <AxesSubplot:title={'center':'FLAG_CONT_MOBILE'}>,\n",
       "        <AxesSubplot:title={'center':'FLAG_PHONE'}>,\n",
       "        <AxesSubplot:title={'center':'FLAG_EMAIL'}>,\n",
       "        <AxesSubplot:title={'center':'CNT_FAM_MEMBERS'}>,\n",
       "        <AxesSubplot:title={'center':'REGION_RATING_CLIENT'}>,\n",
       "        <AxesSubplot:title={'center':'REGION_RATING_CLIENT_W_CITY'}>],\n",
       "       [<AxesSubplot:title={'center':'HOUR_APPR_PROCESS_START'}>,\n",
       "        <AxesSubplot:title={'center':'REG_REGION_NOT_LIVE_REGION'}>,\n",
       "        <AxesSubplot:title={'center':'REG_REGION_NOT_WORK_REGION'}>,\n",
       "        <AxesSubplot:title={'center':'LIVE_REGION_NOT_WORK_REGION'}>,\n",
       "        <AxesSubplot:title={'center':'REG_CITY_NOT_LIVE_CITY'}>,\n",
       "        <AxesSubplot:title={'center':'REG_CITY_NOT_WORK_CITY'}>,\n",
       "        <AxesSubplot:title={'center':'LIVE_CITY_NOT_WORK_CITY'}>],\n",
       "       [<AxesSubplot:title={'center':'EXT_SOURCE_2'}>,\n",
       "        <AxesSubplot:title={'center':'OBS_30_CNT_SOCIAL_CIRCLE'}>,\n",
       "        <AxesSubplot:title={'center':'DEF_30_CNT_SOCIAL_CIRCLE'}>,\n",
       "        <AxesSubplot:title={'center':'OBS_60_CNT_SOCIAL_CIRCLE'}>,\n",
       "        <AxesSubplot:title={'center':'DEF_60_CNT_SOCIAL_CIRCLE'}>,\n",
       "        <AxesSubplot:title={'center':'DAYS_LAST_PHONE_CHANGE'}>,\n",
       "        <AxesSubplot:title={'center':'FLAG_DOCUMENT_2'}>],\n",
       "       [<AxesSubplot:title={'center':'FLAG_DOCUMENT_3'}>,\n",
       "        <AxesSubplot:title={'center':'FLAG_DOCUMENT_4'}>,\n",
       "        <AxesSubplot:title={'center':'FLAG_DOCUMENT_5'}>,\n",
       "        <AxesSubplot:title={'center':'FLAG_DOCUMENT_6'}>,\n",
       "        <AxesSubplot:title={'center':'FLAG_DOCUMENT_7'}>,\n",
       "        <AxesSubplot:title={'center':'FLAG_DOCUMENT_8'}>,\n",
       "        <AxesSubplot:title={'center':'FLAG_DOCUMENT_9'}>],\n",
       "       [<AxesSubplot:title={'center':'FLAG_DOCUMENT_10'}>,\n",
       "        <AxesSubplot:title={'center':'FLAG_DOCUMENT_11'}>,\n",
       "        <AxesSubplot:title={'center':'FLAG_DOCUMENT_12'}>,\n",
       "        <AxesSubplot:title={'center':'FLAG_DOCUMENT_13'}>,\n",
       "        <AxesSubplot:title={'center':'FLAG_DOCUMENT_14'}>,\n",
       "        <AxesSubplot:title={'center':'FLAG_DOCUMENT_15'}>,\n",
       "        <AxesSubplot:title={'center':'FLAG_DOCUMENT_16'}>],\n",
       "       [<AxesSubplot:title={'center':'FLAG_DOCUMENT_17'}>,\n",
       "        <AxesSubplot:title={'center':'FLAG_DOCUMENT_18'}>,\n",
       "        <AxesSubplot:title={'center':'FLAG_DOCUMENT_19'}>,\n",
       "        <AxesSubplot:title={'center':'FLAG_DOCUMENT_20'}>,\n",
       "        <AxesSubplot:title={'center':'FLAG_DOCUMENT_21'}>,\n",
       "        <AxesSubplot:>, <AxesSubplot:>]], dtype=object)"
      ]
     },
     "execution_count": 209,
     "metadata": {},
     "output_type": "execute_result"
    },
    {
     "data": {
      "image/png": "[encoded data removed]",
      "text/plain": [
       "<Figure size 1296x2160 with 56 Axes>"
      ]
     },
     "metadata": {
      "needs_background": "light"
     },
     "output_type": "display_data"
    }
   ],
   "source": [
    "df_num.hist(figsize=(18, 30))"
   ]
  },
  {
   "cell_type": "markdown",
   "metadata": {},
   "source": [
    "### Je dresse une matrice de corrélation sur les var numériques."
   ]
  },
  {
   "cell_type": "code",
   "execution_count": 210,
   "metadata": {},
   "outputs": [
    {
     "data": {
      "text/plain": [
       "<AxesSubplot:>"
      ]
     },
     "execution_count": 210,
     "metadata": {},
     "output_type": "execute_result"
    },
    {
     "data": {
      "image/png": "[encoded data removed]",
      "text/plain": [
       "<Figure size 1800x1440 with 2 Axes>"
      ]
     },
     "metadata": {
      "needs_background": "light"
     },
     "output_type": "display_data"
    }
   ],
   "source": [
    "plt.figure(figsize = (25, 20))\n",
    "\n",
    "corrMatrix = df_num.corr()\n",
    "sn.heatmap(corrMatrix, annot = False)"
   ]
  },
  {
   "cell_type": "markdown",
   "metadata": {},
   "source": [
    "### Dans le souci de ne pas avoir des variables trop corrélées entre elles, je cherche les paires qui auraient un indice de Pearson > 0.85:"
   ]
  },
  {
   "cell_type": "code",
   "execution_count": 211,
   "metadata": {},
   "outputs": [
    {
     "data": {
      "text/plain": [
       "[('AMT_CREDIT', 'AMT_GOODS_PRICE'),\n",
       " ('DAYS_EMPLOYED', 'FLAG_EMP_PHONE'),\n",
       " ('REGION_RATING_CLIENT', 'REGION_RATING_CLIENT_W_CITY'),\n",
       " ('OBS_30_CNT_SOCIAL_CIRCLE', 'OBS_60_CNT_SOCIAL_CIRCLE')]"
      ]
     },
     "execution_count": 211,
     "metadata": {},
     "output_type": "execute_result"
    }
   ],
   "source": [
    "# Je cherche qu'elles sont les paires corrélées à plus de 0.85\n",
    "\n",
    "corr_matrix = df_num.corr().abs()\n",
    "high_corr_var = np.where(corr_matrix > 0.9)\n",
    "high_corr_var = [(corr_matrix.columns[x],corr_matrix.columns[y]) for x, y in zip(*high_corr_var) if x != y and x < y]\n",
    "high_corr_var"
   ]
  },
  {
   "cell_type": "code",
   "execution_count": 212,
   "metadata": {},
   "outputs": [],
   "source": [
    "# Ce code sélectionne les corrélations supérieures à 0.85 et les supprime du df directement\n",
    "\n",
    "corr_matrix = df_num.corr().abs()\n",
    "\n",
    "# Select upper triangle of correlation matrix\n",
    "upper = corr_matrix.where(np.triu(np.ones(corr_matrix.shape), k=1).astype(np.bool))\n",
    "\n",
    "# Find features with correlation greater than 0.90\n",
    "to_drop = [column for column in upper.columns if any(upper[column] > 0.9)]\n",
    "\n",
    "# Drop features \n",
    "df_num.drop(to_drop, axis=1, inplace=True)"
   ]
  },
  {
   "cell_type": "markdown",
   "metadata": {},
   "source": [
    "### Les variables qui ont le plus d'importance sur la target:"
   ]
  },
  {
   "cell_type": "code",
   "execution_count": 213,
   "metadata": {
    "scrolled": false
   },
   "outputs": [
    {
     "data": {
      "text/plain": [
       "TARGET                         1.000000\n",
       "EXT_SOURCE_2                   0.162324\n",
       "REGION_RATING_CLIENT           0.060757\n",
       "REG_CITY_NOT_WORK_CITY         0.055372\n",
       "REG_CITY_NOT_LIVE_CITY         0.046034\n",
       "FLAG_DOCUMENT_3                0.038199\n",
       "DEF_30_CNT_SOCIAL_CIRCLE       0.036116\n",
       "LIVE_CITY_NOT_WORK_CITY        0.035982\n",
       "DEF_60_CNT_SOCIAL_CIRCLE       0.034608\n",
       "FLAG_WORK_PHONE                0.032456\n",
       "CNT_CHILDREN                   0.026165\n",
       "OBS_30_CNT_SOCIAL_CIRCLE       0.016153\n",
       "REG_REGION_NOT_WORK_REGION     0.007547\n",
       "REG_REGION_NOT_LIVE_REGION     0.007109\n",
       "CNT_FAM_MEMBERS                0.006381\n",
       "FLAG_DOCUMENT_2                0.005487\n",
       "FLAG_DOCUMENT_21               0.003929\n",
       "LIVE_REGION_NOT_WORK_REGION    0.002943\n",
       "AMT_ANNUITY                    0.000949\n",
       "FLAG_MOBIL                     0.000511\n",
       "FLAG_DOCUMENT_20               0.000496\n",
       "FLAG_CONT_MOBILE              -0.000170\n",
       "FLAG_DOCUMENT_12              -0.000722\n",
       "FLAG_DOCUMENT_5               -0.001032\n",
       "FLAG_DOCUMENT_19              -0.001050\n",
       "FLAG_DOCUMENT_7               -0.001344\n",
       "FLAG_DOCUMENT_10              -0.001351\n",
       "SK_ID_CURR                    -0.001675\n",
       "FLAG_DOCUMENT_4               -0.002554\n",
       "FLAG_DOCUMENT_17              -0.003167\n",
       "FLAG_DOCUMENT_11              -0.003439\n",
       "FLAG_DOCUMENT_9               -0.003563\n",
       "AMT_INCOME_TOTAL              -0.004932\n",
       "FLAG_DOCUMENT_8               -0.005963\n",
       "FLAG_DOCUMENT_15              -0.006088\n",
       "FLAG_DOCUMENT_18              -0.006805\n",
       "FLAG_DOCUMENT_14              -0.008767\n",
       "FLAG_DOCUMENT_16              -0.010339\n",
       "FLAG_DOCUMENT_13              -0.010816\n",
       "DAYS_REGISTRATION             -0.017070\n",
       "AMT_CREDIT                    -0.021029\n",
       "FLAG_PHONE                    -0.024456\n",
       "FLAG_DOCUMENT_6               -0.024616\n",
       "HOUR_APPR_PROCESS_START       -0.026192\n",
       "FLAG_EMAIL                    -0.026894\n",
       "REGION_POPULATION_RELATIVE    -0.034186\n",
       "DAYS_EMPLOYED                 -0.038778\n",
       "DAYS_LAST_PHONE_CHANGE        -0.038916\n",
       "DAYS_ID_PUBLISH               -0.053218\n",
       "DAYS_BIRTH                    -0.076597\n",
       "dtype: float64"
      ]
     },
     "execution_count": 213,
     "metadata": {},
     "output_type": "execute_result"
    }
   ],
   "source": [
    "# Sélect influence sur cible\n",
    "\n",
    "importance_var_num = df_num.apply(lambda x: x.corr(df_num.TARGET))\n",
    "\n",
    "importance_var_num.sort_values(ascending = False)"
   ]
  },
  {
   "cell_type": "code",
   "execution_count": 214,
   "metadata": {},
   "outputs": [
    {
     "data": {
      "text/plain": [
       "50"
      ]
     },
     "execution_count": 214,
     "metadata": {},
     "output_type": "execute_result"
    }
   ],
   "source": [
    "importance_var_num.count()"
   ]
  },
  {
   "cell_type": "markdown",
   "metadata": {},
   "source": [
    "### Malheureusement, aucune variable n'a de grosse influence sur la cible. Je vais quand même supprimer celles qui sont négligeables afin que le modèle tourne plus rapidement."
   ]
  },
  {
   "cell_type": "code",
   "execution_count": 215,
   "metadata": {},
   "outputs": [
    {
     "data": {
      "text/plain": [
       "(321207, 26)"
      ]
     },
     "execution_count": 215,
     "metadata": {},
     "output_type": "execute_result"
    }
   ],
   "source": [
    "df_num = df_num[['SK_ID_CURR','TARGET','DAYS_BIRTH','DAYS_ID_PUBLISH','DAYS_LAST_PHONE_CHANGE','DAYS_EMPLOYED',\n",
    "                 'REGION_POPULATION_RELATIVE','FLAG_EMAIL','HOUR_APPR_PROCESS_START','FLAG_DOCUMENT_6',\n",
    "                 'FLAG_PHONE','AMT_CREDIT','DAYS_REGISTRATION','FLAG_DOCUMENT_13','FLAG_DOCUMENT_16',\n",
    "                 'AMT_INCOME_TOTAL',\n",
    "                \n",
    "                 'EXT_SOURCE_2','REGION_RATING_CLIENT','REG_CITY_NOT_WORK_CITY','REG_CITY_NOT_LIVE_CITY',\n",
    "                 'FLAG_DOCUMENT_3','DEF_30_CNT_SOCIAL_CIRCLE','LIVE_CITY_NOT_WORK_CITY','FLAG_WORK_PHONE',\n",
    "                 'CNT_CHILDREN','OBS_30_CNT_SOCIAL_CIRCLE']]\n",
    "\n",
    "df_num.shape"
   ]
  },
  {
   "cell_type": "markdown",
   "metadata": {},
   "source": [
    "# <font color = 'red'> Variables qualitatives"
   ]
  },
  {
   "cell_type": "markdown",
   "metadata": {},
   "source": [
    "### Intéressons nous aux variables qualitatives, nous allons étudier leur impact sur la cible, et les dummiser pour pouvoir les utiliser dans le modèle de scoring."
   ]
  },
  {
   "cell_type": "code",
   "execution_count": 216,
   "metadata": {},
   "outputs": [
    {
     "data": {
      "text/plain": [
       "Index(['SK_ID_CURR', 'TARGET', 'NAME_CONTRACT_TYPE', 'CODE_GENDER',\n",
       "       'FLAG_OWN_CAR', 'FLAG_OWN_REALTY', 'NAME_TYPE_SUITE',\n",
       "       'NAME_INCOME_TYPE', 'NAME_EDUCATION_TYPE', 'NAME_FAMILY_STATUS',\n",
       "       'NAME_HOUSING_TYPE', 'WEEKDAY_APPR_PROCESS_START', 'ORGANIZATION_TYPE'],\n",
       "      dtype='object')"
      ]
     },
     "execution_count": 216,
     "metadata": {},
     "output_type": "execute_result"
    }
   ],
   "source": [
    "df_qual.columns"
   ]
  },
  {
   "cell_type": "markdown",
   "metadata": {},
   "source": [
    "### Je calcule le R squared pour les futures features qualitatives avec la variable cible \"target\":"
   ]
  },
  {
   "cell_type": "code",
   "execution_count": 217,
   "metadata": {
    "scrolled": true
   },
   "outputs": [
    {
     "data": {
      "text/html": [
       "<table class=\"simpletable\">\n",
       "<caption>OLS Regression Results</caption>\n",
       "<tr>\n",
       "  <th>Dep. Variable:</th>         <td>TARGET</td>      <th>  R-squared:         </th> <td>   0.000</td> \n",
       "</tr>\n",
       "<tr>\n",
       "  <th>Model:</th>                   <td>OLS</td>       <th>  Adj. R-squared:    </th> <td>   0.000</td> \n",
       "</tr>\n",
       "<tr>\n",
       "  <th>Method:</th>             <td>Least Squares</td>  <th>  F-statistic:       </th> <td>   10.84</td> \n",
       "</tr>\n",
       "<tr>\n",
       "  <th>Date:</th>             <td>Wed, 02 Sep 2020</td> <th>  Prob (F-statistic):</th> <td>4.24e-12</td> \n",
       "</tr>\n",
       "<tr>\n",
       "  <th>Time:</th>                 <td>10:59:29</td>     <th>  Log-Likelihood:    </th> <td> -31760.</td> \n",
       "</tr>\n",
       "<tr>\n",
       "  <th>No. Observations:</th>      <td>319915</td>      <th>  AIC:               </th> <td>6.353e+04</td>\n",
       "</tr>\n",
       "<tr>\n",
       "  <th>Df Residuals:</th>          <td>319908</td>      <th>  BIC:               </th> <td>6.361e+04</td>\n",
       "</tr>\n",
       "<tr>\n",
       "  <th>Df Model:</th>              <td>     6</td>      <th>                     </th>     <td> </td>    \n",
       "</tr>\n",
       "<tr>\n",
       "  <th>Covariance Type:</th>      <td>nonrobust</td>    <th>                     </th>     <td> </td>    \n",
       "</tr>\n",
       "</table>\n",
       "<table class=\"simpletable\">\n",
       "<tr>\n",
       "                   <td></td>                     <th>coef</th>     <th>std err</th>      <th>t</th>      <th>P>|t|</th>  <th>[0.025</th>    <th>0.975]</th>  \n",
       "</tr>\n",
       "<tr>\n",
       "  <th>Intercept</th>                          <td>    0.0738</td> <td>    0.005</td> <td>   15.778</td> <td> 0.000</td> <td>    0.065</td> <td>    0.083</td>\n",
       "</tr>\n",
       "<tr>\n",
       "  <th>NAME_TYPE_SUITE[T.Family]</th>          <td>   -0.0050</td> <td>    0.005</td> <td>   -1.035</td> <td> 0.301</td> <td>   -0.015</td> <td>    0.004</td>\n",
       "</tr>\n",
       "<tr>\n",
       "  <th>NAME_TYPE_SUITE[T.Group of people]</th> <td>    0.0111</td> <td>    0.017</td> <td>    0.657</td> <td> 0.511</td> <td>   -0.022</td> <td>    0.044</td>\n",
       "</tr>\n",
       "<tr>\n",
       "  <th>NAME_TYPE_SUITE[T.Other_A]</th>         <td>    0.0140</td> <td>    0.010</td> <td>    1.370</td> <td> 0.171</td> <td>   -0.006</td> <td>    0.034</td>\n",
       "</tr>\n",
       "<tr>\n",
       "  <th>NAME_TYPE_SUITE[T.Other_B]</th>         <td>    0.0245</td> <td>    0.008</td> <td>    3.111</td> <td> 0.002</td> <td>    0.009</td> <td>    0.040</td>\n",
       "</tr>\n",
       "<tr>\n",
       "  <th>NAME_TYPE_SUITE[T.Spouse, partner]</th> <td>    0.0049</td> <td>    0.005</td> <td>    0.933</td> <td> 0.351</td> <td>   -0.005</td> <td>    0.015</td>\n",
       "</tr>\n",
       "<tr>\n",
       "  <th>NAME_TYPE_SUITE[T.Unaccompanied]</th>   <td>    0.0049</td> <td>    0.005</td> <td>    1.046</td> <td> 0.296</td> <td>   -0.004</td> <td>    0.014</td>\n",
       "</tr>\n",
       "</table>\n",
       "<table class=\"simpletable\">\n",
       "<tr>\n",
       "  <th>Omnibus:</th>       <td>199900.973</td> <th>  Durbin-Watson:     </th>  <td>   1.994</td>  \n",
       "</tr>\n",
       "<tr>\n",
       "  <th>Prob(Omnibus):</th>   <td> 0.000</td>   <th>  Jarque-Bera (JB):  </th> <td>1385510.388</td>\n",
       "</tr>\n",
       "<tr>\n",
       "  <th>Skew:</th>            <td> 3.161</td>   <th>  Prob(JB):          </th>  <td>    0.00</td>  \n",
       "</tr>\n",
       "<tr>\n",
       "  <th>Kurtosis:</th>        <td>10.998</td>   <th>  Cond. No.          </th>  <td>    48.5</td>  \n",
       "</tr>\n",
       "</table><br/><br/>Warnings:<br/>[1] Standard Errors assume that the covariance matrix of the errors is correctly specified."
      ],
      "text/plain": [
       "<class 'statsmodels.iolib.summary.Summary'>\n",
       "\"\"\"\n",
       "                            OLS Regression Results                            \n",
       "==============================================================================\n",
       "Dep. Variable:                 TARGET   R-squared:                       0.000\n",
       "Model:                            OLS   Adj. R-squared:                  0.000\n",
       "Method:                 Least Squares   F-statistic:                     10.84\n",
       "Date:                Wed, 02 Sep 2020   Prob (F-statistic):           4.24e-12\n",
       "Time:                        10:59:29   Log-Likelihood:                -31760.\n",
       "No. Observations:              319915   AIC:                         6.353e+04\n",
       "Df Residuals:                  319908   BIC:                         6.361e+04\n",
       "Df Model:                           6                                         \n",
       "Covariance Type:            nonrobust                                         \n",
       "======================================================================================================\n",
       "                                         coef    std err          t      P>|t|      [0.025      0.975]\n",
       "------------------------------------------------------------------------------------------------------\n",
       "Intercept                              0.0738      0.005     15.778      0.000       0.065       0.083\n",
       "NAME_TYPE_SUITE[T.Family]             -0.0050      0.005     -1.035      0.301      -0.015       0.004\n",
       "NAME_TYPE_SUITE[T.Group of people]     0.0111      0.017      0.657      0.511      -0.022       0.044\n",
       "NAME_TYPE_SUITE[T.Other_A]             0.0140      0.010      1.370      0.171      -0.006       0.034\n",
       "NAME_TYPE_SUITE[T.Other_B]             0.0245      0.008      3.111      0.002       0.009       0.040\n",
       "NAME_TYPE_SUITE[T.Spouse, partner]     0.0049      0.005      0.933      0.351      -0.005       0.015\n",
       "NAME_TYPE_SUITE[T.Unaccompanied]       0.0049      0.005      1.046      0.296      -0.004       0.014\n",
       "==============================================================================\n",
       "Omnibus:                   199900.973   Durbin-Watson:                   1.994\n",
       "Prob(Omnibus):                  0.000   Jarque-Bera (JB):          1385510.388\n",
       "Skew:                           3.161   Prob(JB):                         0.00\n",
       "Kurtosis:                      10.998   Cond. No.                         48.5\n",
       "==============================================================================\n",
       "\n",
       "Warnings:\n",
       "[1] Standard Errors assume that the covariance matrix of the errors is correctly specified.\n",
       "\"\"\""
      ]
     },
     "execution_count": 217,
     "metadata": {},
     "output_type": "execute_result"
    }
   ],
   "source": [
    "anova_1 = ols('TARGET ~ NAME_TYPE_SUITE', data = df_qual).fit()\n",
    "anova_1.summary()"
   ]
  },
  {
   "cell_type": "code",
   "execution_count": 218,
   "metadata": {
    "scrolled": true
   },
   "outputs": [
    {
     "data": {
      "text/html": [
       "<table class=\"simpletable\">\n",
       "<caption>OLS Regression Results</caption>\n",
       "<tr>\n",
       "  <th>Dep. Variable:</th>         <td>TARGET</td>      <th>  R-squared:         </th> <td>   0.001</td> \n",
       "</tr>\n",
       "<tr>\n",
       "  <th>Model:</th>                   <td>OLS</td>       <th>  Adj. R-squared:    </th> <td>   0.001</td> \n",
       "</tr>\n",
       "<tr>\n",
       "  <th>Method:</th>             <td>Least Squares</td>  <th>  F-statistic:       </th> <td>   247.1</td> \n",
       "</tr>\n",
       "<tr>\n",
       "  <th>Date:</th>             <td>Wed, 02 Sep 2020</td> <th>  Prob (F-statistic):</th> <td>1.15e-55</td> \n",
       "</tr>\n",
       "<tr>\n",
       "  <th>Time:</th>                 <td>10:59:30</td>     <th>  Log-Likelihood:    </th> <td> -31620.</td> \n",
       "</tr>\n",
       "<tr>\n",
       "  <th>No. Observations:</th>      <td>321207</td>      <th>  AIC:               </th> <td>6.324e+04</td>\n",
       "</tr>\n",
       "<tr>\n",
       "  <th>Df Residuals:</th>          <td>321205</td>      <th>  BIC:               </th> <td>6.326e+04</td>\n",
       "</tr>\n",
       "<tr>\n",
       "  <th>Df Model:</th>              <td>     1</td>      <th>                     </th>     <td> </td>    \n",
       "</tr>\n",
       "<tr>\n",
       "  <th>Covariance Type:</th>      <td>nonrobust</td>    <th>                     </th>     <td> </td>    \n",
       "</tr>\n",
       "</table>\n",
       "<table class=\"simpletable\">\n",
       "<tr>\n",
       "                    <td></td>                       <th>coef</th>     <th>std err</th>      <th>t</th>      <th>P>|t|</th>  <th>[0.025</th>    <th>0.975]</th>  \n",
       "</tr>\n",
       "<tr>\n",
       "  <th>Intercept</th>                             <td>    0.0797</td> <td>    0.000</td> <td>  161.149</td> <td> 0.000</td> <td>    0.079</td> <td>    0.081</td>\n",
       "</tr>\n",
       "<tr>\n",
       "  <th>NAME_CONTRACT_TYPE[T.Revolving loans]</th> <td>   -0.0256</td> <td>    0.002</td> <td>  -15.720</td> <td> 0.000</td> <td>   -0.029</td> <td>   -0.022</td>\n",
       "</tr>\n",
       "</table>\n",
       "<table class=\"simpletable\">\n",
       "<tr>\n",
       "  <th>Omnibus:</th>       <td>200712.290</td> <th>  Durbin-Watson:     </th>  <td>   1.994</td>  \n",
       "</tr>\n",
       "<tr>\n",
       "  <th>Prob(Omnibus):</th>   <td> 0.000</td>   <th>  Jarque-Bera (JB):  </th> <td>1392116.947</td>\n",
       "</tr>\n",
       "<tr>\n",
       "  <th>Skew:</th>            <td> 3.161</td>   <th>  Prob(JB):          </th>  <td>    0.00</td>  \n",
       "</tr>\n",
       "<tr>\n",
       "  <th>Kurtosis:</th>        <td>11.003</td>   <th>  Cond. No.          </th>  <td>    3.49</td>  \n",
       "</tr>\n",
       "</table><br/><br/>Warnings:<br/>[1] Standard Errors assume that the covariance matrix of the errors is correctly specified."
      ],
      "text/plain": [
       "<class 'statsmodels.iolib.summary.Summary'>\n",
       "\"\"\"\n",
       "                            OLS Regression Results                            \n",
       "==============================================================================\n",
       "Dep. Variable:                 TARGET   R-squared:                       0.001\n",
       "Model:                            OLS   Adj. R-squared:                  0.001\n",
       "Method:                 Least Squares   F-statistic:                     247.1\n",
       "Date:                Wed, 02 Sep 2020   Prob (F-statistic):           1.15e-55\n",
       "Time:                        10:59:30   Log-Likelihood:                -31620.\n",
       "No. Observations:              321207   AIC:                         6.324e+04\n",
       "Df Residuals:                  321205   BIC:                         6.326e+04\n",
       "Df Model:                           1                                         \n",
       "Covariance Type:            nonrobust                                         \n",
       "=========================================================================================================\n",
       "                                            coef    std err          t      P>|t|      [0.025      0.975]\n",
       "---------------------------------------------------------------------------------------------------------\n",
       "Intercept                                 0.0797      0.000    161.149      0.000       0.079       0.081\n",
       "NAME_CONTRACT_TYPE[T.Revolving loans]    -0.0256      0.002    -15.720      0.000      -0.029      -0.022\n",
       "==============================================================================\n",
       "Omnibus:                   200712.290   Durbin-Watson:                   1.994\n",
       "Prob(Omnibus):                  0.000   Jarque-Bera (JB):          1392116.947\n",
       "Skew:                           3.161   Prob(JB):                         0.00\n",
       "Kurtosis:                      11.003   Cond. No.                         3.49\n",
       "==============================================================================\n",
       "\n",
       "Warnings:\n",
       "[1] Standard Errors assume that the covariance matrix of the errors is correctly specified.\n",
       "\"\"\""
      ]
     },
     "execution_count": 218,
     "metadata": {},
     "output_type": "execute_result"
    }
   ],
   "source": [
    "anova_2 = ols('TARGET ~ NAME_CONTRACT_TYPE', data = df_qual).fit()\n",
    "anova_2.summary()"
   ]
  },
  {
   "cell_type": "code",
   "execution_count": 219,
   "metadata": {
    "scrolled": true
   },
   "outputs": [
    {
     "data": {
      "text/html": [
       "<table class=\"simpletable\">\n",
       "<caption>OLS Regression Results</caption>\n",
       "<tr>\n",
       "  <th>Dep. Variable:</th>         <td>TARGET</td>      <th>  R-squared:         </th> <td>   0.000</td> \n",
       "</tr>\n",
       "<tr>\n",
       "  <th>Model:</th>                   <td>OLS</td>       <th>  Adj. R-squared:    </th> <td>   0.000</td> \n",
       "</tr>\n",
       "<tr>\n",
       "  <th>Method:</th>             <td>Least Squares</td>  <th>  F-statistic:       </th> <td>   44.23</td> \n",
       "</tr>\n",
       "<tr>\n",
       "  <th>Date:</th>             <td>Wed, 02 Sep 2020</td> <th>  Prob (F-statistic):</th> <td>2.92e-11</td> \n",
       "</tr>\n",
       "<tr>\n",
       "  <th>Time:</th>                 <td>10:59:32</td>     <th>  Log-Likelihood:    </th> <td> -31721.</td> \n",
       "</tr>\n",
       "<tr>\n",
       "  <th>No. Observations:</th>      <td>321207</td>      <th>  AIC:               </th> <td>6.345e+04</td>\n",
       "</tr>\n",
       "<tr>\n",
       "  <th>Df Residuals:</th>          <td>321205</td>      <th>  BIC:               </th> <td>6.347e+04</td>\n",
       "</tr>\n",
       "<tr>\n",
       "  <th>Df Model:</th>              <td>     1</td>      <th>                     </th>     <td> </td>    \n",
       "</tr>\n",
       "<tr>\n",
       "  <th>Covariance Type:</th>      <td>nonrobust</td>    <th>                     </th>     <td> </td>    \n",
       "</tr>\n",
       "</table>\n",
       "<table class=\"simpletable\">\n",
       "<tr>\n",
       "            <td></td>              <th>coef</th>     <th>std err</th>      <th>t</th>      <th>P>|t|</th>  <th>[0.025</th>    <th>0.975]</th>  \n",
       "</tr>\n",
       "<tr>\n",
       "  <th>Intercept</th>            <td>    0.0821</td> <td>    0.001</td> <td>   95.027</td> <td> 0.000</td> <td>    0.080</td> <td>    0.084</td>\n",
       "</tr>\n",
       "<tr>\n",
       "  <th>FLAG_OWN_REALTY[T.Y]</th> <td>   -0.0069</td> <td>    0.001</td> <td>   -6.651</td> <td> 0.000</td> <td>   -0.009</td> <td>   -0.005</td>\n",
       "</tr>\n",
       "</table>\n",
       "<table class=\"simpletable\">\n",
       "<tr>\n",
       "  <th>Omnibus:</th>       <td>200896.374</td> <th>  Durbin-Watson:     </th>  <td>   1.994</td>  \n",
       "</tr>\n",
       "<tr>\n",
       "  <th>Prob(Omnibus):</th>   <td> 0.000</td>   <th>  Jarque-Bera (JB):  </th> <td>1395603.119</td>\n",
       "</tr>\n",
       "<tr>\n",
       "  <th>Skew:</th>            <td> 3.164</td>   <th>  Prob(JB):          </th>  <td>    0.00</td>  \n",
       "</tr>\n",
       "<tr>\n",
       "  <th>Kurtosis:</th>        <td>11.014</td>   <th>  Cond. No.          </th>  <td>    3.43</td>  \n",
       "</tr>\n",
       "</table><br/><br/>Warnings:<br/>[1] Standard Errors assume that the covariance matrix of the errors is correctly specified."
      ],
      "text/plain": [
       "<class 'statsmodels.iolib.summary.Summary'>\n",
       "\"\"\"\n",
       "                            OLS Regression Results                            \n",
       "==============================================================================\n",
       "Dep. Variable:                 TARGET   R-squared:                       0.000\n",
       "Model:                            OLS   Adj. R-squared:                  0.000\n",
       "Method:                 Least Squares   F-statistic:                     44.23\n",
       "Date:                Wed, 02 Sep 2020   Prob (F-statistic):           2.92e-11\n",
       "Time:                        10:59:32   Log-Likelihood:                -31721.\n",
       "No. Observations:              321207   AIC:                         6.345e+04\n",
       "Df Residuals:                  321205   BIC:                         6.347e+04\n",
       "Df Model:                           1                                         \n",
       "Covariance Type:            nonrobust                                         \n",
       "========================================================================================\n",
       "                           coef    std err          t      P>|t|      [0.025      0.975]\n",
       "----------------------------------------------------------------------------------------\n",
       "Intercept                0.0821      0.001     95.027      0.000       0.080       0.084\n",
       "FLAG_OWN_REALTY[T.Y]    -0.0069      0.001     -6.651      0.000      -0.009      -0.005\n",
       "==============================================================================\n",
       "Omnibus:                   200896.374   Durbin-Watson:                   1.994\n",
       "Prob(Omnibus):                  0.000   Jarque-Bera (JB):          1395603.119\n",
       "Skew:                           3.164   Prob(JB):                         0.00\n",
       "Kurtosis:                      11.014   Cond. No.                         3.43\n",
       "==============================================================================\n",
       "\n",
       "Warnings:\n",
       "[1] Standard Errors assume that the covariance matrix of the errors is correctly specified.\n",
       "\"\"\""
      ]
     },
     "execution_count": 219,
     "metadata": {},
     "output_type": "execute_result"
    }
   ],
   "source": [
    "anova_3 = ols('TARGET ~ FLAG_OWN_REALTY', data = df_qual).fit()\n",
    "anova_3.summary()"
   ]
  },
  {
   "cell_type": "code",
   "execution_count": 220,
   "metadata": {
    "scrolled": true
   },
   "outputs": [
    {
     "data": {
      "text/html": [
       "<table class=\"simpletable\">\n",
       "<caption>OLS Regression Results</caption>\n",
       "<tr>\n",
       "  <th>Dep. Variable:</th>         <td>TARGET</td>      <th>  R-squared:         </th> <td>   0.004</td> \n",
       "</tr>\n",
       "<tr>\n",
       "  <th>Model:</th>                   <td>OLS</td>       <th>  Adj. R-squared:    </th> <td>   0.004</td> \n",
       "</tr>\n",
       "<tr>\n",
       "  <th>Method:</th>             <td>Least Squares</td>  <th>  F-statistic:       </th> <td>   608.0</td> \n",
       "</tr>\n",
       "<tr>\n",
       "  <th>Date:</th>             <td>Wed, 02 Sep 2020</td> <th>  Prob (F-statistic):</th> <td>2.86e-264</td>\n",
       "</tr>\n",
       "<tr>\n",
       "  <th>Time:</th>                 <td>10:59:33</td>     <th>  Log-Likelihood:    </th> <td> -31136.</td> \n",
       "</tr>\n",
       "<tr>\n",
       "  <th>No. Observations:</th>      <td>321207</td>      <th>  AIC:               </th> <td>6.228e+04</td>\n",
       "</tr>\n",
       "<tr>\n",
       "  <th>Df Residuals:</th>          <td>321204</td>      <th>  BIC:               </th> <td>6.231e+04</td>\n",
       "</tr>\n",
       "<tr>\n",
       "  <th>Df Model:</th>              <td>     2</td>      <th>                     </th>     <td> </td>    \n",
       "</tr>\n",
       "<tr>\n",
       "  <th>Covariance Type:</th>      <td>nonrobust</td>    <th>                     </th>     <td> </td>    \n",
       "</tr>\n",
       "</table>\n",
       "<table class=\"simpletable\">\n",
       "<tr>\n",
       "           <td></td>             <th>coef</th>     <th>std err</th>      <th>t</th>      <th>P>|t|</th>  <th>[0.025</th>    <th>0.975]</th>  \n",
       "</tr>\n",
       "<tr>\n",
       "  <th>Intercept</th>          <td>    0.0658</td> <td>    0.001</td> <td>  114.552</td> <td> 0.000</td> <td>    0.065</td> <td>    0.067</td>\n",
       "</tr>\n",
       "<tr>\n",
       "  <th>CODE_GENDER[T.M]</th>   <td>    0.0349</td> <td>    0.001</td> <td>   34.866</td> <td> 0.000</td> <td>    0.033</td> <td>    0.037</td>\n",
       "</tr>\n",
       "<tr>\n",
       "  <th>CODE_GENDER[T.XNA]</th> <td>   -0.0658</td> <td>    0.133</td> <td>   -0.494</td> <td> 0.621</td> <td>   -0.327</td> <td>    0.195</td>\n",
       "</tr>\n",
       "</table>\n",
       "<table class=\"simpletable\">\n",
       "<tr>\n",
       "  <th>Omnibus:</th>       <td>199914.182</td> <th>  Durbin-Watson:     </th>  <td>   1.995</td>  \n",
       "</tr>\n",
       "<tr>\n",
       "  <th>Prob(Omnibus):</th>   <td> 0.000</td>   <th>  Jarque-Bera (JB):  </th> <td>1377926.743</td>\n",
       "</tr>\n",
       "<tr>\n",
       "  <th>Skew:</th>            <td> 3.147</td>   <th>  Prob(JB):          </th>  <td>    0.00</td>  \n",
       "</tr>\n",
       "<tr>\n",
       "  <th>Kurtosis:</th>        <td>10.958</td>   <th>  Cond. No.          </th>  <td>    302.</td>  \n",
       "</tr>\n",
       "</table><br/><br/>Warnings:<br/>[1] Standard Errors assume that the covariance matrix of the errors is correctly specified."
      ],
      "text/plain": [
       "<class 'statsmodels.iolib.summary.Summary'>\n",
       "\"\"\"\n",
       "                            OLS Regression Results                            \n",
       "==============================================================================\n",
       "Dep. Variable:                 TARGET   R-squared:                       0.004\n",
       "Model:                            OLS   Adj. R-squared:                  0.004\n",
       "Method:                 Least Squares   F-statistic:                     608.0\n",
       "Date:                Wed, 02 Sep 2020   Prob (F-statistic):          2.86e-264\n",
       "Time:                        10:59:33   Log-Likelihood:                -31136.\n",
       "No. Observations:              321207   AIC:                         6.228e+04\n",
       "Df Residuals:                  321204   BIC:                         6.231e+04\n",
       "Df Model:                           2                                         \n",
       "Covariance Type:            nonrobust                                         \n",
       "======================================================================================\n",
       "                         coef    std err          t      P>|t|      [0.025      0.975]\n",
       "--------------------------------------------------------------------------------------\n",
       "Intercept              0.0658      0.001    114.552      0.000       0.065       0.067\n",
       "CODE_GENDER[T.M]       0.0349      0.001     34.866      0.000       0.033       0.037\n",
       "CODE_GENDER[T.XNA]    -0.0658      0.133     -0.494      0.621      -0.327       0.195\n",
       "==============================================================================\n",
       "Omnibus:                   199914.182   Durbin-Watson:                   1.995\n",
       "Prob(Omnibus):                  0.000   Jarque-Bera (JB):          1377926.743\n",
       "Skew:                           3.147   Prob(JB):                         0.00\n",
       "Kurtosis:                      10.958   Cond. No.                         302.\n",
       "==============================================================================\n",
       "\n",
       "Warnings:\n",
       "[1] Standard Errors assume that the covariance matrix of the errors is correctly specified.\n",
       "\"\"\""
      ]
     },
     "execution_count": 220,
     "metadata": {},
     "output_type": "execute_result"
    }
   ],
   "source": [
    "anova_4 = ols('TARGET ~ CODE_GENDER', data = df_qual).fit()\n",
    "anova_4.summary()"
   ]
  },
  {
   "cell_type": "code",
   "execution_count": 221,
   "metadata": {
    "scrolled": true
   },
   "outputs": [
    {
     "data": {
      "text/html": [
       "<table class=\"simpletable\">\n",
       "<caption>OLS Regression Results</caption>\n",
       "<tr>\n",
       "  <th>Dep. Variable:</th>         <td>TARGET</td>      <th>  R-squared:         </th> <td>   0.002</td> \n",
       "</tr>\n",
       "<tr>\n",
       "  <th>Model:</th>                   <td>OLS</td>       <th>  Adj. R-squared:    </th> <td>   0.002</td> \n",
       "</tr>\n",
       "<tr>\n",
       "  <th>Method:</th>             <td>Least Squares</td>  <th>  F-statistic:       </th> <td>   104.1</td> \n",
       "</tr>\n",
       "<tr>\n",
       "  <th>Date:</th>             <td>Wed, 02 Sep 2020</td> <th>  Prob (F-statistic):</th> <td>3.97e-110</td>\n",
       "</tr>\n",
       "<tr>\n",
       "  <th>Time:</th>                 <td>10:59:34</td>     <th>  Log-Likelihood:    </th> <td> -31483.</td> \n",
       "</tr>\n",
       "<tr>\n",
       "  <th>No. Observations:</th>      <td>321207</td>      <th>  AIC:               </th> <td>6.298e+04</td>\n",
       "</tr>\n",
       "<tr>\n",
       "  <th>Df Residuals:</th>          <td>321201</td>      <th>  BIC:               </th> <td>6.304e+04</td>\n",
       "</tr>\n",
       "<tr>\n",
       "  <th>Df Model:</th>              <td>     5</td>      <th>                     </th>     <td> </td>    \n",
       "</tr>\n",
       "<tr>\n",
       "  <th>Covariance Type:</th>      <td>nonrobust</td>    <th>                     </th>     <td> </td>    \n",
       "</tr>\n",
       "</table>\n",
       "<table class=\"simpletable\">\n",
       "<tr>\n",
       "                      <td></td>                        <th>coef</th>     <th>std err</th>      <th>t</th>      <th>P>|t|</th>  <th>[0.025</th>    <th>0.975]</th>  \n",
       "</tr>\n",
       "<tr>\n",
       "  <th>Intercept</th>                                <td>    0.0793</td> <td>    0.008</td> <td>    9.955</td> <td> 0.000</td> <td>    0.064</td> <td>    0.095</td>\n",
       "</tr>\n",
       "<tr>\n",
       "  <th>NAME_HOUSING_TYPE[T.House / apartment]</th>   <td>   -0.0050</td> <td>    0.008</td> <td>   -0.632</td> <td> 0.528</td> <td>   -0.021</td> <td>    0.011</td>\n",
       "</tr>\n",
       "<tr>\n",
       "  <th>NAME_HOUSING_TYPE[T.Municipal apartment]</th> <td>    0.0061</td> <td>    0.008</td> <td>    0.727</td> <td> 0.467</td> <td>   -0.010</td> <td>    0.022</td>\n",
       "</tr>\n",
       "<tr>\n",
       "  <th>NAME_HOUSING_TYPE[T.Office apartment]</th>    <td>   -0.0136</td> <td>    0.010</td> <td>   -1.428</td> <td> 0.153</td> <td>   -0.032</td> <td>    0.005</td>\n",
       "</tr>\n",
       "<tr>\n",
       "  <th>NAME_HOUSING_TYPE[T.Rented apartment]</th>    <td>    0.0431</td> <td>    0.009</td> <td>    4.881</td> <td> 0.000</td> <td>    0.026</td> <td>    0.060</td>\n",
       "</tr>\n",
       "<tr>\n",
       "  <th>NAME_HOUSING_TYPE[T.With parents]</th>        <td>    0.0377</td> <td>    0.008</td> <td>    4.557</td> <td> 0.000</td> <td>    0.021</td> <td>    0.054</td>\n",
       "</tr>\n",
       "</table>\n",
       "<table class=\"simpletable\">\n",
       "<tr>\n",
       "  <th>Omnibus:</th>       <td>200523.439</td> <th>  Durbin-Watson:     </th>  <td>   1.994</td>  \n",
       "</tr>\n",
       "<tr>\n",
       "  <th>Prob(Omnibus):</th>   <td> 0.000</td>   <th>  Jarque-Bera (JB):  </th> <td>1389147.234</td>\n",
       "</tr>\n",
       "<tr>\n",
       "  <th>Skew:</th>            <td> 3.158</td>   <th>  Prob(JB):          </th>  <td>    0.00</td>  \n",
       "</tr>\n",
       "<tr>\n",
       "  <th>Kurtosis:</th>        <td>10.995</td>   <th>  Cond. No.          </th>  <td>    56.9</td>  \n",
       "</tr>\n",
       "</table><br/><br/>Warnings:<br/>[1] Standard Errors assume that the covariance matrix of the errors is correctly specified."
      ],
      "text/plain": [
       "<class 'statsmodels.iolib.summary.Summary'>\n",
       "\"\"\"\n",
       "                            OLS Regression Results                            \n",
       "==============================================================================\n",
       "Dep. Variable:                 TARGET   R-squared:                       0.002\n",
       "Model:                            OLS   Adj. R-squared:                  0.002\n",
       "Method:                 Least Squares   F-statistic:                     104.1\n",
       "Date:                Wed, 02 Sep 2020   Prob (F-statistic):          3.97e-110\n",
       "Time:                        10:59:34   Log-Likelihood:                -31483.\n",
       "No. Observations:              321207   AIC:                         6.298e+04\n",
       "Df Residuals:                  321201   BIC:                         6.304e+04\n",
       "Df Model:                           5                                         \n",
       "Covariance Type:            nonrobust                                         \n",
       "============================================================================================================\n",
       "                                               coef    std err          t      P>|t|      [0.025      0.975]\n",
       "------------------------------------------------------------------------------------------------------------\n",
       "Intercept                                    0.0793      0.008      9.955      0.000       0.064       0.095\n",
       "NAME_HOUSING_TYPE[T.House / apartment]      -0.0050      0.008     -0.632      0.528      -0.021       0.011\n",
       "NAME_HOUSING_TYPE[T.Municipal apartment]     0.0061      0.008      0.727      0.467      -0.010       0.022\n",
       "NAME_HOUSING_TYPE[T.Office apartment]       -0.0136      0.010     -1.428      0.153      -0.032       0.005\n",
       "NAME_HOUSING_TYPE[T.Rented apartment]        0.0431      0.009      4.881      0.000       0.026       0.060\n",
       "NAME_HOUSING_TYPE[T.With parents]            0.0377      0.008      4.557      0.000       0.021       0.054\n",
       "==============================================================================\n",
       "Omnibus:                   200523.439   Durbin-Watson:                   1.994\n",
       "Prob(Omnibus):                  0.000   Jarque-Bera (JB):          1389147.234\n",
       "Skew:                           3.158   Prob(JB):                         0.00\n",
       "Kurtosis:                      10.995   Cond. No.                         56.9\n",
       "==============================================================================\n",
       "\n",
       "Warnings:\n",
       "[1] Standard Errors assume that the covariance matrix of the errors is correctly specified.\n",
       "\"\"\""
      ]
     },
     "execution_count": 221,
     "metadata": {},
     "output_type": "execute_result"
    }
   ],
   "source": [
    "anova_5 = ols('TARGET ~ NAME_HOUSING_TYPE', data = df_qual).fit()\n",
    "anova_5.summary()"
   ]
  },
  {
   "cell_type": "code",
   "execution_count": 222,
   "metadata": {
    "scrolled": true
   },
   "outputs": [
    {
     "data": {
      "text/html": [
       "<table class=\"simpletable\">\n",
       "<caption>OLS Regression Results</caption>\n",
       "<tr>\n",
       "  <th>Dep. Variable:</th>         <td>TARGET</td>      <th>  R-squared:         </th> <td>   0.001</td> \n",
       "</tr>\n",
       "<tr>\n",
       "  <th>Model:</th>                   <td>OLS</td>       <th>  Adj. R-squared:    </th> <td>   0.001</td> \n",
       "</tr>\n",
       "<tr>\n",
       "  <th>Method:</th>             <td>Least Squares</td>  <th>  F-statistic:       </th> <td>   69.33</td> \n",
       "</tr>\n",
       "<tr>\n",
       "  <th>Date:</th>             <td>Wed, 02 Sep 2020</td> <th>  Prob (F-statistic):</th> <td>9.98e-73</td> \n",
       "</tr>\n",
       "<tr>\n",
       "  <th>Time:</th>                 <td>10:59:36</td>     <th>  Log-Likelihood:    </th> <td> -31570.</td> \n",
       "</tr>\n",
       "<tr>\n",
       "  <th>No. Observations:</th>      <td>321207</td>      <th>  AIC:               </th> <td>6.315e+04</td>\n",
       "</tr>\n",
       "<tr>\n",
       "  <th>Df Residuals:</th>          <td>321201</td>      <th>  BIC:               </th> <td>6.322e+04</td>\n",
       "</tr>\n",
       "<tr>\n",
       "  <th>Df Model:</th>              <td>     5</td>      <th>                     </th>     <td> </td>    \n",
       "</tr>\n",
       "<tr>\n",
       "  <th>Covariance Type:</th>      <td>nonrobust</td>    <th>                     </th>     <td> </td>    \n",
       "</tr>\n",
       "</table>\n",
       "<table class=\"simpletable\">\n",
       "<tr>\n",
       "                       <td></td>                         <th>coef</th>     <th>std err</th>      <th>t</th>      <th>P>|t|</th>  <th>[0.025</th>    <th>0.975]</th>  \n",
       "</tr>\n",
       "<tr>\n",
       "  <th>Intercept</th>                                  <td>    0.0775</td> <td>    0.001</td> <td>   56.745</td> <td> 0.000</td> <td>    0.075</td> <td>    0.080</td>\n",
       "</tr>\n",
       "<tr>\n",
       "  <th>NAME_FAMILY_STATUS[T.Married]</th>              <td>   -0.0034</td> <td>    0.001</td> <td>   -2.263</td> <td> 0.024</td> <td>   -0.006</td> <td>   -0.000</td>\n",
       "</tr>\n",
       "<tr>\n",
       "  <th>NAME_FAMILY_STATUS[T.Separated]</th>            <td>    0.0030</td> <td>    0.002</td> <td>    1.298</td> <td> 0.194</td> <td>   -0.002</td> <td>    0.008</td>\n",
       "</tr>\n",
       "<tr>\n",
       "  <th>NAME_FAMILY_STATUS[T.Single / not married]</th> <td>    0.0187</td> <td>    0.002</td> <td>   10.160</td> <td> 0.000</td> <td>    0.015</td> <td>    0.022</td>\n",
       "</tr>\n",
       "<tr>\n",
       "  <th>NAME_FAMILY_STATUS[T.Unknown]</th>              <td>   -0.0775</td> <td>    0.189</td> <td>   -0.411</td> <td> 0.681</td> <td>   -0.447</td> <td>    0.292</td>\n",
       "</tr>\n",
       "<tr>\n",
       "  <th>NAME_FAMILY_STATUS[T.Widow]</th>                <td>   -0.0193</td> <td>    0.003</td> <td>   -7.676</td> <td> 0.000</td> <td>   -0.024</td> <td>   -0.014</td>\n",
       "</tr>\n",
       "</table>\n",
       "<table class=\"simpletable\">\n",
       "<tr>\n",
       "  <th>Omnibus:</th>       <td>200641.787</td> <th>  Durbin-Watson:     </th>  <td>   1.994</td>  \n",
       "</tr>\n",
       "<tr>\n",
       "  <th>Prob(Omnibus):</th>   <td> 0.000</td>   <th>  Jarque-Bera (JB):  </th> <td>1390987.994</td>\n",
       "</tr>\n",
       "<tr>\n",
       "  <th>Skew:</th>            <td> 3.160</td>   <th>  Prob(JB):          </th>  <td>    0.00</td>  \n",
       "</tr>\n",
       "<tr>\n",
       "  <th>Kurtosis:</th>        <td>11.000</td>   <th>  Cond. No.          </th>  <td>    487.</td>  \n",
       "</tr>\n",
       "</table><br/><br/>Warnings:<br/>[1] Standard Errors assume that the covariance matrix of the errors is correctly specified."
      ],
      "text/plain": [
       "<class 'statsmodels.iolib.summary.Summary'>\n",
       "\"\"\"\n",
       "                            OLS Regression Results                            \n",
       "==============================================================================\n",
       "Dep. Variable:                 TARGET   R-squared:                       0.001\n",
       "Model:                            OLS   Adj. R-squared:                  0.001\n",
       "Method:                 Least Squares   F-statistic:                     69.33\n",
       "Date:                Wed, 02 Sep 2020   Prob (F-statistic):           9.98e-73\n",
       "Time:                        10:59:36   Log-Likelihood:                -31570.\n",
       "No. Observations:              321207   AIC:                         6.315e+04\n",
       "Df Residuals:                  321201   BIC:                         6.322e+04\n",
       "Df Model:                           5                                         \n",
       "Covariance Type:            nonrobust                                         \n",
       "==============================================================================================================\n",
       "                                                 coef    std err          t      P>|t|      [0.025      0.975]\n",
       "--------------------------------------------------------------------------------------------------------------\n",
       "Intercept                                      0.0775      0.001     56.745      0.000       0.075       0.080\n",
       "NAME_FAMILY_STATUS[T.Married]                 -0.0034      0.001     -2.263      0.024      -0.006      -0.000\n",
       "NAME_FAMILY_STATUS[T.Separated]                0.0030      0.002      1.298      0.194      -0.002       0.008\n",
       "NAME_FAMILY_STATUS[T.Single / not married]     0.0187      0.002     10.160      0.000       0.015       0.022\n",
       "NAME_FAMILY_STATUS[T.Unknown]                 -0.0775      0.189     -0.411      0.681      -0.447       0.292\n",
       "NAME_FAMILY_STATUS[T.Widow]                   -0.0193      0.003     -7.676      0.000      -0.024      -0.014\n",
       "==============================================================================\n",
       "Omnibus:                   200641.787   Durbin-Watson:                   1.994\n",
       "Prob(Omnibus):                  0.000   Jarque-Bera (JB):          1390987.994\n",
       "Skew:                           3.160   Prob(JB):                         0.00\n",
       "Kurtosis:                      11.000   Cond. No.                         487.\n",
       "==============================================================================\n",
       "\n",
       "Warnings:\n",
       "[1] Standard Errors assume that the covariance matrix of the errors is correctly specified.\n",
       "\"\"\""
      ]
     },
     "execution_count": 222,
     "metadata": {},
     "output_type": "execute_result"
    }
   ],
   "source": [
    "anova_6 = ols('TARGET ~ NAME_FAMILY_STATUS', data = df_qual).fit()\n",
    "anova_6.summary()"
   ]
  },
  {
   "cell_type": "code",
   "execution_count": 223,
   "metadata": {
    "scrolled": true
   },
   "outputs": [
    {
     "data": {
      "text/html": [
       "<table class=\"simpletable\">\n",
       "<caption>OLS Regression Results</caption>\n",
       "<tr>\n",
       "  <th>Dep. Variable:</th>         <td>TARGET</td>      <th>  R-squared:         </th> <td>   0.003</td> \n",
       "</tr>\n",
       "<tr>\n",
       "  <th>Model:</th>                   <td>OLS</td>       <th>  Adj. R-squared:    </th> <td>   0.003</td> \n",
       "</tr>\n",
       "<tr>\n",
       "  <th>Method:</th>             <td>Least Squares</td>  <th>  F-statistic:       </th> <td>   217.3</td> \n",
       "</tr>\n",
       "<tr>\n",
       "  <th>Date:</th>             <td>Wed, 02 Sep 2020</td> <th>  Prob (F-statistic):</th> <td>1.49e-186</td>\n",
       "</tr>\n",
       "<tr>\n",
       "  <th>Time:</th>                 <td>10:59:37</td>     <th>  Log-Likelihood:    </th> <td> -31309.</td> \n",
       "</tr>\n",
       "<tr>\n",
       "  <th>No. Observations:</th>      <td>321207</td>      <th>  AIC:               </th> <td>6.263e+04</td>\n",
       "</tr>\n",
       "<tr>\n",
       "  <th>Df Residuals:</th>          <td>321202</td>      <th>  BIC:               </th> <td>6.268e+04</td>\n",
       "</tr>\n",
       "<tr>\n",
       "  <th>Df Model:</th>              <td>     4</td>      <th>                     </th>     <td> </td>    \n",
       "</tr>\n",
       "<tr>\n",
       "  <th>Covariance Type:</th>      <td>nonrobust</td>    <th>                     </th>     <td> </td>    \n",
       "</tr>\n",
       "</table>\n",
       "<table class=\"simpletable\">\n",
       "<tr>\n",
       "                            <td></td>                              <th>coef</th>     <th>std err</th>      <th>t</th>      <th>P>|t|</th>  <th>[0.025</th>    <th>0.975]</th>  \n",
       "</tr>\n",
       "<tr>\n",
       "  <th>Intercept</th>                                            <td>    0.0183</td> <td>    0.021</td> <td>    0.878</td> <td> 0.380</td> <td>   -0.023</td> <td>    0.059</td>\n",
       "</tr>\n",
       "<tr>\n",
       "  <th>NAME_EDUCATION_TYPE[T.Higher education]</th>              <td>    0.0347</td> <td>    0.021</td> <td>    1.663</td> <td> 0.096</td> <td>   -0.006</td> <td>    0.076</td>\n",
       "</tr>\n",
       "<tr>\n",
       "  <th>NAME_EDUCATION_TYPE[T.Incomplete higher]</th>             <td>    0.0641</td> <td>    0.021</td> <td>    3.055</td> <td> 0.002</td> <td>    0.023</td> <td>    0.105</td>\n",
       "</tr>\n",
       "<tr>\n",
       "  <th>NAME_EDUCATION_TYPE[T.Lower secondary]</th>               <td>    0.0910</td> <td>    0.021</td> <td>    4.277</td> <td> 0.000</td> <td>    0.049</td> <td>    0.133</td>\n",
       "</tr>\n",
       "<tr>\n",
       "  <th>NAME_EDUCATION_TYPE[T.Secondary / secondary special]</th> <td>    0.0663</td> <td>    0.021</td> <td>    3.182</td> <td> 0.001</td> <td>    0.025</td> <td>    0.107</td>\n",
       "</tr>\n",
       "</table>\n",
       "<table class=\"simpletable\">\n",
       "<tr>\n",
       "  <th>Omnibus:</th>       <td>200162.103</td> <th>  Durbin-Watson:     </th>  <td>   1.992</td>  \n",
       "</tr>\n",
       "<tr>\n",
       "  <th>Prob(Omnibus):</th>   <td> 0.000</td>   <th>  Jarque-Bera (JB):  </th> <td>1381891.553</td>\n",
       "</tr>\n",
       "<tr>\n",
       "  <th>Skew:</th>            <td> 3.152</td>   <th>  Prob(JB):          </th>  <td>    0.00</td>  \n",
       "</tr>\n",
       "<tr>\n",
       "  <th>Kurtosis:</th>        <td>10.970</td>   <th>  Cond. No.          </th>  <td>    126.</td>  \n",
       "</tr>\n",
       "</table><br/><br/>Warnings:<br/>[1] Standard Errors assume that the covariance matrix of the errors is correctly specified."
      ],
      "text/plain": [
       "<class 'statsmodels.iolib.summary.Summary'>\n",
       "\"\"\"\n",
       "                            OLS Regression Results                            \n",
       "==============================================================================\n",
       "Dep. Variable:                 TARGET   R-squared:                       0.003\n",
       "Model:                            OLS   Adj. R-squared:                  0.003\n",
       "Method:                 Least Squares   F-statistic:                     217.3\n",
       "Date:                Wed, 02 Sep 2020   Prob (F-statistic):          1.49e-186\n",
       "Time:                        10:59:37   Log-Likelihood:                -31309.\n",
       "No. Observations:              321207   AIC:                         6.263e+04\n",
       "Df Residuals:                  321202   BIC:                         6.268e+04\n",
       "Df Model:                           4                                         \n",
       "Covariance Type:            nonrobust                                         \n",
       "========================================================================================================================\n",
       "                                                           coef    std err          t      P>|t|      [0.025      0.975]\n",
       "------------------------------------------------------------------------------------------------------------------------\n",
       "Intercept                                                0.0183      0.021      0.878      0.380      -0.023       0.059\n",
       "NAME_EDUCATION_TYPE[T.Higher education]                  0.0347      0.021      1.663      0.096      -0.006       0.076\n",
       "NAME_EDUCATION_TYPE[T.Incomplete higher]                 0.0641      0.021      3.055      0.002       0.023       0.105\n",
       "NAME_EDUCATION_TYPE[T.Lower secondary]                   0.0910      0.021      4.277      0.000       0.049       0.133\n",
       "NAME_EDUCATION_TYPE[T.Secondary / secondary special]     0.0663      0.021      3.182      0.001       0.025       0.107\n",
       "==============================================================================\n",
       "Omnibus:                   200162.103   Durbin-Watson:                   1.992\n",
       "Prob(Omnibus):                  0.000   Jarque-Bera (JB):          1381891.553\n",
       "Skew:                           3.152   Prob(JB):                         0.00\n",
       "Kurtosis:                      10.970   Cond. No.                         126.\n",
       "==============================================================================\n",
       "\n",
       "Warnings:\n",
       "[1] Standard Errors assume that the covariance matrix of the errors is correctly specified.\n",
       "\"\"\""
      ]
     },
     "execution_count": 223,
     "metadata": {},
     "output_type": "execute_result"
    }
   ],
   "source": [
    "anova_7 = ols('TARGET ~ NAME_EDUCATION_TYPE', data = df_qual).fit()\n",
    "anova_7.summary()"
   ]
  },
  {
   "cell_type": "code",
   "execution_count": 224,
   "metadata": {
    "scrolled": true
   },
   "outputs": [
    {
     "data": {
      "text/html": [
       "<table class=\"simpletable\">\n",
       "<caption>OLS Regression Results</caption>\n",
       "<tr>\n",
       "  <th>Dep. Variable:</th>         <td>TARGET</td>      <th>  R-squared:         </th> <td>   0.003</td> \n",
       "</tr>\n",
       "<tr>\n",
       "  <th>Model:</th>                   <td>OLS</td>       <th>  Adj. R-squared:    </th> <td>   0.003</td> \n",
       "</tr>\n",
       "<tr>\n",
       "  <th>Method:</th>             <td>Least Squares</td>  <th>  F-statistic:       </th> <td>   217.3</td> \n",
       "</tr>\n",
       "<tr>\n",
       "  <th>Date:</th>             <td>Wed, 02 Sep 2020</td> <th>  Prob (F-statistic):</th> <td>1.49e-186</td>\n",
       "</tr>\n",
       "<tr>\n",
       "  <th>Time:</th>                 <td>10:59:39</td>     <th>  Log-Likelihood:    </th> <td> -31309.</td> \n",
       "</tr>\n",
       "<tr>\n",
       "  <th>No. Observations:</th>      <td>321207</td>      <th>  AIC:               </th> <td>6.263e+04</td>\n",
       "</tr>\n",
       "<tr>\n",
       "  <th>Df Residuals:</th>          <td>321202</td>      <th>  BIC:               </th> <td>6.268e+04</td>\n",
       "</tr>\n",
       "<tr>\n",
       "  <th>Df Model:</th>              <td>     4</td>      <th>                     </th>     <td> </td>    \n",
       "</tr>\n",
       "<tr>\n",
       "  <th>Covariance Type:</th>      <td>nonrobust</td>    <th>                     </th>     <td> </td>    \n",
       "</tr>\n",
       "</table>\n",
       "<table class=\"simpletable\">\n",
       "<tr>\n",
       "                            <td></td>                              <th>coef</th>     <th>std err</th>      <th>t</th>      <th>P>|t|</th>  <th>[0.025</th>    <th>0.975]</th>  \n",
       "</tr>\n",
       "<tr>\n",
       "  <th>Intercept</th>                                            <td>    0.0183</td> <td>    0.021</td> <td>    0.878</td> <td> 0.380</td> <td>   -0.023</td> <td>    0.059</td>\n",
       "</tr>\n",
       "<tr>\n",
       "  <th>NAME_EDUCATION_TYPE[T.Higher education]</th>              <td>    0.0347</td> <td>    0.021</td> <td>    1.663</td> <td> 0.096</td> <td>   -0.006</td> <td>    0.076</td>\n",
       "</tr>\n",
       "<tr>\n",
       "  <th>NAME_EDUCATION_TYPE[T.Incomplete higher]</th>             <td>    0.0641</td> <td>    0.021</td> <td>    3.055</td> <td> 0.002</td> <td>    0.023</td> <td>    0.105</td>\n",
       "</tr>\n",
       "<tr>\n",
       "  <th>NAME_EDUCATION_TYPE[T.Lower secondary]</th>               <td>    0.0910</td> <td>    0.021</td> <td>    4.277</td> <td> 0.000</td> <td>    0.049</td> <td>    0.133</td>\n",
       "</tr>\n",
       "<tr>\n",
       "  <th>NAME_EDUCATION_TYPE[T.Secondary / secondary special]</th> <td>    0.0663</td> <td>    0.021</td> <td>    3.182</td> <td> 0.001</td> <td>    0.025</td> <td>    0.107</td>\n",
       "</tr>\n",
       "</table>\n",
       "<table class=\"simpletable\">\n",
       "<tr>\n",
       "  <th>Omnibus:</th>       <td>200162.103</td> <th>  Durbin-Watson:     </th>  <td>   1.992</td>  \n",
       "</tr>\n",
       "<tr>\n",
       "  <th>Prob(Omnibus):</th>   <td> 0.000</td>   <th>  Jarque-Bera (JB):  </th> <td>1381891.553</td>\n",
       "</tr>\n",
       "<tr>\n",
       "  <th>Skew:</th>            <td> 3.152</td>   <th>  Prob(JB):          </th>  <td>    0.00</td>  \n",
       "</tr>\n",
       "<tr>\n",
       "  <th>Kurtosis:</th>        <td>10.970</td>   <th>  Cond. No.          </th>  <td>    126.</td>  \n",
       "</tr>\n",
       "</table><br/><br/>Warnings:<br/>[1] Standard Errors assume that the covariance matrix of the errors is correctly specified."
      ],
      "text/plain": [
       "<class 'statsmodels.iolib.summary.Summary'>\n",
       "\"\"\"\n",
       "                            OLS Regression Results                            \n",
       "==============================================================================\n",
       "Dep. Variable:                 TARGET   R-squared:                       0.003\n",
       "Model:                            OLS   Adj. R-squared:                  0.003\n",
       "Method:                 Least Squares   F-statistic:                     217.3\n",
       "Date:                Wed, 02 Sep 2020   Prob (F-statistic):          1.49e-186\n",
       "Time:                        10:59:39   Log-Likelihood:                -31309.\n",
       "No. Observations:              321207   AIC:                         6.263e+04\n",
       "Df Residuals:                  321202   BIC:                         6.268e+04\n",
       "Df Model:                           4                                         \n",
       "Covariance Type:            nonrobust                                         \n",
       "========================================================================================================================\n",
       "                                                           coef    std err          t      P>|t|      [0.025      0.975]\n",
       "------------------------------------------------------------------------------------------------------------------------\n",
       "Intercept                                                0.0183      0.021      0.878      0.380      -0.023       0.059\n",
       "NAME_EDUCATION_TYPE[T.Higher education]                  0.0347      0.021      1.663      0.096      -0.006       0.076\n",
       "NAME_EDUCATION_TYPE[T.Incomplete higher]                 0.0641      0.021      3.055      0.002       0.023       0.105\n",
       "NAME_EDUCATION_TYPE[T.Lower secondary]                   0.0910      0.021      4.277      0.000       0.049       0.133\n",
       "NAME_EDUCATION_TYPE[T.Secondary / secondary special]     0.0663      0.021      3.182      0.001       0.025       0.107\n",
       "==============================================================================\n",
       "Omnibus:                   200162.103   Durbin-Watson:                   1.992\n",
       "Prob(Omnibus):                  0.000   Jarque-Bera (JB):          1381891.553\n",
       "Skew:                           3.152   Prob(JB):                         0.00\n",
       "Kurtosis:                      10.970   Cond. No.                         126.\n",
       "==============================================================================\n",
       "\n",
       "Warnings:\n",
       "[1] Standard Errors assume that the covariance matrix of the errors is correctly specified.\n",
       "\"\"\""
      ]
     },
     "execution_count": 224,
     "metadata": {},
     "output_type": "execute_result"
    }
   ],
   "source": [
    "anova_8 = ols('TARGET ~ NAME_EDUCATION_TYPE', data = df_qual).fit()\n",
    "anova_8.summary()"
   ]
  },
  {
   "cell_type": "code",
   "execution_count": 225,
   "metadata": {
    "scrolled": true
   },
   "outputs": [
    {
     "data": {
      "text/html": [
       "<table class=\"simpletable\">\n",
       "<caption>OLS Regression Results</caption>\n",
       "<tr>\n",
       "  <th>Dep. Variable:</th>         <td>TARGET</td>      <th>  R-squared:         </th> <td>   0.000</td> \n",
       "</tr>\n",
       "<tr>\n",
       "  <th>Model:</th>                   <td>OLS</td>       <th>  Adj. R-squared:    </th> <td>   0.000</td> \n",
       "</tr>\n",
       "<tr>\n",
       "  <th>Method:</th>             <td>Least Squares</td>  <th>  F-statistic:       </th> <td>   67.07</td> \n",
       "</tr>\n",
       "<tr>\n",
       "  <th>Date:</th>             <td>Wed, 02 Sep 2020</td> <th>  Prob (F-statistic):</th> <td>2.62e-16</td> \n",
       "</tr>\n",
       "<tr>\n",
       "  <th>Time:</th>                 <td>10:59:40</td>     <th>  Log-Likelihood:    </th> <td> -31710.</td> \n",
       "</tr>\n",
       "<tr>\n",
       "  <th>No. Observations:</th>      <td>321207</td>      <th>  AIC:               </th> <td>6.342e+04</td>\n",
       "</tr>\n",
       "<tr>\n",
       "  <th>Df Residuals:</th>          <td>321205</td>      <th>  BIC:               </th> <td>6.344e+04</td>\n",
       "</tr>\n",
       "<tr>\n",
       "  <th>Df Model:</th>              <td>     1</td>      <th>                     </th>     <td> </td>    \n",
       "</tr>\n",
       "<tr>\n",
       "  <th>Covariance Type:</th>      <td>nonrobust</td>    <th>                     </th>     <td> </td>    \n",
       "</tr>\n",
       "</table>\n",
       "<table class=\"simpletable\">\n",
       "<tr>\n",
       "          <td></td>             <th>coef</th>     <th>std err</th>      <th>t</th>      <th>P>|t|</th>  <th>[0.025</th>    <th>0.975]</th>  \n",
       "</tr>\n",
       "<tr>\n",
       "  <th>Intercept</th>         <td>    0.0800</td> <td>    0.001</td> <td>  139.156</td> <td> 0.000</td> <td>    0.079</td> <td>    0.081</td>\n",
       "</tr>\n",
       "<tr>\n",
       "  <th>FLAG_OWN_CAR[T.Y]</th> <td>   -0.0082</td> <td>    0.001</td> <td>   -8.190</td> <td> 0.000</td> <td>   -0.010</td> <td>   -0.006</td>\n",
       "</tr>\n",
       "</table>\n",
       "<table class=\"simpletable\">\n",
       "<tr>\n",
       "  <th>Omnibus:</th>       <td>200876.208</td> <th>  Durbin-Watson:     </th>  <td>   1.993</td>  \n",
       "</tr>\n",
       "<tr>\n",
       "  <th>Prob(Omnibus):</th>   <td> 0.000</td>   <th>  Jarque-Bera (JB):  </th> <td>1395226.725</td>\n",
       "</tr>\n",
       "<tr>\n",
       "  <th>Skew:</th>            <td> 3.164</td>   <th>  Prob(JB):          </th>  <td>    0.00</td>  \n",
       "</tr>\n",
       "<tr>\n",
       "  <th>Kurtosis:</th>        <td>11.013</td>   <th>  Cond. No.          </th>  <td>    2.41</td>  \n",
       "</tr>\n",
       "</table><br/><br/>Warnings:<br/>[1] Standard Errors assume that the covariance matrix of the errors is correctly specified."
      ],
      "text/plain": [
       "<class 'statsmodels.iolib.summary.Summary'>\n",
       "\"\"\"\n",
       "                            OLS Regression Results                            \n",
       "==============================================================================\n",
       "Dep. Variable:                 TARGET   R-squared:                       0.000\n",
       "Model:                            OLS   Adj. R-squared:                  0.000\n",
       "Method:                 Least Squares   F-statistic:                     67.07\n",
       "Date:                Wed, 02 Sep 2020   Prob (F-statistic):           2.62e-16\n",
       "Time:                        10:59:40   Log-Likelihood:                -31710.\n",
       "No. Observations:              321207   AIC:                         6.342e+04\n",
       "Df Residuals:                  321205   BIC:                         6.344e+04\n",
       "Df Model:                           1                                         \n",
       "Covariance Type:            nonrobust                                         \n",
       "=====================================================================================\n",
       "                        coef    std err          t      P>|t|      [0.025      0.975]\n",
       "-------------------------------------------------------------------------------------\n",
       "Intercept             0.0800      0.001    139.156      0.000       0.079       0.081\n",
       "FLAG_OWN_CAR[T.Y]    -0.0082      0.001     -8.190      0.000      -0.010      -0.006\n",
       "==============================================================================\n",
       "Omnibus:                   200876.208   Durbin-Watson:                   1.993\n",
       "Prob(Omnibus):                  0.000   Jarque-Bera (JB):          1395226.725\n",
       "Skew:                           3.164   Prob(JB):                         0.00\n",
       "Kurtosis:                      11.013   Cond. No.                         2.41\n",
       "==============================================================================\n",
       "\n",
       "Warnings:\n",
       "[1] Standard Errors assume that the covariance matrix of the errors is correctly specified.\n",
       "\"\"\""
      ]
     },
     "execution_count": 225,
     "metadata": {},
     "output_type": "execute_result"
    }
   ],
   "source": [
    "anova_9 = ols('TARGET ~ FLAG_OWN_CAR', data = df_qual).fit()\n",
    "anova_9.summary()"
   ]
  },
  {
   "cell_type": "code",
   "execution_count": 226,
   "metadata": {
    "scrolled": true
   },
   "outputs": [
    {
     "data": {
      "text/html": [
       "<table class=\"simpletable\">\n",
       "<caption>OLS Regression Results</caption>\n",
       "<tr>\n",
       "  <th>Dep. Variable:</th>         <td>TARGET</td>      <th>  R-squared:         </th> <td>   0.005</td> \n",
       "</tr>\n",
       "<tr>\n",
       "  <th>Model:</th>                   <td>OLS</td>       <th>  Adj. R-squared:    </th> <td>   0.005</td> \n",
       "</tr>\n",
       "<tr>\n",
       "  <th>Method:</th>             <td>Least Squares</td>  <th>  F-statistic:       </th> <td>   26.79</td> \n",
       "</tr>\n",
       "<tr>\n",
       "  <th>Date:</th>             <td>Wed, 02 Sep 2020</td> <th>  Prob (F-statistic):</th> <td>4.96e-281</td>\n",
       "</tr>\n",
       "<tr>\n",
       "  <th>Time:</th>                 <td>10:59:42</td>     <th>  Log-Likelihood:    </th> <td> -30981.</td> \n",
       "</tr>\n",
       "<tr>\n",
       "  <th>No. Observations:</th>      <td>321207</td>      <th>  AIC:               </th> <td>6.208e+04</td>\n",
       "</tr>\n",
       "<tr>\n",
       "  <th>Df Residuals:</th>          <td>321149</td>      <th>  BIC:               </th> <td>6.270e+04</td>\n",
       "</tr>\n",
       "<tr>\n",
       "  <th>Df Model:</th>              <td>    57</td>      <th>                     </th>     <td> </td>    \n",
       "</tr>\n",
       "<tr>\n",
       "  <th>Covariance Type:</th>      <td>nonrobust</td>    <th>                     </th>     <td> </td>    \n",
       "</tr>\n",
       "</table>\n",
       "<table class=\"simpletable\">\n",
       "<tr>\n",
       "                       <td></td>                          <th>coef</th>     <th>std err</th>      <th>t</th>      <th>P>|t|</th>  <th>[0.025</th>    <th>0.975]</th>  \n",
       "</tr>\n",
       "<tr>\n",
       "  <th>Intercept</th>                                   <td>    0.0816</td> <td>    0.013</td> <td>    6.341</td> <td> 0.000</td> <td>    0.056</td> <td>    0.107</td>\n",
       "</tr>\n",
       "<tr>\n",
       "  <th>ORGANIZATION_TYPE[T.Agriculture]</th>            <td>    0.0231</td> <td>    0.014</td> <td>    1.659</td> <td> 0.097</td> <td>   -0.004</td> <td>    0.050</td>\n",
       "</tr>\n",
       "<tr>\n",
       "  <th>ORGANIZATION_TYPE[T.Bank]</th>                   <td>   -0.0297</td> <td>    0.014</td> <td>   -2.135</td> <td> 0.033</td> <td>   -0.057</td> <td>   -0.002</td>\n",
       "</tr>\n",
       "<tr>\n",
       "  <th>ORGANIZATION_TYPE[T.Business Entity Type 1]</th> <td>   -0.0002</td> <td>    0.013</td> <td>   -0.015</td> <td> 0.988</td> <td>   -0.026</td> <td>    0.026</td>\n",
       "</tr>\n",
       "<tr>\n",
       "  <th>ORGANIZATION_TYPE[T.Business Entity Type 2]</th> <td>    0.0037</td> <td>    0.013</td> <td>    0.282</td> <td> 0.778</td> <td>   -0.022</td> <td>    0.029</td>\n",
       "</tr>\n",
       "<tr>\n",
       "  <th>ORGANIZATION_TYPE[T.Business Entity Type 3]</th> <td>    0.0109</td> <td>    0.013</td> <td>    0.848</td> <td> 0.396</td> <td>   -0.014</td> <td>    0.036</td>\n",
       "</tr>\n",
       "<tr>\n",
       "  <th>ORGANIZATION_TYPE[T.Cleaning]</th>               <td>    0.0300</td> <td>    0.021</td> <td>    1.430</td> <td> 0.153</td> <td>   -0.011</td> <td>    0.071</td>\n",
       "</tr>\n",
       "<tr>\n",
       "  <th>ORGANIZATION_TYPE[T.Construction]</th>           <td>    0.0368</td> <td>    0.013</td> <td>    2.772</td> <td> 0.006</td> <td>    0.011</td> <td>    0.063</td>\n",
       "</tr>\n",
       "<tr>\n",
       "  <th>ORGANIZATION_TYPE[T.Culture]</th>                <td>   -0.0262</td> <td>    0.019</td> <td>   -1.393</td> <td> 0.164</td> <td>   -0.063</td> <td>    0.011</td>\n",
       "</tr>\n",
       "<tr>\n",
       "  <th>ORGANIZATION_TYPE[T.Electricity]</th>            <td>   -0.0153</td> <td>    0.016</td> <td>   -0.985</td> <td> 0.325</td> <td>   -0.046</td> <td>    0.015</td>\n",
       "</tr>\n",
       "<tr>\n",
       "  <th>ORGANIZATION_TYPE[T.Emergency]</th>              <td>   -0.0102</td> <td>    0.017</td> <td>   -0.594</td> <td> 0.553</td> <td>   -0.044</td> <td>    0.023</td>\n",
       "</tr>\n",
       "<tr>\n",
       "  <th>ORGANIZATION_TYPE[T.Government]</th>             <td>   -0.0145</td> <td>    0.013</td> <td>   -1.107</td> <td> 0.268</td> <td>   -0.040</td> <td>    0.011</td>\n",
       "</tr>\n",
       "<tr>\n",
       "  <th>ORGANIZATION_TYPE[T.Hotel]</th>                  <td>   -0.0174</td> <td>    0.015</td> <td>   -1.126</td> <td> 0.260</td> <td>   -0.048</td> <td>    0.013</td>\n",
       "</tr>\n",
       "<tr>\n",
       "  <th>ORGANIZATION_TYPE[T.Housing]</th>                <td>   -0.0021</td> <td>    0.014</td> <td>   -0.155</td> <td> 0.877</td> <td>   -0.029</td> <td>    0.025</td>\n",
       "</tr>\n",
       "<tr>\n",
       "  <th>ORGANIZATION_TYPE[T.Industry: type 1]</th>       <td>    0.0291</td> <td>    0.015</td> <td>    1.903</td> <td> 0.057</td> <td>   -0.001</td> <td>    0.059</td>\n",
       "</tr>\n",
       "<tr>\n",
       "  <th>ORGANIZATION_TYPE[T.Industry: type 10]</th>      <td>   -0.0174</td> <td>    0.029</td> <td>   -0.607</td> <td> 0.544</td> <td>   -0.073</td> <td>    0.039</td>\n",
       "</tr>\n",
       "<tr>\n",
       "  <th>ORGANIZATION_TYPE[T.Industry: type 11]</th>      <td>    0.0050</td> <td>    0.014</td> <td>    0.358</td> <td> 0.721</td> <td>   -0.022</td> <td>    0.032</td>\n",
       "</tr>\n",
       "<tr>\n",
       "  <th>ORGANIZATION_TYPE[T.Industry: type 12]</th>      <td>   -0.0436</td> <td>    0.019</td> <td>   -2.307</td> <td> 0.021</td> <td>   -0.081</td> <td>   -0.007</td>\n",
       "</tr>\n",
       "<tr>\n",
       "  <th>ORGANIZATION_TYPE[T.Industry: type 13]</th>      <td>    0.0527</td> <td>    0.035</td> <td>    1.507</td> <td> 0.132</td> <td>   -0.016</td> <td>    0.121</td>\n",
       "</tr>\n",
       "<tr>\n",
       "  <th>ORGANIZATION_TYPE[T.Industry: type 2]</th>       <td>   -0.0095</td> <td>    0.018</td> <td>   -0.532</td> <td> 0.594</td> <td>   -0.045</td> <td>    0.026</td>\n",
       "</tr>\n",
       "<tr>\n",
       "  <th>ORGANIZATION_TYPE[T.Industry: type 3]</th>       <td>    0.0246</td> <td>    0.014</td> <td>    1.796</td> <td> 0.072</td> <td>   -0.002</td> <td>    0.051</td>\n",
       "</tr>\n",
       "<tr>\n",
       "  <th>ORGANIZATION_TYPE[T.Industry: type 4]</th>       <td>    0.0199</td> <td>    0.016</td> <td>    1.267</td> <td> 0.205</td> <td>   -0.011</td> <td>    0.051</td>\n",
       "</tr>\n",
       "<tr>\n",
       "  <th>ORGANIZATION_TYPE[T.Industry: type 5]</th>       <td>   -0.0131</td> <td>    0.017</td> <td>   -0.779</td> <td> 0.436</td> <td>   -0.046</td> <td>    0.020</td>\n",
       "</tr>\n",
       "<tr>\n",
       "  <th>ORGANIZATION_TYPE[T.Industry: type 6]</th>       <td>   -0.0102</td> <td>    0.028</td> <td>   -0.359</td> <td> 0.719</td> <td>   -0.066</td> <td>    0.045</td>\n",
       "</tr>\n",
       "<tr>\n",
       "  <th>ORGANIZATION_TYPE[T.Industry: type 7]</th>       <td>   -0.0012</td> <td>    0.015</td> <td>   -0.084</td> <td> 0.933</td> <td>   -0.030</td> <td>    0.028</td>\n",
       "</tr>\n",
       "<tr>\n",
       "  <th>ORGANIZATION_TYPE[T.Industry: type 8]</th>       <td>    0.0434</td> <td>    0.056</td> <td>    0.777</td> <td> 0.437</td> <td>   -0.066</td> <td>    0.153</td>\n",
       "</tr>\n",
       "<tr>\n",
       "  <th>ORGANIZATION_TYPE[T.Industry: type 9]</th>       <td>   -0.0211</td> <td>    0.014</td> <td>   -1.549</td> <td> 0.121</td> <td>   -0.048</td> <td>    0.006</td>\n",
       "</tr>\n",
       "<tr>\n",
       "  <th>ORGANIZATION_TYPE[T.Insurance]</th>              <td>   -0.0246</td> <td>    0.017</td> <td>   -1.460</td> <td> 0.144</td> <td>   -0.058</td> <td>    0.008</td>\n",
       "</tr>\n",
       "<tr>\n",
       "  <th>ORGANIZATION_TYPE[T.Kindergarten]</th>           <td>   -0.0112</td> <td>    0.013</td> <td>   -0.847</td> <td> 0.397</td> <td>   -0.037</td> <td>    0.015</td>\n",
       "</tr>\n",
       "<tr>\n",
       "  <th>ORGANIZATION_TYPE[T.Legal Services]</th>         <td>   -0.0029</td> <td>    0.020</td> <td>   -0.145</td> <td> 0.885</td> <td>   -0.042</td> <td>    0.036</td>\n",
       "</tr>\n",
       "<tr>\n",
       "  <th>ORGANIZATION_TYPE[T.Medicine]</th>               <td>   -0.0158</td> <td>    0.013</td> <td>   -1.202</td> <td> 0.229</td> <td>   -0.041</td> <td>    0.010</td>\n",
       "</tr>\n",
       "<tr>\n",
       "  <th>ORGANIZATION_TYPE[T.Military]</th>               <td>   -0.0303</td> <td>    0.014</td> <td>   -2.186</td> <td> 0.029</td> <td>   -0.058</td> <td>   -0.003</td>\n",
       "</tr>\n",
       "<tr>\n",
       "  <th>ORGANIZATION_TYPE[T.Mobile]</th>                 <td>    0.0099</td> <td>    0.020</td> <td>    0.501</td> <td> 0.616</td> <td>   -0.029</td> <td>    0.049</td>\n",
       "</tr>\n",
       "<tr>\n",
       "  <th>ORGANIZATION_TYPE[T.Other]</th>                  <td>   -0.0203</td> <td>    0.013</td> <td>   -1.561</td> <td> 0.119</td> <td>   -0.046</td> <td>    0.005</td>\n",
       "</tr>\n",
       "<tr>\n",
       "  <th>ORGANIZATION_TYPE[T.Police]</th>                 <td>   -0.0316</td> <td>    0.014</td> <td>   -2.258</td> <td> 0.024</td> <td>   -0.059</td> <td>   -0.004</td>\n",
       "</tr>\n",
       "<tr>\n",
       "  <th>ORGANIZATION_TYPE[T.Postal]</th>                 <td>    0.0028</td> <td>    0.014</td> <td>    0.198</td> <td> 0.843</td> <td>   -0.025</td> <td>    0.030</td>\n",
       "</tr>\n",
       "<tr>\n",
       "  <th>ORGANIZATION_TYPE[T.Realtor]</th>                <td>    0.0245</td> <td>    0.019</td> <td>    1.318</td> <td> 0.188</td> <td>   -0.012</td> <td>    0.061</td>\n",
       "</tr>\n",
       "<tr>\n",
       "  <th>ORGANIZATION_TYPE[T.Religion]</th>               <td>   -0.0228</td> <td>    0.032</td> <td>   -0.719</td> <td> 0.472</td> <td>   -0.085</td> <td>    0.039</td>\n",
       "</tr>\n",
       "<tr>\n",
       "  <th>ORGANIZATION_TYPE[T.Restaurant]</th>             <td>    0.0355</td> <td>    0.014</td> <td>    2.479</td> <td> 0.013</td> <td>    0.007</td> <td>    0.064</td>\n",
       "</tr>\n",
       "<tr>\n",
       "  <th>ORGANIZATION_TYPE[T.School]</th>                 <td>   -0.0224</td> <td>    0.013</td> <td>   -1.703</td> <td> 0.089</td> <td>   -0.048</td> <td>    0.003</td>\n",
       "</tr>\n",
       "<tr>\n",
       "  <th>ORGANIZATION_TYPE[T.Security]</th>               <td>    0.0182</td> <td>    0.014</td> <td>    1.329</td> <td> 0.184</td> <td>   -0.009</td> <td>    0.045</td>\n",
       "</tr>\n",
       "<tr>\n",
       "  <th>ORGANIZATION_TYPE[T.Security Ministries]</th>    <td>   -0.0330</td> <td>    0.014</td> <td>   -2.321</td> <td> 0.020</td> <td>   -0.061</td> <td>   -0.005</td>\n",
       "</tr>\n",
       "<tr>\n",
       "  <th>ORGANIZATION_TYPE[T.Self-employed]</th>          <td>    0.0018</td> <td>    0.013</td> <td>    0.143</td> <td> 0.887</td> <td>   -0.023</td> <td>    0.027</td>\n",
       "</tr>\n",
       "<tr>\n",
       "  <th>ORGANIZATION_TYPE[T.Services]</th>               <td>   -0.0156</td> <td>    0.015</td> <td>   -1.072</td> <td> 0.284</td> <td>   -0.044</td> <td>    0.013</td>\n",
       "</tr>\n",
       "<tr>\n",
       "  <th>ORGANIZATION_TYPE[T.Telecom]</th>                <td>   -0.0053</td> <td>    0.017</td> <td>   -0.314</td> <td> 0.754</td> <td>   -0.039</td> <td>    0.028</td>\n",
       "</tr>\n",
       "<tr>\n",
       "  <th>ORGANIZATION_TYPE[T.Trade: type 1]</th>          <td>    0.0075</td> <td>    0.019</td> <td>    0.390</td> <td> 0.697</td> <td>   -0.030</td> <td>    0.045</td>\n",
       "</tr>\n",
       "<tr>\n",
       "  <th>ORGANIZATION_TYPE[T.Trade: type 2]</th>          <td>   -0.0116</td> <td>    0.014</td> <td>   -0.813</td> <td> 0.416</td> <td>   -0.040</td> <td>    0.016</td>\n",
       "</tr>\n",
       "<tr>\n",
       "  <th>ORGANIZATION_TYPE[T.Trade: type 3]</th>          <td>    0.0218</td> <td>    0.014</td> <td>    1.599</td> <td> 0.110</td> <td>   -0.005</td> <td>    0.049</td>\n",
       "</tr>\n",
       "<tr>\n",
       "  <th>ORGANIZATION_TYPE[T.Trade: type 4]</th>          <td>   -0.0503</td> <td>    0.036</td> <td>   -1.410</td> <td> 0.159</td> <td>   -0.120</td> <td>    0.020</td>\n",
       "</tr>\n",
       "<tr>\n",
       "  <th>ORGANIZATION_TYPE[T.Trade: type 5]</th>          <td>   -0.0204</td> <td>    0.040</td> <td>   -0.507</td> <td> 0.612</td> <td>   -0.099</td> <td>    0.058</td>\n",
       "</tr>\n",
       "<tr>\n",
       "  <th>ORGANIZATION_TYPE[T.Trade: type 6]</th>          <td>   -0.0356</td> <td>    0.017</td> <td>   -2.136</td> <td> 0.033</td> <td>   -0.068</td> <td>   -0.003</td>\n",
       "</tr>\n",
       "<tr>\n",
       "  <th>ORGANIZATION_TYPE[T.Trade: type 7]</th>          <td>    0.0129</td> <td>    0.013</td> <td>    0.977</td> <td> 0.329</td> <td>   -0.013</td> <td>    0.039</td>\n",
       "</tr>\n",
       "<tr>\n",
       "  <th>ORGANIZATION_TYPE[T.Transport: type 1]</th>      <td>   -0.0368</td> <td>    0.023</td> <td>   -1.616</td> <td> 0.106</td> <td>   -0.081</td> <td>    0.008</td>\n",
       "</tr>\n",
       "<tr>\n",
       "  <th>ORGANIZATION_TYPE[T.Transport: type 2]</th>      <td>   -0.0035</td> <td>    0.014</td> <td>   -0.252</td> <td> 0.801</td> <td>   -0.031</td> <td>    0.024</td>\n",
       "</tr>\n",
       "<tr>\n",
       "  <th>ORGANIZATION_TYPE[T.Transport: type 3]</th>      <td>    0.0760</td> <td>    0.015</td> <td>    5.059</td> <td> 0.000</td> <td>    0.047</td> <td>    0.105</td>\n",
       "</tr>\n",
       "<tr>\n",
       "  <th>ORGANIZATION_TYPE[T.Transport: type 4]</th>      <td>    0.0112</td> <td>    0.013</td> <td>    0.840</td> <td> 0.401</td> <td>   -0.015</td> <td>    0.037</td>\n",
       "</tr>\n",
       "<tr>\n",
       "  <th>ORGANIZATION_TYPE[T.University]</th>             <td>   -0.0326</td> <td>    0.015</td> <td>   -2.203</td> <td> 0.028</td> <td>   -0.062</td> <td>   -0.004</td>\n",
       "</tr>\n",
       "<tr>\n",
       "  <th>ORGANIZATION_TYPE[T.XNA]</th>                    <td>   -0.0276</td> <td>    0.013</td> <td>   -2.138</td> <td> 0.033</td> <td>   -0.053</td> <td>   -0.002</td>\n",
       "</tr>\n",
       "</table>\n",
       "<table class=\"simpletable\">\n",
       "<tr>\n",
       "  <th>Omnibus:</th>       <td>199633.752</td> <th>  Durbin-Watson:     </th>  <td>   1.994</td>  \n",
       "</tr>\n",
       "<tr>\n",
       "  <th>Prob(Omnibus):</th>   <td> 0.000</td>   <th>  Jarque-Bera (JB):  </th> <td>1372692.556</td>\n",
       "</tr>\n",
       "<tr>\n",
       "  <th>Skew:</th>            <td> 3.142</td>   <th>  Prob(JB):          </th>  <td>    0.00</td>  \n",
       "</tr>\n",
       "<tr>\n",
       "  <th>Kurtosis:</th>        <td>10.941</td>   <th>  Cond. No.          </th>  <td>    223.</td>  \n",
       "</tr>\n",
       "</table><br/><br/>Warnings:<br/>[1] Standard Errors assume that the covariance matrix of the errors is correctly specified."
      ],
      "text/plain": [
       "<class 'statsmodels.iolib.summary.Summary'>\n",
       "\"\"\"\n",
       "                            OLS Regression Results                            \n",
       "==============================================================================\n",
       "Dep. Variable:                 TARGET   R-squared:                       0.005\n",
       "Model:                            OLS   Adj. R-squared:                  0.005\n",
       "Method:                 Least Squares   F-statistic:                     26.79\n",
       "Date:                Wed, 02 Sep 2020   Prob (F-statistic):          4.96e-281\n",
       "Time:                        10:59:42   Log-Likelihood:                -30981.\n",
       "No. Observations:              321207   AIC:                         6.208e+04\n",
       "Df Residuals:                  321149   BIC:                         6.270e+04\n",
       "Df Model:                          57                                         \n",
       "Covariance Type:            nonrobust                                         \n",
       "===============================================================================================================\n",
       "                                                  coef    std err          t      P>|t|      [0.025      0.975]\n",
       "---------------------------------------------------------------------------------------------------------------\n",
       "Intercept                                       0.0816      0.013      6.341      0.000       0.056       0.107\n",
       "ORGANIZATION_TYPE[T.Agriculture]                0.0231      0.014      1.659      0.097      -0.004       0.050\n",
       "ORGANIZATION_TYPE[T.Bank]                      -0.0297      0.014     -2.135      0.033      -0.057      -0.002\n",
       "ORGANIZATION_TYPE[T.Business Entity Type 1]    -0.0002      0.013     -0.015      0.988      -0.026       0.026\n",
       "ORGANIZATION_TYPE[T.Business Entity Type 2]     0.0037      0.013      0.282      0.778      -0.022       0.029\n",
       "ORGANIZATION_TYPE[T.Business Entity Type 3]     0.0109      0.013      0.848      0.396      -0.014       0.036\n",
       "ORGANIZATION_TYPE[T.Cleaning]                   0.0300      0.021      1.430      0.153      -0.011       0.071\n",
       "ORGANIZATION_TYPE[T.Construction]               0.0368      0.013      2.772      0.006       0.011       0.063\n",
       "ORGANIZATION_TYPE[T.Culture]                   -0.0262      0.019     -1.393      0.164      -0.063       0.011\n",
       "ORGANIZATION_TYPE[T.Electricity]               -0.0153      0.016     -0.985      0.325      -0.046       0.015\n",
       "ORGANIZATION_TYPE[T.Emergency]                 -0.0102      0.017     -0.594      0.553      -0.044       0.023\n",
       "ORGANIZATION_TYPE[T.Government]                -0.0145      0.013     -1.107      0.268      -0.040       0.011\n",
       "ORGANIZATION_TYPE[T.Hotel]                     -0.0174      0.015     -1.126      0.260      -0.048       0.013\n",
       "ORGANIZATION_TYPE[T.Housing]                   -0.0021      0.014     -0.155      0.877      -0.029       0.025\n",
       "ORGANIZATION_TYPE[T.Industry: type 1]           0.0291      0.015      1.903      0.057      -0.001       0.059\n",
       "ORGANIZATION_TYPE[T.Industry: type 10]         -0.0174      0.029     -0.607      0.544      -0.073       0.039\n",
       "ORGANIZATION_TYPE[T.Industry: type 11]          0.0050      0.014      0.358      0.721      -0.022       0.032\n",
       "ORGANIZATION_TYPE[T.Industry: type 12]         -0.0436      0.019     -2.307      0.021      -0.081      -0.007\n",
       "ORGANIZATION_TYPE[T.Industry: type 13]          0.0527      0.035      1.507      0.132      -0.016       0.121\n",
       "ORGANIZATION_TYPE[T.Industry: type 2]          -0.0095      0.018     -0.532      0.594      -0.045       0.026\n",
       "ORGANIZATION_TYPE[T.Industry: type 3]           0.0246      0.014      1.796      0.072      -0.002       0.051\n",
       "ORGANIZATION_TYPE[T.Industry: type 4]           0.0199      0.016      1.267      0.205      -0.011       0.051\n",
       "ORGANIZATION_TYPE[T.Industry: type 5]          -0.0131      0.017     -0.779      0.436      -0.046       0.020\n",
       "ORGANIZATION_TYPE[T.Industry: type 6]          -0.0102      0.028     -0.359      0.719      -0.066       0.045\n",
       "ORGANIZATION_TYPE[T.Industry: type 7]          -0.0012      0.015     -0.084      0.933      -0.030       0.028\n",
       "ORGANIZATION_TYPE[T.Industry: type 8]           0.0434      0.056      0.777      0.437      -0.066       0.153\n",
       "ORGANIZATION_TYPE[T.Industry: type 9]          -0.0211      0.014     -1.549      0.121      -0.048       0.006\n",
       "ORGANIZATION_TYPE[T.Insurance]                 -0.0246      0.017     -1.460      0.144      -0.058       0.008\n",
       "ORGANIZATION_TYPE[T.Kindergarten]              -0.0112      0.013     -0.847      0.397      -0.037       0.015\n",
       "ORGANIZATION_TYPE[T.Legal Services]            -0.0029      0.020     -0.145      0.885      -0.042       0.036\n",
       "ORGANIZATION_TYPE[T.Medicine]                  -0.0158      0.013     -1.202      0.229      -0.041       0.010\n",
       "ORGANIZATION_TYPE[T.Military]                  -0.0303      0.014     -2.186      0.029      -0.058      -0.003\n",
       "ORGANIZATION_TYPE[T.Mobile]                     0.0099      0.020      0.501      0.616      -0.029       0.049\n",
       "ORGANIZATION_TYPE[T.Other]                     -0.0203      0.013     -1.561      0.119      -0.046       0.005\n",
       "ORGANIZATION_TYPE[T.Police]                    -0.0316      0.014     -2.258      0.024      -0.059      -0.004\n",
       "ORGANIZATION_TYPE[T.Postal]                     0.0028      0.014      0.198      0.843      -0.025       0.030\n",
       "ORGANIZATION_TYPE[T.Realtor]                    0.0245      0.019      1.318      0.188      -0.012       0.061\n",
       "ORGANIZATION_TYPE[T.Religion]                  -0.0228      0.032     -0.719      0.472      -0.085       0.039\n",
       "ORGANIZATION_TYPE[T.Restaurant]                 0.0355      0.014      2.479      0.013       0.007       0.064\n",
       "ORGANIZATION_TYPE[T.School]                    -0.0224      0.013     -1.703      0.089      -0.048       0.003\n",
       "ORGANIZATION_TYPE[T.Security]                   0.0182      0.014      1.329      0.184      -0.009       0.045\n",
       "ORGANIZATION_TYPE[T.Security Ministries]       -0.0330      0.014     -2.321      0.020      -0.061      -0.005\n",
       "ORGANIZATION_TYPE[T.Self-employed]              0.0018      0.013      0.143      0.887      -0.023       0.027\n",
       "ORGANIZATION_TYPE[T.Services]                  -0.0156      0.015     -1.072      0.284      -0.044       0.013\n",
       "ORGANIZATION_TYPE[T.Telecom]                   -0.0053      0.017     -0.314      0.754      -0.039       0.028\n",
       "ORGANIZATION_TYPE[T.Trade: type 1]              0.0075      0.019      0.390      0.697      -0.030       0.045\n",
       "ORGANIZATION_TYPE[T.Trade: type 2]             -0.0116      0.014     -0.813      0.416      -0.040       0.016\n",
       "ORGANIZATION_TYPE[T.Trade: type 3]              0.0218      0.014      1.599      0.110      -0.005       0.049\n",
       "ORGANIZATION_TYPE[T.Trade: type 4]             -0.0503      0.036     -1.410      0.159      -0.120       0.020\n",
       "ORGANIZATION_TYPE[T.Trade: type 5]             -0.0204      0.040     -0.507      0.612      -0.099       0.058\n",
       "ORGANIZATION_TYPE[T.Trade: type 6]             -0.0356      0.017     -2.136      0.033      -0.068      -0.003\n",
       "ORGANIZATION_TYPE[T.Trade: type 7]              0.0129      0.013      0.977      0.329      -0.013       0.039\n",
       "ORGANIZATION_TYPE[T.Transport: type 1]         -0.0368      0.023     -1.616      0.106      -0.081       0.008\n",
       "ORGANIZATION_TYPE[T.Transport: type 2]         -0.0035      0.014     -0.252      0.801      -0.031       0.024\n",
       "ORGANIZATION_TYPE[T.Transport: type 3]          0.0760      0.015      5.059      0.000       0.047       0.105\n",
       "ORGANIZATION_TYPE[T.Transport: type 4]          0.0112      0.013      0.840      0.401      -0.015       0.037\n",
       "ORGANIZATION_TYPE[T.University]                -0.0326      0.015     -2.203      0.028      -0.062      -0.004\n",
       "ORGANIZATION_TYPE[T.XNA]                       -0.0276      0.013     -2.138      0.033      -0.053      -0.002\n",
       "==============================================================================\n",
       "Omnibus:                   199633.752   Durbin-Watson:                   1.994\n",
       "Prob(Omnibus):                  0.000   Jarque-Bera (JB):          1372692.556\n",
       "Skew:                           3.142   Prob(JB):                         0.00\n",
       "Kurtosis:                      10.941   Cond. No.                         223.\n",
       "==============================================================================\n",
       "\n",
       "Warnings:\n",
       "[1] Standard Errors assume that the covariance matrix of the errors is correctly specified.\n",
       "\"\"\""
      ]
     },
     "execution_count": 226,
     "metadata": {},
     "output_type": "execute_result"
    }
   ],
   "source": [
    "anova_10 = ols('TARGET ~ ORGANIZATION_TYPE', data = df_qual).fit()\n",
    "anova_10.summary()"
   ]
  },
  {
   "cell_type": "code",
   "execution_count": 227,
   "metadata": {
    "scrolled": true
   },
   "outputs": [
    {
     "data": {
      "text/html": [
       "<table class=\"simpletable\">\n",
       "<caption>OLS Regression Results</caption>\n",
       "<tr>\n",
       "  <th>Dep. Variable:</th>         <td>TARGET</td>      <th>  R-squared:         </th> <td>   0.001</td> \n",
       "</tr>\n",
       "<tr>\n",
       "  <th>Model:</th>                   <td>OLS</td>       <th>  Adj. R-squared:    </th> <td>   0.001</td> \n",
       "</tr>\n",
       "<tr>\n",
       "  <th>Method:</th>             <td>Least Squares</td>  <th>  F-statistic:       </th> <td>   48.60</td> \n",
       "</tr>\n",
       "<tr>\n",
       "  <th>Date:</th>             <td>Wed, 02 Sep 2020</td> <th>  Prob (F-statistic):</th> <td>5.47e-60</td> \n",
       "</tr>\n",
       "<tr>\n",
       "  <th>Time:</th>                 <td>10:59:44</td>     <th>  Log-Likelihood:    </th> <td> -31597.</td> \n",
       "</tr>\n",
       "<tr>\n",
       "  <th>No. Observations:</th>      <td>321207</td>      <th>  AIC:               </th> <td>6.321e+04</td>\n",
       "</tr>\n",
       "<tr>\n",
       "  <th>Df Residuals:</th>          <td>321200</td>      <th>  BIC:               </th> <td>6.328e+04</td>\n",
       "</tr>\n",
       "<tr>\n",
       "  <th>Df Model:</th>              <td>     6</td>      <th>                     </th>     <td> </td>    \n",
       "</tr>\n",
       "<tr>\n",
       "  <th>Covariance Type:</th>      <td>nonrobust</td>    <th>                     </th>     <td> </td>    \n",
       "</tr>\n",
       "</table>\n",
       "<table class=\"simpletable\">\n",
       "<tr>\n",
       "                     <td></td>                        <th>coef</th>     <th>std err</th>      <th>t</th>      <th>P>|t|</th>  <th>[0.025</th>    <th>0.975]</th>  \n",
       "</tr>\n",
       "<tr>\n",
       "  <th>Intercept</th>                               <td>    0.0799</td> <td>    0.001</td> <td>   67.819</td> <td> 0.000</td> <td>    0.078</td> <td>    0.082</td>\n",
       "</tr>\n",
       "<tr>\n",
       "  <th>WEEKDAY_APPR_PROCESS_START[T.MONDAY]</th>    <td>   -0.0024</td> <td>    0.002</td> <td>   -1.419</td> <td> 0.156</td> <td>   -0.006</td> <td>    0.001</td>\n",
       "</tr>\n",
       "<tr>\n",
       "  <th>WEEKDAY_APPR_PROCESS_START[T.SATURDAY]</th>  <td>   -0.0218</td> <td>    0.002</td> <td>  -12.686</td> <td> 0.000</td> <td>   -0.025</td> <td>   -0.018</td>\n",
       "</tr>\n",
       "<tr>\n",
       "  <th>WEEKDAY_APPR_PROCESS_START[T.SUNDAY]</th>    <td>   -0.0023</td> <td>    0.002</td> <td>   -0.975</td> <td> 0.330</td> <td>   -0.007</td> <td>    0.002</td>\n",
       "</tr>\n",
       "<tr>\n",
       "  <th>WEEKDAY_APPR_PROCESS_START[T.THURSDAY]</th>  <td>    0.0010</td> <td>    0.002</td> <td>    0.612</td> <td> 0.540</td> <td>   -0.002</td> <td>    0.004</td>\n",
       "</tr>\n",
       "<tr>\n",
       "  <th>WEEKDAY_APPR_PROCESS_START[T.TUESDAY]</th>   <td>    0.0038</td> <td>    0.002</td> <td>    2.278</td> <td> 0.023</td> <td>    0.001</td> <td>    0.007</td>\n",
       "</tr>\n",
       "<tr>\n",
       "  <th>WEEKDAY_APPR_PROCESS_START[T.WEDNESDAY]</th> <td>    0.0012</td> <td>    0.002</td> <td>    0.710</td> <td> 0.478</td> <td>   -0.002</td> <td>    0.004</td>\n",
       "</tr>\n",
       "</table>\n",
       "<table class=\"simpletable\">\n",
       "<tr>\n",
       "  <th>Omnibus:</th>       <td>200675.865</td> <th>  Durbin-Watson:     </th>  <td>   1.997</td>  \n",
       "</tr>\n",
       "<tr>\n",
       "  <th>Prob(Omnibus):</th>   <td> 0.000</td>   <th>  Jarque-Bera (JB):  </th> <td>1391469.258</td>\n",
       "</tr>\n",
       "<tr>\n",
       "  <th>Skew:</th>            <td> 3.160</td>   <th>  Prob(JB):          </th>  <td>    0.00</td>  \n",
       "</tr>\n",
       "<tr>\n",
       "  <th>Kurtosis:</th>        <td>11.001</td>   <th>  Cond. No.          </th>  <td>    7.66</td>  \n",
       "</tr>\n",
       "</table><br/><br/>Warnings:<br/>[1] Standard Errors assume that the covariance matrix of the errors is correctly specified."
      ],
      "text/plain": [
       "<class 'statsmodels.iolib.summary.Summary'>\n",
       "\"\"\"\n",
       "                            OLS Regression Results                            \n",
       "==============================================================================\n",
       "Dep. Variable:                 TARGET   R-squared:                       0.001\n",
       "Model:                            OLS   Adj. R-squared:                  0.001\n",
       "Method:                 Least Squares   F-statistic:                     48.60\n",
       "Date:                Wed, 02 Sep 2020   Prob (F-statistic):           5.47e-60\n",
       "Time:                        10:59:44   Log-Likelihood:                -31597.\n",
       "No. Observations:              321207   AIC:                         6.321e+04\n",
       "Df Residuals:                  321200   BIC:                         6.328e+04\n",
       "Df Model:                           6                                         \n",
       "Covariance Type:            nonrobust                                         \n",
       "===========================================================================================================\n",
       "                                              coef    std err          t      P>|t|      [0.025      0.975]\n",
       "-----------------------------------------------------------------------------------------------------------\n",
       "Intercept                                   0.0799      0.001     67.819      0.000       0.078       0.082\n",
       "WEEKDAY_APPR_PROCESS_START[T.MONDAY]       -0.0024      0.002     -1.419      0.156      -0.006       0.001\n",
       "WEEKDAY_APPR_PROCESS_START[T.SATURDAY]     -0.0218      0.002    -12.686      0.000      -0.025      -0.018\n",
       "WEEKDAY_APPR_PROCESS_START[T.SUNDAY]       -0.0023      0.002     -0.975      0.330      -0.007       0.002\n",
       "WEEKDAY_APPR_PROCESS_START[T.THURSDAY]      0.0010      0.002      0.612      0.540      -0.002       0.004\n",
       "WEEKDAY_APPR_PROCESS_START[T.TUESDAY]       0.0038      0.002      2.278      0.023       0.001       0.007\n",
       "WEEKDAY_APPR_PROCESS_START[T.WEDNESDAY]     0.0012      0.002      0.710      0.478      -0.002       0.004\n",
       "==============================================================================\n",
       "Omnibus:                   200675.865   Durbin-Watson:                   1.997\n",
       "Prob(Omnibus):                  0.000   Jarque-Bera (JB):          1391469.258\n",
       "Skew:                           3.160   Prob(JB):                         0.00\n",
       "Kurtosis:                      11.001   Cond. No.                         7.66\n",
       "==============================================================================\n",
       "\n",
       "Warnings:\n",
       "[1] Standard Errors assume that the covariance matrix of the errors is correctly specified.\n",
       "\"\"\""
      ]
     },
     "execution_count": 227,
     "metadata": {},
     "output_type": "execute_result"
    }
   ],
   "source": [
    "anova_11 = ols('TARGET ~ WEEKDAY_APPR_PROCESS_START', data = df_qual).fit()\n",
    "anova_11.summary()"
   ]
  },
  {
   "cell_type": "code",
   "execution_count": 228,
   "metadata": {},
   "outputs": [],
   "source": [
    "# select des variables quali\n",
    "\n",
    "df_qual_select = df_qual[['SK_ID_CURR', 'TARGET','CODE_GENDER','NAME_EDUCATION_TYPE','NAME_INCOME_TYPE','ORGANIZATION_TYPE',\n",
    "                          'NAME_CONTRACT_TYPE','NAME_HOUSING_TYPE','NAME_FAMILY_STATUS','WEEKDAY_APPR_PROCESS_START',\n",
    "                          'NAME_TYPE_SUITE','FLAG_OWN_REALTY','FLAG_OWN_CAR']]"
   ]
  },
  {
   "cell_type": "markdown",
   "metadata": {},
   "source": [
    "### J'encode en one hot encoding les variables catégorielles en vu du scoring."
   ]
  },
  {
   "cell_type": "code",
   "execution_count": 229,
   "metadata": {},
   "outputs": [
    {
     "data": {
      "text/plain": [
       "Index(['SK_ID_CURR', 'TARGET', 'sex_F', 'sex_M', 'sex_XNA',\n",
       "       'educ_level_Academic degree', 'educ_level_Higher education',\n",
       "       'educ_level_Incomplete higher', 'educ_level_Lower secondary',\n",
       "       'educ_level_Secondary / secondary special',\n",
       "       ...\n",
       "       'type_suite_Family', 'type_suite_Group of people', 'type_suite_Other_A',\n",
       "       'type_suite_Other_B', 'type_suite_Spouse, partner',\n",
       "       'type_suite_Unaccompanied', 'flag_realty_N', 'flag_realty_Y',\n",
       "       'flag_car_N', 'flag_car_Y'],\n",
       "      dtype='object', length=108)"
      ]
     },
     "metadata": {},
     "output_type": "display_data"
    },
    {
     "data": {
      "text/plain": [
       "(321207, 108)"
      ]
     },
     "execution_count": 229,
     "metadata": {},
     "output_type": "execute_result"
    }
   ],
   "source": [
    "dummies = pd.get_dummies(df_qual_select, prefix = ['sex','educ_level','income_type','orga_type','name_contract',\n",
    "                                                   'housing_type','family_status','weekday_process','type_suite',\n",
    "                                                   'flag_realty','flag_car'], \n",
    "                            columns = ['CODE_GENDER','NAME_EDUCATION_TYPE','NAME_INCOME_TYPE','ORGANIZATION_TYPE',\n",
    "                                       'NAME_CONTRACT_TYPE','NAME_HOUSING_TYPE','NAME_FAMILY_STATUS',\n",
    "                                       'WEEKDAY_APPR_PROCESS_START','NAME_TYPE_SUITE','FLAG_OWN_REALTY',\n",
    "                                       'FLAG_OWN_CAR'])\n",
    "display(dummies.columns)\n",
    "dummies.shape"
   ]
  },
  {
   "cell_type": "code",
   "execution_count": 230,
   "metadata": {},
   "outputs": [
    {
     "data": {
      "text/plain": [
       "TARGET                                      1.000000\n",
       "sex_M                                       0.061405\n",
       "income_type_Working                         0.052828\n",
       "educ_level_Secondary / secondary special    0.043504\n",
       "housing_type_With parents                   0.032677\n",
       "                                              ...   \n",
       "housing_type_House / apartment             -0.032758\n",
       "orga_type_XNA                              -0.039904\n",
       "income_type_Pensioner                      -0.040126\n",
       "educ_level_Higher education                -0.050635\n",
       "sex_F                                      -0.061397\n",
       "Length: 108, dtype: float64"
      ]
     },
     "execution_count": 230,
     "metadata": {},
     "output_type": "execute_result"
    }
   ],
   "source": [
    "# Sélection de variables à plus grande influence\n",
    "\n",
    "importance_dummies = dummies.apply(lambda x: x.corr(dummies.TARGET))\n",
    "importance_dummies.sort_values(ascending = False)"
   ]
  },
  {
   "cell_type": "markdown",
   "metadata": {},
   "source": [
    "### Je fais une sélection des dummies en ne prenant que les plus influentes : > 0.005 et < -0.005"
   ]
  },
  {
   "cell_type": "code",
   "execution_count": 231,
   "metadata": {},
   "outputs": [
    {
     "data": {
      "text/plain": [
       "TARGET                                      1.000000\n",
       "sex_M                                       0.061405\n",
       "educ_level_Lower secondary                  0.013117\n",
       "educ_level_Secondary / secondary special    0.043504\n",
       "income_type_Working                         0.052828\n",
       "orga_type_Business Entity Type 3            0.029600\n",
       "orga_type_Construction                      0.022487\n",
       "orga_type_Industry: type 3                  0.010963\n",
       "orga_type_Restaurant                        0.011203\n",
       "orga_type_Trade: type 3                     0.010227\n",
       "orga_type_Trade: type 7                     0.010163\n",
       "orga_type_Transport: type 3                 0.018290\n",
       "name_contract_Cash loans                    0.027727\n",
       "housing_type_Rented apartment               0.021037\n",
       "housing_type_With parents                   0.032677\n",
       "family_status_Single / not married          0.029080\n",
       "weekday_process_TUESDAY                     0.010716\n",
       "type_suite_Unaccompanied                    0.010374\n",
       "flag_realty_N                               0.011734\n",
       "flag_car_N                                  0.014449\n",
       "dtype: float64"
      ]
     },
     "execution_count": 231,
     "metadata": {},
     "output_type": "execute_result"
    }
   ],
   "source": [
    "importance_dummies.loc[importance_dummies > 0.01]"
   ]
  },
  {
   "cell_type": "code",
   "execution_count": 232,
   "metadata": {},
   "outputs": [
    {
     "data": {
      "text/plain": [
       "sex_F                            -0.061397\n",
       "educ_level_Higher education      -0.050635\n",
       "income_type_Pensioner            -0.040126\n",
       "income_type_State servant        -0.031816\n",
       "orga_type_Other                  -0.015791\n",
       "orga_type_School                 -0.011483\n",
       "orga_type_XNA                    -0.039904\n",
       "name_contract_Revolving loans    -0.027727\n",
       "housing_type_House / apartment   -0.032758\n",
       "family_status_Married            -0.015411\n",
       "family_status_Widow              -0.016404\n",
       "weekday_process_SATURDAY         -0.029257\n",
       "type_suite_Family                -0.012744\n",
       "flag_realty_Y                    -0.011734\n",
       "flag_car_Y                       -0.014449\n",
       "dtype: float64"
      ]
     },
     "execution_count": 232,
     "metadata": {},
     "output_type": "execute_result"
    }
   ],
   "source": [
    "importance_dummies.loc[importance_dummies < -0.01]"
   ]
  },
  {
   "cell_type": "code",
   "execution_count": 233,
   "metadata": {},
   "outputs": [
    {
     "data": {
      "text/plain": [
       "(321207, 36)"
      ]
     },
     "execution_count": 233,
     "metadata": {},
     "output_type": "execute_result"
    }
   ],
   "source": [
    "dummies_reduced = dummies[['SK_ID_CURR','TARGET','sex_M','educ_level_Lower secondary',\n",
    "                           'educ_level_Secondary / secondary special','income_type_Working',\n",
    "                           'orga_type_Business Entity Type 3','orga_type_Construction',\n",
    "                           'orga_type_Industry: type 3','orga_type_Restaurant','orga_type_Trade: type 3',\n",
    "                           'orga_type_Trade: type 7','orga_type_Transport: type 3','name_contract_Cash loans',\n",
    "                           'housing_type_Rented apartment','housing_type_With parents',\n",
    "                           'family_status_Single / not married','weekday_process_TUESDAY',\n",
    "                           'type_suite_Unaccompanied','flag_realty_N','flag_car_N',\n",
    "                           \n",
    "                           'sex_F','educ_level_Higher education','income_type_Pensioner',\n",
    "                           'income_type_State servant','orga_type_Other','orga_type_School','orga_type_XNA',\n",
    "                           'name_contract_Revolving loans','housing_type_House / apartment',\n",
    "                           'family_status_Married','family_status_Widow','weekday_process_SATURDAY',\n",
    "                           'type_suite_Family','flag_realty_Y','flag_car_Y',]]\n",
    "\n",
    "dummies_reduced.shape"
   ]
  },
  {
   "cell_type": "markdown",
   "metadata": {},
   "source": [
    "### Il faut maintenant rassembler les 2 datasets, celui qui est numérique, et celui qui est qualitatif-dummisé."
   ]
  },
  {
   "cell_type": "code",
   "execution_count": 234,
   "metadata": {},
   "outputs": [],
   "source": [
    "#df_num.to_csv('df_num.csv', index = False)"
   ]
  },
  {
   "cell_type": "code",
   "execution_count": 235,
   "metadata": {},
   "outputs": [],
   "source": [
    "#dummies_reduced.to_csv('dummies_reduced.csv', index = False)"
   ]
  }
 ],
 "metadata": {
  "kernelspec": {
   "display_name": "Python 3",
   "language": "python",
   "name": "python3"
  },
  "language_info": {
   "codemirror_mode": {
    "name": "ipython",
    "version": 3
   },
   "file_extension": ".py",
   "mimetype": "text/x-python",
   "name": "python",
   "nbconvert_exporter": "python",
   "pygments_lexer": "ipython3",
   "version": "3.7.7"
  }
 },
 "nbformat": 4,
 "nbformat_minor": 2
}
